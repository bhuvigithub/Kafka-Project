{
 "cells": [
  {
   "cell_type": "code",
   "execution_count": 1,
   "metadata": {},
   "outputs": [
    {
     "data": {
      "text/html": [
       "<div>\n",
       "<style scoped>\n",
       "    .dataframe tbody tr th:only-of-type {\n",
       "        vertical-align: middle;\n",
       "    }\n",
       "\n",
       "    .dataframe tbody tr th {\n",
       "        vertical-align: top;\n",
       "    }\n",
       "\n",
       "    .dataframe thead th {\n",
       "        text-align: right;\n",
       "    }\n",
       "</style>\n",
       "<table border=\"1\" class=\"dataframe\">\n",
       "  <thead>\n",
       "    <tr style=\"text-align: right;\">\n",
       "      <th></th>\n",
       "      <th>timestamp</th>\n",
       "      <th>values</th>\n",
       "      <th>pod</th>\n",
       "    </tr>\n",
       "  </thead>\n",
       "  <tbody>\n",
       "    <tr>\n",
       "      <th>0</th>\n",
       "      <td>2021-07-30 23:51:48</td>\n",
       "      <td>1309573120</td>\n",
       "      <td>my-cluster-metrics-kafka-0</td>\n",
       "    </tr>\n",
       "    <tr>\n",
       "      <th>1</th>\n",
       "      <td>2021-07-30 23:52:01</td>\n",
       "      <td>1329111040</td>\n",
       "      <td>my-cluster-metrics-kafka-0</td>\n",
       "    </tr>\n",
       "    <tr>\n",
       "      <th>2</th>\n",
       "      <td>2021-07-30 23:52:17</td>\n",
       "      <td>1353482240</td>\n",
       "      <td>my-cluster-metrics-kafka-0</td>\n",
       "    </tr>\n",
       "  </tbody>\n",
       "</table>\n",
       "</div>"
      ],
      "text/plain": [
       "            timestamp      values                         pod\n",
       "0 2021-07-30 23:51:48  1309573120  my-cluster-metrics-kafka-0\n",
       "1 2021-07-30 23:52:01  1329111040  my-cluster-metrics-kafka-0\n",
       "2 2021-07-30 23:52:17  1353482240  my-cluster-metrics-kafka-0"
      ]
     },
     "execution_count": 1,
     "metadata": {},
     "output_type": "execute_result"
    }
   ],
   "source": [
    "import pandas as pd\n",
    "import datetime\n",
    "import matplotlib.pyplot as plt\n",
    "# DA on the Memory Usage of Broker-1\n",
    "df1b = pd.read_csv(\"Brok1mem_usage.csv\")\n",
    "df1b.drop(['name'], axis=1, inplace=True)\n",
    "df1b['timestamp'] = pd.to_datetime(df1b['timestamp'], unit='s')\n",
    "df1b.head(3)"
   ]
  },
  {
   "cell_type": "code",
   "execution_count": 2,
   "metadata": {},
   "outputs": [
    {
     "name": "stdout",
     "output_type": "stream",
     "text": [
      "2119469400.064\n"
     ]
    },
    {
     "data": {
      "text/html": [
       "<div>\n",
       "<style scoped>\n",
       "    .dataframe tbody tr th:only-of-type {\n",
       "        vertical-align: middle;\n",
       "    }\n",
       "\n",
       "    .dataframe tbody tr th {\n",
       "        vertical-align: top;\n",
       "    }\n",
       "\n",
       "    .dataframe thead th {\n",
       "        text-align: right;\n",
       "    }\n",
       "</style>\n",
       "<table border=\"1\" class=\"dataframe\">\n",
       "  <thead>\n",
       "    <tr style=\"text-align: right;\">\n",
       "      <th></th>\n",
       "      <th>values</th>\n",
       "    </tr>\n",
       "  </thead>\n",
       "  <tbody>\n",
       "    <tr>\n",
       "      <th>count</th>\n",
       "      <td>1.250000e+02</td>\n",
       "    </tr>\n",
       "    <tr>\n",
       "      <th>mean</th>\n",
       "      <td>2.119469e+09</td>\n",
       "    </tr>\n",
       "    <tr>\n",
       "      <th>std</th>\n",
       "      <td>3.982419e+08</td>\n",
       "    </tr>\n",
       "    <tr>\n",
       "      <th>min</th>\n",
       "      <td>1.309573e+09</td>\n",
       "    </tr>\n",
       "    <tr>\n",
       "      <th>25%</th>\n",
       "      <td>1.813529e+09</td>\n",
       "    </tr>\n",
       "    <tr>\n",
       "      <th>50%</th>\n",
       "      <td>2.278760e+09</td>\n",
       "    </tr>\n",
       "    <tr>\n",
       "      <th>75%</th>\n",
       "      <td>2.429846e+09</td>\n",
       "    </tr>\n",
       "    <tr>\n",
       "      <th>max</th>\n",
       "      <td>2.596737e+09</td>\n",
       "    </tr>\n",
       "  </tbody>\n",
       "</table>\n",
       "</div>"
      ],
      "text/plain": [
       "             values\n",
       "count  1.250000e+02\n",
       "mean   2.119469e+09\n",
       "std    3.982419e+08\n",
       "min    1.309573e+09\n",
       "25%    1.813529e+09\n",
       "50%    2.278760e+09\n",
       "75%    2.429846e+09\n",
       "max    2.596737e+09"
      ]
     },
     "execution_count": 2,
     "metadata": {},
     "output_type": "execute_result"
    }
   ],
   "source": [
    "#Average Memory Usage before rebalancing\n",
    "membr1 = df1b[(df1b['timestamp'] >= '2021-07-30 23:51:48') & (df1b['timestamp'] <= '2021-07-31 00:22:17')]\n",
    "membr1.head(3)\n",
    "membr1avg = membr1['values'].mean()\n",
    "print(membr1avg)\n",
    "membr1.describe()"
   ]
  },
  {
   "cell_type": "code",
   "execution_count": 3,
   "metadata": {},
   "outputs": [
    {
     "name": "stdout",
     "output_type": "stream",
     "text": [
      "2706372794.181818\n"
     ]
    },
    {
     "data": {
      "text/html": [
       "<div>\n",
       "<style scoped>\n",
       "    .dataframe tbody tr th:only-of-type {\n",
       "        vertical-align: middle;\n",
       "    }\n",
       "\n",
       "    .dataframe tbody tr th {\n",
       "        vertical-align: top;\n",
       "    }\n",
       "\n",
       "    .dataframe thead th {\n",
       "        text-align: right;\n",
       "    }\n",
       "</style>\n",
       "<table border=\"1\" class=\"dataframe\">\n",
       "  <thead>\n",
       "    <tr style=\"text-align: right;\">\n",
       "      <th></th>\n",
       "      <th>values</th>\n",
       "    </tr>\n",
       "  </thead>\n",
       "  <tbody>\n",
       "    <tr>\n",
       "      <th>count</th>\n",
       "      <td>1.100000e+01</td>\n",
       "    </tr>\n",
       "    <tr>\n",
       "      <th>mean</th>\n",
       "      <td>2.706373e+09</td>\n",
       "    </tr>\n",
       "    <tr>\n",
       "      <th>std</th>\n",
       "      <td>3.789763e+07</td>\n",
       "    </tr>\n",
       "    <tr>\n",
       "      <th>min</th>\n",
       "      <td>2.605253e+09</td>\n",
       "    </tr>\n",
       "    <tr>\n",
       "      <th>25%</th>\n",
       "      <td>2.702694e+09</td>\n",
       "    </tr>\n",
       "    <tr>\n",
       "      <th>50%</th>\n",
       "      <td>2.714976e+09</td>\n",
       "    </tr>\n",
       "    <tr>\n",
       "      <th>75%</th>\n",
       "      <td>2.721540e+09</td>\n",
       "    </tr>\n",
       "    <tr>\n",
       "      <th>max</th>\n",
       "      <td>2.755056e+09</td>\n",
       "    </tr>\n",
       "  </tbody>\n",
       "</table>\n",
       "</div>"
      ],
      "text/plain": [
       "             values\n",
       "count  1.100000e+01\n",
       "mean   2.706373e+09\n",
       "std    3.789763e+07\n",
       "min    2.605253e+09\n",
       "25%    2.702694e+09\n",
       "50%    2.714976e+09\n",
       "75%    2.721540e+09\n",
       "max    2.755056e+09"
      ]
     },
     "execution_count": 3,
     "metadata": {},
     "output_type": "execute_result"
    }
   ],
   "source": [
    "#Average Memory Usage During rebalancing\n",
    "memdr1 = df1b[(df1b['timestamp'] >= '2021-07-31 00:22:28') & (df1b['timestamp'] <= '2021-07-31 00:25:02')]\n",
    "memdr1.head(3)\n",
    "memdr1avg = memdr1['values'].mean()\n",
    "print(memdr1avg)\n",
    "memdr1.describe()"
   ]
  },
  {
   "cell_type": "code",
   "execution_count": 4,
   "metadata": {},
   "outputs": [
    {
     "name": "stdout",
     "output_type": "stream",
     "text": [
      "Ttest_indResult(statistic=4.869502905895133, pvalue=3.1017445901243864e-06)\n"
     ]
    }
   ],
   "source": [
    "#T-Stats Analysis\n",
    "from scipy.stats import ttest_ind\n",
    "resb1mem = ttest_ind(memdr1['values'], membr1['values'])\n",
    "print(resb1mem)\n"
   ]
  },
  {
   "cell_type": "code",
   "execution_count": 5,
   "metadata": {},
   "outputs": [
    {
     "name": "stdout",
     "output_type": "stream",
     "text": [
      "<class 'pandas.core.frame.DataFrame'>\n",
      "Int64Index: 125 entries, 0 to 124\n",
      "Data columns (total 2 columns):\n",
      " #   Column     Non-Null Count  Dtype         \n",
      "---  ------     --------------  -----         \n",
      " 0   timestamp  125 non-null    datetime64[ns]\n",
      " 1   values     125 non-null    int64         \n",
      "dtypes: datetime64[ns](1), int64(1)\n",
      "memory usage: 2.9 KB\n"
     ]
    },
    {
     "name": "stderr",
     "output_type": "stream",
     "text": [
      "C:\\Users\\Bhuvi\\anaconda3\\lib\\site-packages\\pandas\\core\\frame.py:4163: SettingWithCopyWarning: \n",
      "A value is trying to be set on a copy of a slice from a DataFrame\n",
      "\n",
      "See the caveats in the documentation: https://pandas.pydata.org/pandas-docs/stable/user_guide/indexing.html#returning-a-view-versus-a-copy\n",
      "  return super().drop(\n"
     ]
    }
   ],
   "source": [
    "membr1.drop(['pod'], axis=1, inplace=True)\n",
    "membr1.head(10)\n",
    "membr1.info()"
   ]
  },
  {
   "cell_type": "code",
   "execution_count": 6,
   "metadata": {},
   "outputs": [
    {
     "name": "stdout",
     "output_type": "stream",
     "text": [
      "<class 'pandas.core.frame.DataFrame'>\n",
      "Int64Index: 11 entries, 125 to 135\n",
      "Data columns (total 2 columns):\n",
      " #   Column     Non-Null Count  Dtype         \n",
      "---  ------     --------------  -----         \n",
      " 0   timestamp  11 non-null     datetime64[ns]\n",
      " 1   values     11 non-null     int64         \n",
      "dtypes: datetime64[ns](1), int64(1)\n",
      "memory usage: 264.0 bytes\n"
     ]
    }
   ],
   "source": [
    "memdr1.drop(['pod'], axis=1, inplace=True)\n",
    "memdr1.head(10)\n",
    "memdr1.info()"
   ]
  },
  {
   "cell_type": "code",
   "execution_count": 7,
   "metadata": {},
   "outputs": [
    {
     "data": {
      "text/plain": [
       "Text(0.5, 1.0, 'Broker1 Memory Usage')"
      ]
     },
     "execution_count": 7,
     "metadata": {},
     "output_type": "execute_result"
    },
    {
     "data": {
      "image/png": "[encoded data removed]",
      "text/plain": [
       "<Figure size 720x288 with 1 Axes>"
      ]
     },
     "metadata": {
      "needs_background": "light"
     },
     "output_type": "display_data"
    }
   ],
   "source": [
    "from datetime import datetime\n",
    "#Memory Usage for the entire load test\n",
    "m1=[]\n",
    "for dat in df1b.timestamp:\n",
    "    # print (dat)\n",
    "    m1.append(datetime.strptime(str(dat), \"%Y-%m-%d %H:%M:%S\"))\n",
    "fig1 = plt.figure(figsize=(10,4))\n",
    "axe1 = fig1.add_axes([0.2, 0.1, 0.6, 0.8])\n",
    "axe1.plot(m1,df1b['values'], 'g')\n",
    "axe1.set_xlabel('time stamps')\n",
    "axe1.set_ylabel('memory usage')\n",
    "axe1.set_title('Broker1 Memory Usage')\n",
    "#fig1.tight_layout()"
   ]
  },
  {
   "cell_type": "code",
   "execution_count": 8,
   "metadata": {},
   "outputs": [
    {
     "data": {
      "image/png": "[encoded data removed]",
      "text/plain": [
       "<Figure size 432x288 with 1 Axes>"
      ]
     },
     "metadata": {
      "needs_background": "light"
     },
     "output_type": "display_data"
    }
   ],
   "source": [
    "#Memory Usage before rebalancing\n",
    "b=[]\n",
    "for dat in membr1.timestamp:\n",
    "    # print (dat)\n",
    "    b.append(datetime.strptime(str(dat), \"%Y-%m-%d %H:%M:%S\"))\n",
    "plt.plot(b,membr1['values'])\n",
    "plt.xticks(rotation=90)\n",
    "plt.xlabel('time stamps')\n",
    "plt.ylabel('memory usage')\n",
    "plt.title('Broker1 Memory Usage before Rebalancing')\n",
    "plt.show()"
   ]
  },
  {
   "cell_type": "code",
   "execution_count": 9,
   "metadata": {},
   "outputs": [
    {
     "data": {
      "image/png": "[encoded data removed]",
      "text/plain": [
       "<Figure size 432x288 with 1 Axes>"
      ]
     },
     "metadata": {
      "needs_background": "light"
     },
     "output_type": "display_data"
    }
   ],
   "source": [
    "#Memory Usage during rebalancing\n",
    "d=[]\n",
    "for dat in memdr1.timestamp:\n",
    "    # print (dat)\n",
    "    d.append(datetime.strptime(str(dat), \"%Y-%m-%d %H:%M:%S\"))\n",
    "plt.plot(d,memdr1['values'])\n",
    "plt.xticks(rotation=90)\n",
    "plt.xlabel('time stamps')\n",
    "plt.ylabel('memory usage')\n",
    "plt.title('Broker1 Memory Usage during Rebalancing')\n",
    "plt.show()"
   ]
  },
  {
   "cell_type": "code",
   "execution_count": 10,
   "metadata": {},
   "outputs": [
    {
     "data": {
      "text/html": [
       "<div>\n",
       "<style scoped>\n",
       "    .dataframe tbody tr th:only-of-type {\n",
       "        vertical-align: middle;\n",
       "    }\n",
       "\n",
       "    .dataframe tbody tr th {\n",
       "        vertical-align: top;\n",
       "    }\n",
       "\n",
       "    .dataframe thead th {\n",
       "        text-align: right;\n",
       "    }\n",
       "</style>\n",
       "<table border=\"1\" class=\"dataframe\">\n",
       "  <thead>\n",
       "    <tr style=\"text-align: right;\">\n",
       "      <th></th>\n",
       "      <th>timestamp</th>\n",
       "      <th>values</th>\n",
       "      <th>pod</th>\n",
       "    </tr>\n",
       "  </thead>\n",
       "  <tbody>\n",
       "    <tr>\n",
       "      <th>0</th>\n",
       "      <td>2021-07-30 23:51:48</td>\n",
       "      <td>1309573120</td>\n",
       "      <td>my-cluster-metrics-kafka-1</td>\n",
       "    </tr>\n",
       "    <tr>\n",
       "      <th>1</th>\n",
       "      <td>2021-07-30 23:52:01</td>\n",
       "      <td>1329111040</td>\n",
       "      <td>my-cluster-metrics-kafka-1</td>\n",
       "    </tr>\n",
       "    <tr>\n",
       "      <th>2</th>\n",
       "      <td>2021-07-30 23:52:17</td>\n",
       "      <td>1353482240</td>\n",
       "      <td>my-cluster-metrics-kafka-1</td>\n",
       "    </tr>\n",
       "  </tbody>\n",
       "</table>\n",
       "</div>"
      ],
      "text/plain": [
       "            timestamp      values                         pod\n",
       "0 2021-07-30 23:51:48  1309573120  my-cluster-metrics-kafka-1\n",
       "1 2021-07-30 23:52:01  1329111040  my-cluster-metrics-kafka-1\n",
       "2 2021-07-30 23:52:17  1353482240  my-cluster-metrics-kafka-1"
      ]
     },
     "execution_count": 10,
     "metadata": {},
     "output_type": "execute_result"
    }
   ],
   "source": [
    "# DA on the Memory Usage of Broker-2\n",
    "df2b = pd.read_csv(\"Brok2mem_usage.csv\")\n",
    "df2b.drop(['name'], axis=1, inplace=True)\n",
    "df2b['timestamp'] = pd.to_datetime(df2b['timestamp'], unit='s')\n",
    "df2b.head(3)"
   ]
  },
  {
   "cell_type": "code",
   "execution_count": 11,
   "metadata": {},
   "outputs": [
    {
     "name": "stdout",
     "output_type": "stream",
     "text": [
      "2115721909.6774194\n"
     ]
    },
    {
     "data": {
      "text/html": [
       "<div>\n",
       "<style scoped>\n",
       "    .dataframe tbody tr th:only-of-type {\n",
       "        vertical-align: middle;\n",
       "    }\n",
       "\n",
       "    .dataframe tbody tr th {\n",
       "        vertical-align: top;\n",
       "    }\n",
       "\n",
       "    .dataframe thead th {\n",
       "        text-align: right;\n",
       "    }\n",
       "</style>\n",
       "<table border=\"1\" class=\"dataframe\">\n",
       "  <thead>\n",
       "    <tr style=\"text-align: right;\">\n",
       "      <th></th>\n",
       "      <th>values</th>\n",
       "    </tr>\n",
       "  </thead>\n",
       "  <tbody>\n",
       "    <tr>\n",
       "      <th>count</th>\n",
       "      <td>1.240000e+02</td>\n",
       "    </tr>\n",
       "    <tr>\n",
       "      <th>mean</th>\n",
       "      <td>2.115722e+09</td>\n",
       "    </tr>\n",
       "    <tr>\n",
       "      <th>std</th>\n",
       "      <td>3.976383e+08</td>\n",
       "    </tr>\n",
       "    <tr>\n",
       "      <th>min</th>\n",
       "      <td>1.309573e+09</td>\n",
       "    </tr>\n",
       "    <tr>\n",
       "      <th>25%</th>\n",
       "      <td>1.811949e+09</td>\n",
       "    </tr>\n",
       "    <tr>\n",
       "      <th>50%</th>\n",
       "      <td>2.264371e+09</td>\n",
       "    </tr>\n",
       "    <tr>\n",
       "      <th>75%</th>\n",
       "      <td>2.427455e+09</td>\n",
       "    </tr>\n",
       "    <tr>\n",
       "      <th>max</th>\n",
       "      <td>2.596737e+09</td>\n",
       "    </tr>\n",
       "  </tbody>\n",
       "</table>\n",
       "</div>"
      ],
      "text/plain": [
       "             values\n",
       "count  1.240000e+02\n",
       "mean   2.115722e+09\n",
       "std    3.976383e+08\n",
       "min    1.309573e+09\n",
       "25%    1.811949e+09\n",
       "50%    2.264371e+09\n",
       "75%    2.427455e+09\n",
       "max    2.596737e+09"
      ]
     },
     "execution_count": 11,
     "metadata": {},
     "output_type": "execute_result"
    }
   ],
   "source": [
    "#Average Memory Usage before rebalancing\n",
    "membr2 = df2b[(df2b['timestamp'] >= '2021-07-30 23:51:48') & (df2b['timestamp'] <= '2021-07-31 00:22:06')]\n",
    "membr2.head(3)\n",
    "membr2avg = membr2['values'].mean()\n",
    "print(membr2avg)\n",
    "membr2.describe()"
   ]
  },
  {
   "cell_type": "code",
   "execution_count": 12,
   "metadata": {},
   "outputs": [
    {
     "name": "stdout",
     "output_type": "stream",
     "text": [
      "2696188245.3333335\n"
     ]
    },
    {
     "data": {
      "text/html": [
       "<div>\n",
       "<style scoped>\n",
       "    .dataframe tbody tr th:only-of-type {\n",
       "        vertical-align: middle;\n",
       "    }\n",
       "\n",
       "    .dataframe tbody tr th {\n",
       "        vertical-align: top;\n",
       "    }\n",
       "\n",
       "    .dataframe thead th {\n",
       "        text-align: right;\n",
       "    }\n",
       "</style>\n",
       "<table border=\"1\" class=\"dataframe\">\n",
       "  <thead>\n",
       "    <tr style=\"text-align: right;\">\n",
       "      <th></th>\n",
       "      <th>values</th>\n",
       "    </tr>\n",
       "  </thead>\n",
       "  <tbody>\n",
       "    <tr>\n",
       "      <th>count</th>\n",
       "      <td>1.200000e+01</td>\n",
       "    </tr>\n",
       "    <tr>\n",
       "      <th>mean</th>\n",
       "      <td>2.696188e+09</td>\n",
       "    </tr>\n",
       "    <tr>\n",
       "      <th>std</th>\n",
       "      <td>5.050113e+07</td>\n",
       "    </tr>\n",
       "    <tr>\n",
       "      <th>min</th>\n",
       "      <td>2.584158e+09</td>\n",
       "    </tr>\n",
       "    <tr>\n",
       "      <th>25%</th>\n",
       "      <td>2.690877e+09</td>\n",
       "    </tr>\n",
       "    <tr>\n",
       "      <th>50%</th>\n",
       "      <td>2.714843e+09</td>\n",
       "    </tr>\n",
       "    <tr>\n",
       "      <th>75%</th>\n",
       "      <td>2.720724e+09</td>\n",
       "    </tr>\n",
       "    <tr>\n",
       "      <th>max</th>\n",
       "      <td>2.755056e+09</td>\n",
       "    </tr>\n",
       "  </tbody>\n",
       "</table>\n",
       "</div>"
      ],
      "text/plain": [
       "             values\n",
       "count  1.200000e+01\n",
       "mean   2.696188e+09\n",
       "std    5.050113e+07\n",
       "min    2.584158e+09\n",
       "25%    2.690877e+09\n",
       "50%    2.714843e+09\n",
       "75%    2.720724e+09\n",
       "max    2.755056e+09"
      ]
     },
     "execution_count": 12,
     "metadata": {},
     "output_type": "execute_result"
    }
   ],
   "source": [
    "#Average Memory Usage During rebalancing\n",
    "memdr2 = df2b[(df2b['timestamp'] >= '2021-07-31 00:22:17') & (df2b['timestamp'] <= '2021-07-31 00:25:02')]\n",
    "memdr2.head(3)\n",
    "memdr2avg = memdr2['values'].mean()\n",
    "print(memdr2avg)\n",
    "memdr2.describe()"
   ]
  },
  {
   "cell_type": "code",
   "execution_count": 13,
   "metadata": {},
   "outputs": [
    {
     "name": "stdout",
     "output_type": "stream",
     "text": [
      "Ttest_indResult(statistic=4.869502905895133, pvalue=3.1017445901243864e-06)\n"
     ]
    }
   ],
   "source": [
    "#T-Stats Analysis\n",
    "resb2mem = ttest_ind(memdr2['values'], membr2['values'])\n",
    "print(resb1mem)"
   ]
  },
  {
   "cell_type": "code",
   "execution_count": 14,
   "metadata": {},
   "outputs": [
    {
     "name": "stdout",
     "output_type": "stream",
     "text": [
      "<class 'pandas.core.frame.DataFrame'>\n",
      "Int64Index: 124 entries, 0 to 123\n",
      "Data columns (total 2 columns):\n",
      " #   Column     Non-Null Count  Dtype         \n",
      "---  ------     --------------  -----         \n",
      " 0   timestamp  124 non-null    datetime64[ns]\n",
      " 1   values     124 non-null    int64         \n",
      "dtypes: datetime64[ns](1), int64(1)\n",
      "memory usage: 2.9 KB\n"
     ]
    },
    {
     "name": "stderr",
     "output_type": "stream",
     "text": [
      "C:\\Users\\Bhuvi\\anaconda3\\lib\\site-packages\\pandas\\core\\frame.py:4163: SettingWithCopyWarning: \n",
      "A value is trying to be set on a copy of a slice from a DataFrame\n",
      "\n",
      "See the caveats in the documentation: https://pandas.pydata.org/pandas-docs/stable/user_guide/indexing.html#returning-a-view-versus-a-copy\n",
      "  return super().drop(\n"
     ]
    }
   ],
   "source": [
    "membr2.drop(['pod'], axis=1, inplace=True)\n",
    "membr2.head(10)\n",
    "membr2.info()"
   ]
  },
  {
   "cell_type": "code",
   "execution_count": 15,
   "metadata": {},
   "outputs": [
    {
     "name": "stdout",
     "output_type": "stream",
     "text": [
      "<class 'pandas.core.frame.DataFrame'>\n",
      "Int64Index: 12 entries, 124 to 135\n",
      "Data columns (total 2 columns):\n",
      " #   Column     Non-Null Count  Dtype         \n",
      "---  ------     --------------  -----         \n",
      " 0   timestamp  12 non-null     datetime64[ns]\n",
      " 1   values     12 non-null     int64         \n",
      "dtypes: datetime64[ns](1), int64(1)\n",
      "memory usage: 288.0 bytes\n"
     ]
    }
   ],
   "source": [
    "memdr2.drop(['pod'], axis=1, inplace=True)\n",
    "memdr2.head(10)\n",
    "memdr2.info()"
   ]
  },
  {
   "cell_type": "code",
   "execution_count": 16,
   "metadata": {},
   "outputs": [
    {
     "data": {
      "text/plain": [
       "Text(0.5, 1.0, 'Broker2 Memory Usage')"
      ]
     },
     "execution_count": 16,
     "metadata": {},
     "output_type": "execute_result"
    },
    {
     "data": {
      "image/png": "[encoded data removed]",
      "text/plain": [
       "<Figure size 720x288 with 1 Axes>"
      ]
     },
     "metadata": {
      "needs_background": "light"
     },
     "output_type": "display_data"
    }
   ],
   "source": [
    "from datetime import datetime\n",
    "#Memory Usage for the entire load test\n",
    "m2=[]\n",
    "for dat in df2b.timestamp:\n",
    "    # print (dat)\n",
    "    m2.append(datetime.strptime(str(dat), \"%Y-%m-%d %H:%M:%S\"))\n",
    "fig2 = plt.figure(figsize=(10,4))\n",
    "axe2 = fig2.add_axes([0.2, 0.1, 0.6, 0.8])\n",
    "axe2.plot(m2,df2b['values'], 'b')\n",
    "axe2.set_xlabel('time stamps')\n",
    "axe2.set_ylabel('memory usage')\n",
    "axe2.set_title('Broker2 Memory Usage')\n",
    "#fig1.tight_layout()"
   ]
  },
  {
   "cell_type": "code",
   "execution_count": 17,
   "metadata": {},
   "outputs": [
    {
     "data": {
      "image/png": "[encoded data removed]",
      "text/plain": [
       "<Figure size 432x288 with 1 Axes>"
      ]
     },
     "metadata": {
      "needs_background": "light"
     },
     "output_type": "display_data"
    }
   ],
   "source": [
    "#Memory Usage before rebalancing\n",
    "b2=[]\n",
    "for dat in membr2.timestamp:\n",
    "    # print (dat)\n",
    "    b2.append(datetime.strptime(str(dat), \"%Y-%m-%d %H:%M:%S\"))\n",
    "plt.plot(b2,membr2['values'])\n",
    "plt.xticks(rotation=90)\n",
    "plt.xlabel('time stamps')\n",
    "plt.ylabel('memory usage')\n",
    "plt.title('Broker2 Memory Usage before Rebalancing')\n",
    "plt.show()"
   ]
  },
  {
   "cell_type": "code",
   "execution_count": 18,
   "metadata": {},
   "outputs": [
    {
     "data": {
      "image/png": "[encoded data removed]",
      "text/plain": [
       "<Figure size 432x288 with 1 Axes>"
      ]
     },
     "metadata": {
      "needs_background": "light"
     },
     "output_type": "display_data"
    }
   ],
   "source": [
    "#Memory Usage during rebalancing\n",
    "d2=[]\n",
    "for dat in memdr2.timestamp:\n",
    "    # print (dat)\n",
    "    d2.append(datetime.strptime(str(dat), \"%Y-%m-%d %H:%M:%S\"))\n",
    "plt.plot(d2,memdr2['values'])\n",
    "plt.xticks(rotation=90)\n",
    "plt.xlabel('time stamps')\n",
    "plt.ylabel('memory usage')\n",
    "plt.title('Broker2 Memory Usage during Rebalancing')\n",
    "plt.show()"
   ]
  },
  {
   "cell_type": "code",
   "execution_count": 19,
   "metadata": {},
   "outputs": [
    {
     "data": {
      "text/html": [
       "<div>\n",
       "<style scoped>\n",
       "    .dataframe tbody tr th:only-of-type {\n",
       "        vertical-align: middle;\n",
       "    }\n",
       "\n",
       "    .dataframe tbody tr th {\n",
       "        vertical-align: top;\n",
       "    }\n",
       "\n",
       "    .dataframe thead th {\n",
       "        text-align: right;\n",
       "    }\n",
       "</style>\n",
       "<table border=\"1\" class=\"dataframe\">\n",
       "  <thead>\n",
       "    <tr style=\"text-align: right;\">\n",
       "      <th></th>\n",
       "      <th>timestamp</th>\n",
       "      <th>values</th>\n",
       "      <th>pod</th>\n",
       "    </tr>\n",
       "  </thead>\n",
       "  <tbody>\n",
       "    <tr>\n",
       "      <th>0</th>\n",
       "      <td>2021-07-30 23:50:47</td>\n",
       "      <td>1119051776</td>\n",
       "      <td>my-cluster-metrics-kafka-2</td>\n",
       "    </tr>\n",
       "    <tr>\n",
       "      <th>1</th>\n",
       "      <td>2021-07-30 23:51:06</td>\n",
       "      <td>1134104576</td>\n",
       "      <td>my-cluster-metrics-kafka-2</td>\n",
       "    </tr>\n",
       "    <tr>\n",
       "      <th>2</th>\n",
       "      <td>2021-07-30 23:51:22</td>\n",
       "      <td>1230602240</td>\n",
       "      <td>my-cluster-metrics-kafka-2</td>\n",
       "    </tr>\n",
       "  </tbody>\n",
       "</table>\n",
       "</div>"
      ],
      "text/plain": [
       "            timestamp      values                         pod\n",
       "0 2021-07-30 23:50:47  1119051776  my-cluster-metrics-kafka-2\n",
       "1 2021-07-30 23:51:06  1134104576  my-cluster-metrics-kafka-2\n",
       "2 2021-07-30 23:51:22  1230602240  my-cluster-metrics-kafka-2"
      ]
     },
     "execution_count": 19,
     "metadata": {},
     "output_type": "execute_result"
    }
   ],
   "source": [
    "# DA on the Memory Usage of Broker-3\n",
    "df3b = pd.read_csv(\"Brok3mem_usage.csv\")\n",
    "df3b.drop(['name'], axis=1, inplace=True)\n",
    "df3b['timestamp'] = pd.to_datetime(df3b['timestamp'], unit='s')\n",
    "df3b.head(3)"
   ]
  },
  {
   "cell_type": "code",
   "execution_count": 20,
   "metadata": {},
   "outputs": [
    {
     "name": "stdout",
     "output_type": "stream",
     "text": [
      "2147427336.3252032\n"
     ]
    },
    {
     "data": {
      "text/html": [
       "<div>\n",
       "<style scoped>\n",
       "    .dataframe tbody tr th:only-of-type {\n",
       "        vertical-align: middle;\n",
       "    }\n",
       "\n",
       "    .dataframe tbody tr th {\n",
       "        vertical-align: top;\n",
       "    }\n",
       "\n",
       "    .dataframe thead th {\n",
       "        text-align: right;\n",
       "    }\n",
       "</style>\n",
       "<table border=\"1\" class=\"dataframe\">\n",
       "  <thead>\n",
       "    <tr style=\"text-align: right;\">\n",
       "      <th></th>\n",
       "      <th>values</th>\n",
       "    </tr>\n",
       "  </thead>\n",
       "  <tbody>\n",
       "    <tr>\n",
       "      <th>count</th>\n",
       "      <td>1.230000e+02</td>\n",
       "    </tr>\n",
       "    <tr>\n",
       "      <th>mean</th>\n",
       "      <td>2.147427e+09</td>\n",
       "    </tr>\n",
       "    <tr>\n",
       "      <th>std</th>\n",
       "      <td>4.562602e+08</td>\n",
       "    </tr>\n",
       "    <tr>\n",
       "      <th>min</th>\n",
       "      <td>1.119052e+09</td>\n",
       "    </tr>\n",
       "    <tr>\n",
       "      <th>25%</th>\n",
       "      <td>1.803610e+09</td>\n",
       "    </tr>\n",
       "    <tr>\n",
       "      <th>50%</th>\n",
       "      <td>2.418205e+09</td>\n",
       "    </tr>\n",
       "    <tr>\n",
       "      <th>75%</th>\n",
       "      <td>2.518548e+09</td>\n",
       "    </tr>\n",
       "    <tr>\n",
       "      <th>max</th>\n",
       "      <td>2.563113e+09</td>\n",
       "    </tr>\n",
       "  </tbody>\n",
       "</table>\n",
       "</div>"
      ],
      "text/plain": [
       "             values\n",
       "count  1.230000e+02\n",
       "mean   2.147427e+09\n",
       "std    4.562602e+08\n",
       "min    1.119052e+09\n",
       "25%    1.803610e+09\n",
       "50%    2.418205e+09\n",
       "75%    2.518548e+09\n",
       "max    2.563113e+09"
      ]
     },
     "execution_count": 20,
     "metadata": {},
     "output_type": "execute_result"
    }
   ],
   "source": [
    "#Average Memory Usage before rebalancing\n",
    "membr3 = df3b[(df3b['timestamp'] >= '2021-07-30 23:50:47') & (df3b['timestamp'] <= '2021-07-31 00:22:04')]\n",
    "membr3.head(3)\n",
    "membr3avg = membr3['values'].mean()\n",
    "print(membr3avg)\n",
    "membr3.describe()"
   ]
  },
  {
   "cell_type": "code",
   "execution_count": 21,
   "metadata": {},
   "outputs": [
    {
     "name": "stdout",
     "output_type": "stream",
     "text": [
      "2696188245.3333335\n"
     ]
    },
    {
     "data": {
      "text/html": [
       "<div>\n",
       "<style scoped>\n",
       "    .dataframe tbody tr th:only-of-type {\n",
       "        vertical-align: middle;\n",
       "    }\n",
       "\n",
       "    .dataframe tbody tr th {\n",
       "        vertical-align: top;\n",
       "    }\n",
       "\n",
       "    .dataframe thead th {\n",
       "        text-align: right;\n",
       "    }\n",
       "</style>\n",
       "<table border=\"1\" class=\"dataframe\">\n",
       "  <thead>\n",
       "    <tr style=\"text-align: right;\">\n",
       "      <th></th>\n",
       "      <th>values</th>\n",
       "    </tr>\n",
       "  </thead>\n",
       "  <tbody>\n",
       "    <tr>\n",
       "      <th>count</th>\n",
       "      <td>1.300000e+01</td>\n",
       "    </tr>\n",
       "    <tr>\n",
       "      <th>mean</th>\n",
       "      <td>2.547439e+09</td>\n",
       "    </tr>\n",
       "    <tr>\n",
       "      <th>std</th>\n",
       "      <td>3.345370e+07</td>\n",
       "    </tr>\n",
       "    <tr>\n",
       "      <th>min</th>\n",
       "      <td>2.469847e+09</td>\n",
       "    </tr>\n",
       "    <tr>\n",
       "      <th>25%</th>\n",
       "      <td>2.531488e+09</td>\n",
       "    </tr>\n",
       "    <tr>\n",
       "      <th>50%</th>\n",
       "      <td>2.543800e+09</td>\n",
       "    </tr>\n",
       "    <tr>\n",
       "      <th>75%</th>\n",
       "      <td>2.575352e+09</td>\n",
       "    </tr>\n",
       "    <tr>\n",
       "      <th>max</th>\n",
       "      <td>2.590814e+09</td>\n",
       "    </tr>\n",
       "  </tbody>\n",
       "</table>\n",
       "</div>"
      ],
      "text/plain": [
       "             values\n",
       "count  1.300000e+01\n",
       "mean   2.547439e+09\n",
       "std    3.345370e+07\n",
       "min    2.469847e+09\n",
       "25%    2.531488e+09\n",
       "50%    2.543800e+09\n",
       "75%    2.575352e+09\n",
       "max    2.590814e+09"
      ]
     },
     "execution_count": 21,
     "metadata": {},
     "output_type": "execute_result"
    }
   ],
   "source": [
    "#Average Memory Usage During rebalancing\n",
    "memdr3 = df3b[(df3b['timestamp'] >= '2021-07-31 00:22:23') & (df3b['timestamp'] <= '2021-07-31 00:25:06')]\n",
    "memdr3.head(3)\n",
    "memdr3avg = memdr2['values'].mean()\n",
    "print(memdr3avg)\n",
    "memdr3.describe()"
   ]
  },
  {
   "cell_type": "code",
   "execution_count": 22,
   "metadata": {},
   "outputs": [
    {
     "name": "stdout",
     "output_type": "stream",
     "text": [
      "Ttest_indResult(statistic=3.1497254753805155, pvalue=0.0020156061739602655)\n"
     ]
    }
   ],
   "source": [
    "#T-Stats Analysis\n",
    "resb3mem = ttest_ind(memdr3['values'], membr3['values'])\n",
    "print(resb3mem)\n"
   ]
  },
  {
   "cell_type": "code",
   "execution_count": 23,
   "metadata": {},
   "outputs": [
    {
     "name": "stdout",
     "output_type": "stream",
     "text": [
      "<class 'pandas.core.frame.DataFrame'>\n",
      "Int64Index: 123 entries, 0 to 122\n",
      "Data columns (total 2 columns):\n",
      " #   Column     Non-Null Count  Dtype         \n",
      "---  ------     --------------  -----         \n",
      " 0   timestamp  123 non-null    datetime64[ns]\n",
      " 1   values     123 non-null    int64         \n",
      "dtypes: datetime64[ns](1), int64(1)\n",
      "memory usage: 2.9 KB\n"
     ]
    },
    {
     "name": "stderr",
     "output_type": "stream",
     "text": [
      "C:\\Users\\Bhuvi\\anaconda3\\lib\\site-packages\\pandas\\core\\frame.py:4163: SettingWithCopyWarning: \n",
      "A value is trying to be set on a copy of a slice from a DataFrame\n",
      "\n",
      "See the caveats in the documentation: https://pandas.pydata.org/pandas-docs/stable/user_guide/indexing.html#returning-a-view-versus-a-copy\n",
      "  return super().drop(\n"
     ]
    }
   ],
   "source": [
    "membr3.drop(['pod'], axis=1, inplace=True)\n",
    "membr3.head(10)\n",
    "membr3.info()"
   ]
  },
  {
   "cell_type": "code",
   "execution_count": 24,
   "metadata": {},
   "outputs": [
    {
     "name": "stdout",
     "output_type": "stream",
     "text": [
      "<class 'pandas.core.frame.DataFrame'>\n",
      "Int64Index: 13 entries, 123 to 135\n",
      "Data columns (total 2 columns):\n",
      " #   Column     Non-Null Count  Dtype         \n",
      "---  ------     --------------  -----         \n",
      " 0   timestamp  13 non-null     datetime64[ns]\n",
      " 1   values     13 non-null     int64         \n",
      "dtypes: datetime64[ns](1), int64(1)\n",
      "memory usage: 312.0 bytes\n"
     ]
    }
   ],
   "source": [
    "memdr3.drop(['pod'], axis=1, inplace=True)\n",
    "memdr3.head(10)\n",
    "memdr3.info()\n"
   ]
  },
  {
   "cell_type": "code",
   "execution_count": 25,
   "metadata": {},
   "outputs": [
    {
     "data": {
      "text/plain": [
       "Text(0.5, 1.0, 'Broker3 Memory Usage')"
      ]
     },
     "execution_count": 25,
     "metadata": {},
     "output_type": "execute_result"
    },
    {
     "data": {
      "image/png": "[encoded data removed]",
      "text/plain": [
       "<Figure size 720x288 with 1 Axes>"
      ]
     },
     "metadata": {
      "needs_background": "light"
     },
     "output_type": "display_data"
    }
   ],
   "source": [
    "from datetime import datetime\n",
    "#Memory Usage for the entire load test\n",
    "m3=[]\n",
    "for dat in df3b.timestamp:\n",
    "    # print (dat)\n",
    "    m3.append(datetime.strptime(str(dat), \"%Y-%m-%d %H:%M:%S\"))\n",
    "fig3 = plt.figure(figsize=(10,4))\n",
    "axe3 = fig3.add_axes([0.2, 0.1, 0.6, 0.8])\n",
    "axe3.plot(m3,df3b['values'], 'r')\n",
    "axe3.set_xlabel('time stamps')\n",
    "axe3.set_ylabel('memory usage')\n",
    "axe2.set_title('Broker3 Memory Usage')\n",
    "#fig1.tight_layout()"
   ]
  },
  {
   "cell_type": "code",
   "execution_count": 26,
   "metadata": {},
   "outputs": [
    {
     "data": {
      "image/png": "[encoded data removed]",
      "text/plain": [
       "<Figure size 432x288 with 1 Axes>"
      ]
     },
     "metadata": {
      "needs_background": "light"
     },
     "output_type": "display_data"
    }
   ],
   "source": [
    "#Memory Usage before rebalancing\n",
    "b3=[]\n",
    "for dat in membr3.timestamp:\n",
    "    # print (dat)\n",
    "    b3.append(datetime.strptime(str(dat), \"%Y-%m-%d %H:%M:%S\"))\n",
    "plt.plot(b3,membr3['values'])\n",
    "plt.xticks(rotation=90)\n",
    "plt.xlabel('time stamps')\n",
    "plt.ylabel('memory usage')\n",
    "plt.title('Broker3 Memory Usage before Rebalancing')\n",
    "plt.show()"
   ]
  },
  {
   "cell_type": "code",
   "execution_count": 27,
   "metadata": {},
   "outputs": [
    {
     "data": {
      "image/png": "[encoded data removed]",
      "text/plain": [
       "<Figure size 432x288 with 1 Axes>"
      ]
     },
     "metadata": {
      "needs_background": "light"
     },
     "output_type": "display_data"
    }
   ],
   "source": [
    "#Memory Usage during rebalancing\n",
    "d3=[]\n",
    "for dat in memdr3.timestamp:\n",
    "    # print (dat)\n",
    "    d3.append(datetime.strptime(str(dat), \"%Y-%m-%d %H:%M:%S\"))\n",
    "plt.plot(d3,memdr3['values'])\n",
    "plt.xticks(rotation=90)\n",
    "plt.xlabel('time stamps')\n",
    "plt.ylabel('memory usage')\n",
    "plt.title('Broker3 Memory Usage during Rebalancing')\n",
    "plt.show()"
   ]
  },
  {
   "cell_type": "code",
   "execution_count": 28,
   "metadata": {},
   "outputs": [
    {
     "data": {
      "image/png": "[encoded data removed]",
      "text/plain": [
       "<Figure size 432x288 with 1 Axes>"
      ]
     },
     "metadata": {
      "needs_background": "light"
     },
     "output_type": "display_data"
    }
   ],
   "source": [
    "plt.plot(d,memdr1['values'])\n",
    "plt.plot(d2,memdr2['values'])\n",
    "plt.plot(d3,memdr3['values'])\n",
    "plt.xticks(rotation=90)\n",
    "plt.xlabel('time stamps')\n",
    "plt.ylabel('memory usage')\n",
    "plt.title('Mem Usage during Rebalancing across 3 brokers')\n",
    "plt.legend(['broker0', 'broker1', 'broker2'], loc='best')\n",
    "plt.show()"
   ]
  },
  {
   "cell_type": "code",
   "execution_count": null,
   "metadata": {},
   "outputs": [],
   "source": []
  },
  {
   "cell_type": "code",
   "execution_count": null,
   "metadata": {},
   "outputs": [],
   "source": []
  },
  {
   "cell_type": "code",
   "execution_count": null,
   "metadata": {},
   "outputs": [],
   "source": []
  },
  {
   "cell_type": "code",
   "execution_count": null,
   "metadata": {},
   "outputs": [],
   "source": []
  }
 ],
 "metadata": {
  "kernelspec": {
   "display_name": "Python 3",
   "language": "python",
   "name": "python3"
  },
  "language_info": {
   "codemirror_mode": {
    "name": "ipython",
    "version": 3
   },
   "file_extension": ".py",
   "mimetype": "text/x-python",
   "name": "python",
   "nbconvert_exporter": "python",
   "pygments_lexer": "ipython3",
   "version": "3.8.5"
  }
 },
 "nbformat": 4,
 "nbformat_minor": 4
}
