{
 "cells": [
  {
   "cell_type": "code",
   "execution_count": 1,
   "metadata": {},
   "outputs": [
    {
     "data": {
      "text/html": [
       "<div>\n",
       "<style scoped>\n",
       "    .dataframe tbody tr th:only-of-type {\n",
       "        vertical-align: middle;\n",
       "    }\n",
       "\n",
       "    .dataframe tbody tr th {\n",
       "        vertical-align: top;\n",
       "    }\n",
       "\n",
       "    .dataframe thead th {\n",
       "        text-align: right;\n",
       "    }\n",
       "</style>\n",
       "<table border=\"1\" class=\"dataframe\">\n",
       "  <thead>\n",
       "    <tr style=\"text-align: right;\">\n",
       "      <th></th>\n",
       "      <th>timestamp</th>\n",
       "      <th>values</th>\n",
       "      <th>pod</th>\n",
       "    </tr>\n",
       "  </thead>\n",
       "  <tbody>\n",
       "    <tr>\n",
       "      <th>0</th>\n",
       "      <td>2021-08-13 18:17:32</td>\n",
       "      <td>482940176</td>\n",
       "      <td>my-cluster-metrics-kafka-0</td>\n",
       "    </tr>\n",
       "    <tr>\n",
       "      <th>1</th>\n",
       "      <td>2021-08-13 18:18:02</td>\n",
       "      <td>495718228</td>\n",
       "      <td>my-cluster-metrics-kafka-0</td>\n",
       "    </tr>\n",
       "    <tr>\n",
       "      <th>2</th>\n",
       "      <td>2021-08-13 18:18:32</td>\n",
       "      <td>506827105</td>\n",
       "      <td>my-cluster-metrics-kafka-0</td>\n",
       "    </tr>\n",
       "  </tbody>\n",
       "</table>\n",
       "</div>"
      ],
      "text/plain": [
       "            timestamp     values                         pod\n",
       "0 2021-08-13 18:17:32  482940176  my-cluster-metrics-kafka-0\n",
       "1 2021-08-13 18:18:02  495718228  my-cluster-metrics-kafka-0\n",
       "2 2021-08-13 18:18:32  506827105  my-cluster-metrics-kafka-0"
      ]
     },
     "execution_count": 1,
     "metadata": {},
     "output_type": "execute_result"
    }
   ],
   "source": [
    "import pandas as pd\n",
    "import datetime\n",
    "import matplotlib.pyplot as plt\n",
    "# DA on the Input Rate of Broker-1\n",
    "df1b = pd.read_csv(\"Brok1IR.csv\")\n",
    "df1b.drop(['name'], axis=1, inplace=True)\n",
    "df1b['timestamp'] = pd.to_datetime(df1b['timestamp'], unit='s')\n",
    "df1b.head(3)"
   ]
  },
  {
   "cell_type": "code",
   "execution_count": 2,
   "metadata": {},
   "outputs": [
    {
     "name": "stdout",
     "output_type": "stream",
     "text": [
      "652276749.16\n"
     ]
    },
    {
     "data": {
      "text/html": [
       "<div>\n",
       "<style scoped>\n",
       "    .dataframe tbody tr th:only-of-type {\n",
       "        vertical-align: middle;\n",
       "    }\n",
       "\n",
       "    .dataframe tbody tr th {\n",
       "        vertical-align: top;\n",
       "    }\n",
       "\n",
       "    .dataframe thead th {\n",
       "        text-align: right;\n",
       "    }\n",
       "</style>\n",
       "<table border=\"1\" class=\"dataframe\">\n",
       "  <thead>\n",
       "    <tr style=\"text-align: right;\">\n",
       "      <th></th>\n",
       "      <th>values</th>\n",
       "    </tr>\n",
       "  </thead>\n",
       "  <tbody>\n",
       "    <tr>\n",
       "      <th>count</th>\n",
       "      <td>2.500000e+01</td>\n",
       "    </tr>\n",
       "    <tr>\n",
       "      <th>mean</th>\n",
       "      <td>6.522767e+08</td>\n",
       "    </tr>\n",
       "    <tr>\n",
       "      <th>std</th>\n",
       "      <td>1.008716e+08</td>\n",
       "    </tr>\n",
       "    <tr>\n",
       "      <th>min</th>\n",
       "      <td>4.829402e+08</td>\n",
       "    </tr>\n",
       "    <tr>\n",
       "      <th>25%</th>\n",
       "      <td>5.737440e+08</td>\n",
       "    </tr>\n",
       "    <tr>\n",
       "      <th>50%</th>\n",
       "      <td>6.580417e+08</td>\n",
       "    </tr>\n",
       "    <tr>\n",
       "      <th>75%</th>\n",
       "      <td>7.334212e+08</td>\n",
       "    </tr>\n",
       "    <tr>\n",
       "      <th>max</th>\n",
       "      <td>8.148921e+08</td>\n",
       "    </tr>\n",
       "  </tbody>\n",
       "</table>\n",
       "</div>"
      ],
      "text/plain": [
       "             values\n",
       "count  2.500000e+01\n",
       "mean   6.522767e+08\n",
       "std    1.008716e+08\n",
       "min    4.829402e+08\n",
       "25%    5.737440e+08\n",
       "50%    6.580417e+08\n",
       "75%    7.334212e+08\n",
       "max    8.148921e+08"
      ]
     },
     "execution_count": 2,
     "metadata": {},
     "output_type": "execute_result"
    }
   ],
   "source": [
    "#Average Input Rate before rebalancing\n",
    "irbr1 = df1b[(df1b['timestamp'] >= '2021-08-13 18:17:32') & (df1b['timestamp'] <= '2021-08-13 18:30:00')]\n",
    "irbr1.head(3)\n",
    "irbr1avg = irbr1['values'].mean()\n",
    "print(irbr1avg)\n",
    "irbr1.describe()"
   ]
  },
  {
   "cell_type": "code",
   "execution_count": 3,
   "metadata": {},
   "outputs": [
    {
     "name": "stdout",
     "output_type": "stream",
     "text": [
      "1001128559.5\n"
     ]
    },
    {
     "data": {
      "text/html": [
       "<div>\n",
       "<style scoped>\n",
       "    .dataframe tbody tr th:only-of-type {\n",
       "        vertical-align: middle;\n",
       "    }\n",
       "\n",
       "    .dataframe tbody tr th {\n",
       "        vertical-align: top;\n",
       "    }\n",
       "\n",
       "    .dataframe thead th {\n",
       "        text-align: right;\n",
       "    }\n",
       "</style>\n",
       "<table border=\"1\" class=\"dataframe\">\n",
       "  <thead>\n",
       "    <tr style=\"text-align: right;\">\n",
       "      <th></th>\n",
       "      <th>values</th>\n",
       "    </tr>\n",
       "  </thead>\n",
       "  <tbody>\n",
       "    <tr>\n",
       "      <th>count</th>\n",
       "      <td>2.400000e+01</td>\n",
       "    </tr>\n",
       "    <tr>\n",
       "      <th>mean</th>\n",
       "      <td>1.001129e+09</td>\n",
       "    </tr>\n",
       "    <tr>\n",
       "      <th>std</th>\n",
       "      <td>8.988006e+07</td>\n",
       "    </tr>\n",
       "    <tr>\n",
       "      <th>min</th>\n",
       "      <td>8.632949e+08</td>\n",
       "    </tr>\n",
       "    <tr>\n",
       "      <th>25%</th>\n",
       "      <td>9.272717e+08</td>\n",
       "    </tr>\n",
       "    <tr>\n",
       "      <th>50%</th>\n",
       "      <td>9.922826e+08</td>\n",
       "    </tr>\n",
       "    <tr>\n",
       "      <th>75%</th>\n",
       "      <td>1.079686e+09</td>\n",
       "    </tr>\n",
       "    <tr>\n",
       "      <th>max</th>\n",
       "      <td>1.144864e+09</td>\n",
       "    </tr>\n",
       "  </tbody>\n",
       "</table>\n",
       "</div>"
      ],
      "text/plain": [
       "             values\n",
       "count  2.400000e+01\n",
       "mean   1.001129e+09\n",
       "std    8.988006e+07\n",
       "min    8.632949e+08\n",
       "25%    9.272717e+08\n",
       "50%    9.922826e+08\n",
       "75%    1.079686e+09\n",
       "max    1.144864e+09"
      ]
     },
     "execution_count": 3,
     "metadata": {},
     "output_type": "execute_result"
    }
   ],
   "source": [
    "#Average Input Rate During rebalancing\n",
    "irdr1 = df1b[(df1b['timestamp'] >= '2021-08-13 18:31:00') & (df1b['timestamp'] <= '2021-08-13 18:43:00')]\n",
    "irdr1.head(3)\n",
    "irdr1avg = irdr1['values'].mean()\n",
    "print(irdr1avg)\n",
    "irdr1.describe()"
   ]
  },
  {
   "cell_type": "code",
   "execution_count": 4,
   "metadata": {},
   "outputs": [
    {
     "name": "stdout",
     "output_type": "stream",
     "text": [
      "Ttest_indResult(statistic=12.762341613253545, pvalue=6.985848016287978e-17)\n"
     ]
    }
   ],
   "source": [
    "#T-Stats Analysis\n",
    "from scipy.stats import ttest_ind\n",
    "resb1ir = ttest_ind(irdr1['values'], irbr1['values'])\n",
    "print(resb1ir)"
   ]
  },
  {
   "cell_type": "code",
   "execution_count": 5,
   "metadata": {},
   "outputs": [
    {
     "name": "stdout",
     "output_type": "stream",
     "text": [
      "<class 'pandas.core.frame.DataFrame'>\n",
      "Int64Index: 25 entries, 0 to 24\n",
      "Data columns (total 2 columns):\n",
      " #   Column     Non-Null Count  Dtype         \n",
      "---  ------     --------------  -----         \n",
      " 0   timestamp  25 non-null     datetime64[ns]\n",
      " 1   values     25 non-null     int64         \n",
      "dtypes: datetime64[ns](1), int64(1)\n",
      "memory usage: 600.0 bytes\n"
     ]
    },
    {
     "name": "stderr",
     "output_type": "stream",
     "text": [
      "C:\\Users\\Bhuvi\\anaconda3\\lib\\site-packages\\pandas\\core\\frame.py:4163: SettingWithCopyWarning: \n",
      "A value is trying to be set on a copy of a slice from a DataFrame\n",
      "\n",
      "See the caveats in the documentation: https://pandas.pydata.org/pandas-docs/stable/user_guide/indexing.html#returning-a-view-versus-a-copy\n",
      "  return super().drop(\n"
     ]
    }
   ],
   "source": [
    "irbr1.drop(['pod'], axis=1, inplace=True)\n",
    "irbr1.head(10)\n",
    "irbr1.info()"
   ]
  },
  {
   "cell_type": "code",
   "execution_count": 6,
   "metadata": {},
   "outputs": [
    {
     "name": "stdout",
     "output_type": "stream",
     "text": [
      "<class 'pandas.core.frame.DataFrame'>\n",
      "Int64Index: 24 entries, 27 to 50\n",
      "Data columns (total 2 columns):\n",
      " #   Column     Non-Null Count  Dtype         \n",
      "---  ------     --------------  -----         \n",
      " 0   timestamp  24 non-null     datetime64[ns]\n",
      " 1   values     24 non-null     int64         \n",
      "dtypes: datetime64[ns](1), int64(1)\n",
      "memory usage: 576.0 bytes\n"
     ]
    }
   ],
   "source": [
    "irdr1.drop(['pod'], axis=1, inplace=True)\n",
    "irdr1.head(10)\n",
    "irdr1.info()"
   ]
  },
  {
   "cell_type": "code",
   "execution_count": 7,
   "metadata": {},
   "outputs": [
    {
     "data": {
      "text/plain": [
       "Text(0.5, 1.0, 'Broker1 Input Rate')"
      ]
     },
     "execution_count": 7,
     "metadata": {},
     "output_type": "execute_result"
    },
    {
     "data": {
      "image/png": "[encoded data removed]",
      "text/plain": [
       "<Figure size 720x288 with 1 Axes>"
      ]
     },
     "metadata": {
      "needs_background": "light"
     },
     "output_type": "display_data"
    }
   ],
   "source": [
    "from datetime import datetime\n",
    "#Input Rate for the entire load test\n",
    "i1=[]\n",
    "for dat in df1b.timestamp:\n",
    "    # print (dat)\n",
    "    i1.append(datetime.strptime(str(dat), \"%Y-%m-%d %H:%M:%S\"))\n",
    "fig1 = plt.figure(figsize=(10,4))\n",
    "axe1 = fig1.add_axes([0.2, 0.1, 0.6, 0.8])\n",
    "axe1.plot(i1,df1b['values'], 'b')\n",
    "axe1.set_xlabel('time stamps')\n",
    "axe1.set_ylabel('input rate')\n",
    "axe1.set_title('Broker1 Input Rate')\n",
    "#fig1.tight_layout()"
   ]
  },
  {
   "cell_type": "code",
   "execution_count": 8,
   "metadata": {},
   "outputs": [
    {
     "data": {
      "image/png": "[encoded data removed]",
      "text/plain": [
       "<Figure size 432x288 with 1 Axes>"
      ]
     },
     "metadata": {
      "needs_background": "light"
     },
     "output_type": "display_data"
    }
   ],
   "source": [
    "#Input Rate before rebalancing\n",
    "b1=[]\n",
    "for dat in irbr1.timestamp:\n",
    "    # print (dat)\n",
    "    b1.append(datetime.strptime(str(dat), \"%Y-%m-%d %H:%M:%S\"))\n",
    "plt.plot(b1,irbr1['values'])\n",
    "plt.xticks(rotation=90)\n",
    "plt.xlabel('time stamps')\n",
    "plt.ylabel('input rate')\n",
    "plt.title('Broker1 Input Rate before Rebalancing')\n",
    "plt.show()"
   ]
  },
  {
   "cell_type": "code",
   "execution_count": 9,
   "metadata": {},
   "outputs": [
    {
     "data": {
      "image/png": "[encoded data removed]",
      "text/plain": [
       "<Figure size 432x288 with 1 Axes>"
      ]
     },
     "metadata": {
      "needs_background": "light"
     },
     "output_type": "display_data"
    }
   ],
   "source": [
    "#Input Rate during rebalancing\n",
    "d1=[]\n",
    "for dat in irdr1.timestamp:\n",
    "    # print (dat)\n",
    "    d1.append(datetime.strptime(str(dat), \"%Y-%m-%d %H:%M:%S\"))\n",
    "plt.plot(d1,irdr1['values'])\n",
    "plt.xticks(rotation=90)\n",
    "plt.xlabel('time stamps')\n",
    "plt.ylabel('input rate')\n",
    "plt.title('Broker1 Input Rate during Rebalancing')\n",
    "plt.show()"
   ]
  },
  {
   "cell_type": "code",
   "execution_count": 10,
   "metadata": {},
   "outputs": [
    {
     "data": {
      "text/html": [
       "<div>\n",
       "<style scoped>\n",
       "    .dataframe tbody tr th:only-of-type {\n",
       "        vertical-align: middle;\n",
       "    }\n",
       "\n",
       "    .dataframe tbody tr th {\n",
       "        vertical-align: top;\n",
       "    }\n",
       "\n",
       "    .dataframe thead th {\n",
       "        text-align: right;\n",
       "    }\n",
       "</style>\n",
       "<table border=\"1\" class=\"dataframe\">\n",
       "  <thead>\n",
       "    <tr style=\"text-align: right;\">\n",
       "      <th></th>\n",
       "      <th>timestamp</th>\n",
       "      <th>values</th>\n",
       "      <th>pod</th>\n",
       "    </tr>\n",
       "  </thead>\n",
       "  <tbody>\n",
       "    <tr>\n",
       "      <th>0</th>\n",
       "      <td>2021-08-13 18:17:50</td>\n",
       "      <td>472836109</td>\n",
       "      <td>my-cluster-metrics-kafka-1</td>\n",
       "    </tr>\n",
       "    <tr>\n",
       "      <th>1</th>\n",
       "      <td>2021-08-13 18:18:20</td>\n",
       "      <td>490992903</td>\n",
       "      <td>my-cluster-metrics-kafka-1</td>\n",
       "    </tr>\n",
       "    <tr>\n",
       "      <th>2</th>\n",
       "      <td>2021-08-13 18:18:50</td>\n",
       "      <td>502890400</td>\n",
       "      <td>my-cluster-metrics-kafka-1</td>\n",
       "    </tr>\n",
       "  </tbody>\n",
       "</table>\n",
       "</div>"
      ],
      "text/plain": [
       "            timestamp     values                         pod\n",
       "0 2021-08-13 18:17:50  472836109  my-cluster-metrics-kafka-1\n",
       "1 2021-08-13 18:18:20  490992903  my-cluster-metrics-kafka-1\n",
       "2 2021-08-13 18:18:50  502890400  my-cluster-metrics-kafka-1"
      ]
     },
     "execution_count": 10,
     "metadata": {},
     "output_type": "execute_result"
    }
   ],
   "source": [
    "# DA on the Input Rate of Broker-2\n",
    "df2b = pd.read_csv(\"Brok2IR.csv\")\n",
    "df2b.drop(['name'], axis=1, inplace=True)\n",
    "df2b['timestamp'] = pd.to_datetime(df2b['timestamp'], unit='s')\n",
    "df2b.head(3)"
   ]
  },
  {
   "cell_type": "code",
   "execution_count": 11,
   "metadata": {},
   "outputs": [
    {
     "name": "stdout",
     "output_type": "stream",
     "text": [
      "652773137.32\n"
     ]
    },
    {
     "data": {
      "text/html": [
       "<div>\n",
       "<style scoped>\n",
       "    .dataframe tbody tr th:only-of-type {\n",
       "        vertical-align: middle;\n",
       "    }\n",
       "\n",
       "    .dataframe tbody tr th {\n",
       "        vertical-align: top;\n",
       "    }\n",
       "\n",
       "    .dataframe thead th {\n",
       "        text-align: right;\n",
       "    }\n",
       "</style>\n",
       "<table border=\"1\" class=\"dataframe\">\n",
       "  <thead>\n",
       "    <tr style=\"text-align: right;\">\n",
       "      <th></th>\n",
       "      <th>values</th>\n",
       "    </tr>\n",
       "  </thead>\n",
       "  <tbody>\n",
       "    <tr>\n",
       "      <th>count</th>\n",
       "      <td>2.500000e+01</td>\n",
       "    </tr>\n",
       "    <tr>\n",
       "      <th>mean</th>\n",
       "      <td>6.527731e+08</td>\n",
       "    </tr>\n",
       "    <tr>\n",
       "      <th>std</th>\n",
       "      <td>1.053905e+08</td>\n",
       "    </tr>\n",
       "    <tr>\n",
       "      <th>min</th>\n",
       "      <td>4.728361e+08</td>\n",
       "    </tr>\n",
       "    <tr>\n",
       "      <th>25%</th>\n",
       "      <td>5.642800e+08</td>\n",
       "    </tr>\n",
       "    <tr>\n",
       "      <th>50%</th>\n",
       "      <td>6.607231e+08</td>\n",
       "    </tr>\n",
       "    <tr>\n",
       "      <th>75%</th>\n",
       "      <td>7.404252e+08</td>\n",
       "    </tr>\n",
       "    <tr>\n",
       "      <th>max</th>\n",
       "      <td>8.218113e+08</td>\n",
       "    </tr>\n",
       "  </tbody>\n",
       "</table>\n",
       "</div>"
      ],
      "text/plain": [
       "             values\n",
       "count  2.500000e+01\n",
       "mean   6.527731e+08\n",
       "std    1.053905e+08\n",
       "min    4.728361e+08\n",
       "25%    5.642800e+08\n",
       "50%    6.607231e+08\n",
       "75%    7.404252e+08\n",
       "max    8.218113e+08"
      ]
     },
     "execution_count": 11,
     "metadata": {},
     "output_type": "execute_result"
    }
   ],
   "source": [
    "#Average Input Rate before rebalancing\n",
    "irbr2 = df2b[(df2b['timestamp'] >= '2021-08-13 18:17:50') & (df2b['timestamp'] <= '2021-08-13 18:30:00')]\n",
    "irbr2.head(3)\n",
    "irbr2avg = irbr2['values'].mean()\n",
    "print(irbr2avg)\n",
    "irbr2.describe()"
   ]
  },
  {
   "cell_type": "code",
   "execution_count": 12,
   "metadata": {},
   "outputs": [
    {
     "name": "stdout",
     "output_type": "stream",
     "text": [
      "984530882.875\n"
     ]
    },
    {
     "data": {
      "text/html": [
       "<div>\n",
       "<style scoped>\n",
       "    .dataframe tbody tr th:only-of-type {\n",
       "        vertical-align: middle;\n",
       "    }\n",
       "\n",
       "    .dataframe tbody tr th {\n",
       "        vertical-align: top;\n",
       "    }\n",
       "\n",
       "    .dataframe thead th {\n",
       "        text-align: right;\n",
       "    }\n",
       "</style>\n",
       "<table border=\"1\" class=\"dataframe\">\n",
       "  <thead>\n",
       "    <tr style=\"text-align: right;\">\n",
       "      <th></th>\n",
       "      <th>values</th>\n",
       "    </tr>\n",
       "  </thead>\n",
       "  <tbody>\n",
       "    <tr>\n",
       "      <th>count</th>\n",
       "      <td>2.400000e+01</td>\n",
       "    </tr>\n",
       "    <tr>\n",
       "      <th>mean</th>\n",
       "      <td>9.845309e+08</td>\n",
       "    </tr>\n",
       "    <tr>\n",
       "      <th>std</th>\n",
       "      <td>8.077832e+07</td>\n",
       "    </tr>\n",
       "    <tr>\n",
       "      <th>min</th>\n",
       "      <td>8.581352e+08</td>\n",
       "    </tr>\n",
       "    <tr>\n",
       "      <th>25%</th>\n",
       "      <td>9.091885e+08</td>\n",
       "    </tr>\n",
       "    <tr>\n",
       "      <th>50%</th>\n",
       "      <td>9.923341e+08</td>\n",
       "    </tr>\n",
       "    <tr>\n",
       "      <th>75%</th>\n",
       "      <td>1.044195e+09</td>\n",
       "    </tr>\n",
       "    <tr>\n",
       "      <th>max</th>\n",
       "      <td>1.124447e+09</td>\n",
       "    </tr>\n",
       "  </tbody>\n",
       "</table>\n",
       "</div>"
      ],
      "text/plain": [
       "             values\n",
       "count  2.400000e+01\n",
       "mean   9.845309e+08\n",
       "std    8.077832e+07\n",
       "min    8.581352e+08\n",
       "25%    9.091885e+08\n",
       "50%    9.923341e+08\n",
       "75%    1.044195e+09\n",
       "max    1.124447e+09"
      ]
     },
     "execution_count": 12,
     "metadata": {},
     "output_type": "execute_result"
    }
   ],
   "source": [
    "#Average Input Rate During rebalancing\n",
    "irdr2 = df2b[(df2b['timestamp'] >= '2021-08-13 18:31:00') & (df2b['timestamp'] <= '2021-08-13 18:43:00')]\n",
    "irdr2.head(3)\n",
    "irdr2avg = irdr2['values'].mean()\n",
    "print(irdr2avg)\n",
    "irdr2.describe()"
   ]
  },
  {
   "cell_type": "code",
   "execution_count": 13,
   "metadata": {},
   "outputs": [
    {
     "name": "stdout",
     "output_type": "stream",
     "text": [
      "Ttest_indResult(statistic=12.329967742614604, pvalue=2.4501212222578823e-16)\n"
     ]
    }
   ],
   "source": [
    "#T-Stats Analysis\n",
    "resb2ir = ttest_ind(irdr2['values'], irbr2['values'])\n",
    "print(resb2ir)"
   ]
  },
  {
   "cell_type": "code",
   "execution_count": 14,
   "metadata": {},
   "outputs": [
    {
     "name": "stdout",
     "output_type": "stream",
     "text": [
      "<class 'pandas.core.frame.DataFrame'>\n",
      "Int64Index: 25 entries, 0 to 24\n",
      "Data columns (total 2 columns):\n",
      " #   Column     Non-Null Count  Dtype         \n",
      "---  ------     --------------  -----         \n",
      " 0   timestamp  25 non-null     datetime64[ns]\n",
      " 1   values     25 non-null     int64         \n",
      "dtypes: datetime64[ns](1), int64(1)\n",
      "memory usage: 600.0 bytes\n"
     ]
    },
    {
     "name": "stderr",
     "output_type": "stream",
     "text": [
      "C:\\Users\\Bhuvi\\anaconda3\\lib\\site-packages\\pandas\\core\\frame.py:4163: SettingWithCopyWarning: \n",
      "A value is trying to be set on a copy of a slice from a DataFrame\n",
      "\n",
      "See the caveats in the documentation: https://pandas.pydata.org/pandas-docs/stable/user_guide/indexing.html#returning-a-view-versus-a-copy\n",
      "  return super().drop(\n"
     ]
    }
   ],
   "source": [
    "irbr2.drop(['pod'], axis=1, inplace=True)\n",
    "irbr2.head(10)\n",
    "irbr2.info()"
   ]
  },
  {
   "cell_type": "code",
   "execution_count": 15,
   "metadata": {},
   "outputs": [
    {
     "name": "stdout",
     "output_type": "stream",
     "text": [
      "<class 'pandas.core.frame.DataFrame'>\n",
      "Int64Index: 24 entries, 27 to 50\n",
      "Data columns (total 2 columns):\n",
      " #   Column     Non-Null Count  Dtype         \n",
      "---  ------     --------------  -----         \n",
      " 0   timestamp  24 non-null     datetime64[ns]\n",
      " 1   values     24 non-null     int64         \n",
      "dtypes: datetime64[ns](1), int64(1)\n",
      "memory usage: 576.0 bytes\n"
     ]
    }
   ],
   "source": [
    "irdr2.drop(['pod'], axis=1, inplace=True)\n",
    "irdr2.head(10)\n",
    "irdr2.info()"
   ]
  },
  {
   "cell_type": "code",
   "execution_count": 16,
   "metadata": {},
   "outputs": [
    {
     "data": {
      "text/plain": [
       "Text(0.5, 1.0, 'Broker2 Input Rate')"
      ]
     },
     "execution_count": 16,
     "metadata": {},
     "output_type": "execute_result"
    },
    {
     "data": {
      "image/png": "[encoded data removed]",
      "text/plain": [
       "<Figure size 720x288 with 1 Axes>"
      ]
     },
     "metadata": {
      "needs_background": "light"
     },
     "output_type": "display_data"
    }
   ],
   "source": [
    "from datetime import datetime\n",
    "#Input Rate for the entire load test\n",
    "i2=[]\n",
    "for dat in df2b.timestamp:\n",
    "    # print (dat)\n",
    "    i2.append(datetime.strptime(str(dat), \"%Y-%m-%d %H:%M:%S\"))\n",
    "fig2 = plt.figure(figsize=(10,4))\n",
    "axe2 = fig2.add_axes([0.2, 0.1, 0.6, 0.8])\n",
    "axe2.plot(i2,df2b['values'], 'b')\n",
    "axe2.set_xlabel('time stamps')\n",
    "axe2.set_ylabel('input rate')\n",
    "axe2.set_title('Broker2 Input Rate')\n",
    "#fig1.tight_layout()"
   ]
  },
  {
   "cell_type": "code",
   "execution_count": 17,
   "metadata": {},
   "outputs": [
    {
     "data": {
      "image/png": "[encoded data removed]",
      "text/plain": [
       "<Figure size 432x288 with 1 Axes>"
      ]
     },
     "metadata": {
      "needs_background": "light"
     },
     "output_type": "display_data"
    }
   ],
   "source": [
    "#Input Rate before rebalancing\n",
    "b2=[]\n",
    "for dat in irbr2.timestamp:\n",
    "    # print (dat)\n",
    "    b2.append(datetime.strptime(str(dat), \"%Y-%m-%d %H:%M:%S\"))\n",
    "plt.plot(b2,irbr2['values'])\n",
    "plt.xticks(rotation=90)\n",
    "plt.xlabel('time stamps')\n",
    "plt.ylabel('input rate')\n",
    "plt.title('Broker2 Input Rate before Rebalancing')\n",
    "plt.show()"
   ]
  },
  {
   "cell_type": "code",
   "execution_count": 18,
   "metadata": {},
   "outputs": [
    {
     "data": {
      "image/png": "[encoded data removed]",
      "text/plain": [
       "<Figure size 432x288 with 1 Axes>"
      ]
     },
     "metadata": {
      "needs_background": "light"
     },
     "output_type": "display_data"
    }
   ],
   "source": [
    "#Input Rate during rebalancing\n",
    "d2=[]\n",
    "for dat in irdr2.timestamp:\n",
    "    # print (dat)\n",
    "    d2.append(datetime.strptime(str(dat), \"%Y-%m-%d %H:%M:%S\"))\n",
    "plt.plot(d2,irdr2['values'])\n",
    "plt.xticks(rotation=90)\n",
    "plt.xlabel('time stamps')\n",
    "plt.ylabel('input rate')\n",
    "plt.title('Broker2 Input Rate during Rebalancing')\n",
    "plt.show()"
   ]
  },
  {
   "cell_type": "code",
   "execution_count": 19,
   "metadata": {},
   "outputs": [
    {
     "data": {
      "text/html": [
       "<div>\n",
       "<style scoped>\n",
       "    .dataframe tbody tr th:only-of-type {\n",
       "        vertical-align: middle;\n",
       "    }\n",
       "\n",
       "    .dataframe tbody tr th {\n",
       "        vertical-align: top;\n",
       "    }\n",
       "\n",
       "    .dataframe thead th {\n",
       "        text-align: right;\n",
       "    }\n",
       "</style>\n",
       "<table border=\"1\" class=\"dataframe\">\n",
       "  <thead>\n",
       "    <tr style=\"text-align: right;\">\n",
       "      <th></th>\n",
       "      <th>timestamp</th>\n",
       "      <th>values</th>\n",
       "      <th>pod</th>\n",
       "    </tr>\n",
       "  </thead>\n",
       "  <tbody>\n",
       "    <tr>\n",
       "      <th>0</th>\n",
       "      <td>2021-08-13 18:18:25</td>\n",
       "      <td>533471041</td>\n",
       "      <td>my-cluster-metrics-kafka-2</td>\n",
       "    </tr>\n",
       "    <tr>\n",
       "      <th>1</th>\n",
       "      <td>2021-08-13 18:18:55</td>\n",
       "      <td>549908409</td>\n",
       "      <td>my-cluster-metrics-kafka-2</td>\n",
       "    </tr>\n",
       "    <tr>\n",
       "      <th>2</th>\n",
       "      <td>2021-08-13 18:19:25</td>\n",
       "      <td>562297338</td>\n",
       "      <td>my-cluster-metrics-kafka-2</td>\n",
       "    </tr>\n",
       "  </tbody>\n",
       "</table>\n",
       "</div>"
      ],
      "text/plain": [
       "            timestamp     values                         pod\n",
       "0 2021-08-13 18:18:25  533471041  my-cluster-metrics-kafka-2\n",
       "1 2021-08-13 18:18:55  549908409  my-cluster-metrics-kafka-2\n",
       "2 2021-08-13 18:19:25  562297338  my-cluster-metrics-kafka-2"
      ]
     },
     "execution_count": 19,
     "metadata": {},
     "output_type": "execute_result"
    }
   ],
   "source": [
    "# DA on the Input Rate of Broker-3\n",
    "df3b = pd.read_csv(\"Brok3IR.csv\")\n",
    "df3b.drop(['name'], axis=1, inplace=True)\n",
    "df3b['timestamp'] = pd.to_datetime(df3b['timestamp'], unit='s')\n",
    "df3b.head(3)"
   ]
  },
  {
   "cell_type": "code",
   "execution_count": 20,
   "metadata": {},
   "outputs": [
    {
     "name": "stdout",
     "output_type": "stream",
     "text": [
      "687279438.1666666\n"
     ]
    },
    {
     "data": {
      "text/html": [
       "<div>\n",
       "<style scoped>\n",
       "    .dataframe tbody tr th:only-of-type {\n",
       "        vertical-align: middle;\n",
       "    }\n",
       "\n",
       "    .dataframe tbody tr th {\n",
       "        vertical-align: top;\n",
       "    }\n",
       "\n",
       "    .dataframe thead th {\n",
       "        text-align: right;\n",
       "    }\n",
       "</style>\n",
       "<table border=\"1\" class=\"dataframe\">\n",
       "  <thead>\n",
       "    <tr style=\"text-align: right;\">\n",
       "      <th></th>\n",
       "      <th>values</th>\n",
       "    </tr>\n",
       "  </thead>\n",
       "  <tbody>\n",
       "    <tr>\n",
       "      <th>count</th>\n",
       "      <td>2.400000e+01</td>\n",
       "    </tr>\n",
       "    <tr>\n",
       "      <th>mean</th>\n",
       "      <td>6.872794e+08</td>\n",
       "    </tr>\n",
       "    <tr>\n",
       "      <th>std</th>\n",
       "      <td>1.033275e+08</td>\n",
       "    </tr>\n",
       "    <tr>\n",
       "      <th>min</th>\n",
       "      <td>5.334710e+08</td>\n",
       "    </tr>\n",
       "    <tr>\n",
       "      <th>25%</th>\n",
       "      <td>6.057652e+08</td>\n",
       "    </tr>\n",
       "    <tr>\n",
       "      <th>50%</th>\n",
       "      <td>6.669008e+08</td>\n",
       "    </tr>\n",
       "    <tr>\n",
       "      <th>75%</th>\n",
       "      <td>7.787207e+08</td>\n",
       "    </tr>\n",
       "    <tr>\n",
       "      <th>max</th>\n",
       "      <td>8.570926e+08</td>\n",
       "    </tr>\n",
       "  </tbody>\n",
       "</table>\n",
       "</div>"
      ],
      "text/plain": [
       "             values\n",
       "count  2.400000e+01\n",
       "mean   6.872794e+08\n",
       "std    1.033275e+08\n",
       "min    5.334710e+08\n",
       "25%    6.057652e+08\n",
       "50%    6.669008e+08\n",
       "75%    7.787207e+08\n",
       "max    8.570926e+08"
      ]
     },
     "execution_count": 20,
     "metadata": {},
     "output_type": "execute_result"
    }
   ],
   "source": [
    "#Average Input Rate before rebalancing\n",
    "irbr3 = df3b[(df3b['timestamp'] >= '2021-08-13 18:18:25') & (df3b['timestamp'] <= '2021-08-13 18:30:00')]\n",
    "irbr3.head(3)\n",
    "irbr3avg = irbr3['values'].mean()\n",
    "print(irbr3avg)\n",
    "irbr3.describe()"
   ]
  },
  {
   "cell_type": "code",
   "execution_count": 21,
   "metadata": {},
   "outputs": [
    {
     "name": "stdout",
     "output_type": "stream",
     "text": [
      "1072572000.4583334\n"
     ]
    },
    {
     "data": {
      "text/html": [
       "<div>\n",
       "<style scoped>\n",
       "    .dataframe tbody tr th:only-of-type {\n",
       "        vertical-align: middle;\n",
       "    }\n",
       "\n",
       "    .dataframe tbody tr th {\n",
       "        vertical-align: top;\n",
       "    }\n",
       "\n",
       "    .dataframe thead th {\n",
       "        text-align: right;\n",
       "    }\n",
       "</style>\n",
       "<table border=\"1\" class=\"dataframe\">\n",
       "  <thead>\n",
       "    <tr style=\"text-align: right;\">\n",
       "      <th></th>\n",
       "      <th>values</th>\n",
       "    </tr>\n",
       "  </thead>\n",
       "  <tbody>\n",
       "    <tr>\n",
       "      <th>count</th>\n",
       "      <td>2.400000e+01</td>\n",
       "    </tr>\n",
       "    <tr>\n",
       "      <th>mean</th>\n",
       "      <td>1.072572e+09</td>\n",
       "    </tr>\n",
       "    <tr>\n",
       "      <th>std</th>\n",
       "      <td>9.938228e+07</td>\n",
       "    </tr>\n",
       "    <tr>\n",
       "      <th>min</th>\n",
       "      <td>9.115806e+08</td>\n",
       "    </tr>\n",
       "    <tr>\n",
       "      <th>25%</th>\n",
       "      <td>9.853464e+08</td>\n",
       "    </tr>\n",
       "    <tr>\n",
       "      <th>50%</th>\n",
       "      <td>1.071825e+09</td>\n",
       "    </tr>\n",
       "    <tr>\n",
       "      <th>75%</th>\n",
       "      <td>1.153585e+09</td>\n",
       "    </tr>\n",
       "    <tr>\n",
       "      <th>max</th>\n",
       "      <td>1.232724e+09</td>\n",
       "    </tr>\n",
       "  </tbody>\n",
       "</table>\n",
       "</div>"
      ],
      "text/plain": [
       "             values\n",
       "count  2.400000e+01\n",
       "mean   1.072572e+09\n",
       "std    9.938228e+07\n",
       "min    9.115806e+08\n",
       "25%    9.853464e+08\n",
       "50%    1.071825e+09\n",
       "75%    1.153585e+09\n",
       "max    1.232724e+09"
      ]
     },
     "execution_count": 21,
     "metadata": {},
     "output_type": "execute_result"
    }
   ],
   "source": [
    "#Average Input Rate During rebalancing\n",
    "irdr3 = df3b[(df3b['timestamp'] >= '2021-08-13 18:31:00') & (df3b['timestamp'] <= '2021-08-13 18:43:00')]\n",
    "irdr3.head(3)\n",
    "irdr3avg = irdr3['values'].mean()\n",
    "print(irdr3avg)\n",
    "irdr3.describe()"
   ]
  },
  {
   "cell_type": "code",
   "execution_count": 22,
   "metadata": {},
   "outputs": [
    {
     "name": "stdout",
     "output_type": "stream",
     "text": [
      "Ttest_indResult(statistic=13.166016788911689, pvalue=3.2694680334436893e-17)\n"
     ]
    }
   ],
   "source": [
    "#T-Stats Analysis\n",
    "resb3ir = ttest_ind(irdr3['values'], irbr3['values'])\n",
    "print(resb3ir)"
   ]
  },
  {
   "cell_type": "code",
   "execution_count": 23,
   "metadata": {},
   "outputs": [
    {
     "name": "stdout",
     "output_type": "stream",
     "text": [
      "<class 'pandas.core.frame.DataFrame'>\n",
      "Int64Index: 24 entries, 0 to 23\n",
      "Data columns (total 2 columns):\n",
      " #   Column     Non-Null Count  Dtype         \n",
      "---  ------     --------------  -----         \n",
      " 0   timestamp  24 non-null     datetime64[ns]\n",
      " 1   values     24 non-null     int64         \n",
      "dtypes: datetime64[ns](1), int64(1)\n",
      "memory usage: 576.0 bytes\n"
     ]
    },
    {
     "name": "stderr",
     "output_type": "stream",
     "text": [
      "C:\\Users\\Bhuvi\\anaconda3\\lib\\site-packages\\pandas\\core\\frame.py:4163: SettingWithCopyWarning: \n",
      "A value is trying to be set on a copy of a slice from a DataFrame\n",
      "\n",
      "See the caveats in the documentation: https://pandas.pydata.org/pandas-docs/stable/user_guide/indexing.html#returning-a-view-versus-a-copy\n",
      "  return super().drop(\n"
     ]
    }
   ],
   "source": [
    "irbr3.drop(['pod'], axis=1, inplace=True)\n",
    "irbr3.head(10)\n",
    "irbr3.info()"
   ]
  },
  {
   "cell_type": "code",
   "execution_count": 24,
   "metadata": {},
   "outputs": [
    {
     "name": "stdout",
     "output_type": "stream",
     "text": [
      "<class 'pandas.core.frame.DataFrame'>\n",
      "Int64Index: 24 entries, 26 to 49\n",
      "Data columns (total 2 columns):\n",
      " #   Column     Non-Null Count  Dtype         \n",
      "---  ------     --------------  -----         \n",
      " 0   timestamp  24 non-null     datetime64[ns]\n",
      " 1   values     24 non-null     int64         \n",
      "dtypes: datetime64[ns](1), int64(1)\n",
      "memory usage: 576.0 bytes\n"
     ]
    }
   ],
   "source": [
    "irdr3.drop(['pod'], axis=1, inplace=True)\n",
    "irdr3.head(10)\n",
    "irdr3.info()"
   ]
  },
  {
   "cell_type": "code",
   "execution_count": 25,
   "metadata": {},
   "outputs": [
    {
     "data": {
      "text/plain": [
       "Text(0.5, 1.0, 'Broker3 Input Rate')"
      ]
     },
     "execution_count": 25,
     "metadata": {},
     "output_type": "execute_result"
    },
    {
     "data": {
      "image/png": "[encoded data removed]",
      "text/plain": [
       "<Figure size 720x288 with 1 Axes>"
      ]
     },
     "metadata": {
      "needs_background": "light"
     },
     "output_type": "display_data"
    }
   ],
   "source": [
    "from datetime import datetime\n",
    "#Input Rate for the entire load test\n",
    "i3=[]\n",
    "for dat in df3b.timestamp:\n",
    "    # print (dat)\n",
    "    i3.append(datetime.strptime(str(dat), \"%Y-%m-%d %H:%M:%S\"))\n",
    "fig3 = plt.figure(figsize=(10,4))\n",
    "axe3 = fig3.add_axes([0.2, 0.1, 0.6, 0.8])\n",
    "axe3.plot(i3,df3b['values'], 'r')\n",
    "axe3.set_xlabel('time stamps')\n",
    "axe3.set_ylabel('input rate')\n",
    "axe3.set_title('Broker3 Input Rate')\n",
    "#fig1.tight_layout()"
   ]
  },
  {
   "cell_type": "code",
   "execution_count": 26,
   "metadata": {},
   "outputs": [
    {
     "data": {
      "image/png": "[encoded data removed]",
      "text/plain": [
       "<Figure size 432x288 with 1 Axes>"
      ]
     },
     "metadata": {
      "needs_background": "light"
     },
     "output_type": "display_data"
    }
   ],
   "source": [
    "#Input Rate before rebalancing\n",
    "b3=[]\n",
    "for dat in irbr3.timestamp:\n",
    "    # print (dat)\n",
    "    b3.append(datetime.strptime(str(dat), \"%Y-%m-%d %H:%M:%S\"))\n",
    "plt.plot(b3,irbr3['values'])\n",
    "plt.xticks(rotation=90)\n",
    "plt.xlabel('time stamps')\n",
    "plt.ylabel('input rate')\n",
    "plt.title('Broker3 Input Rate before Rebalancing')\n",
    "plt.show()"
   ]
  },
  {
   "cell_type": "code",
   "execution_count": 27,
   "metadata": {},
   "outputs": [
    {
     "data": {
      "image/png": "[encoded data removed]",
      "text/plain": [
       "<Figure size 432x288 with 1 Axes>"
      ]
     },
     "metadata": {
      "needs_background": "light"
     },
     "output_type": "display_data"
    }
   ],
   "source": [
    "#Input Rate during rebalancing\n",
    "d3=[]\n",
    "for dat in irdr3.timestamp:\n",
    "    # print (dat)\n",
    "    d3.append(datetime.strptime(str(dat), \"%Y-%m-%d %H:%M:%S\"))\n",
    "plt.plot(d3,irdr3['values'])\n",
    "plt.xticks(rotation=90)\n",
    "plt.xlabel('time stamps')\n",
    "plt.ylabel('input rate')\n",
    "plt.title('Broker3 Input Rate during Rebalancing')\n",
    "plt.show()"
   ]
  },
  {
   "cell_type": "code",
   "execution_count": 28,
   "metadata": {},
   "outputs": [
    {
     "data": {
      "image/png": "[encoded data removed]",
      "text/plain": [
       "<Figure size 432x288 with 1 Axes>"
      ]
     },
     "metadata": {
      "needs_background": "light"
     },
     "output_type": "display_data"
    }
   ],
   "source": [
    "plt.plot(d1,irdr1['values'])\n",
    "plt.plot(d2,irdr2['values'])\n",
    "plt.plot(d3,irdr3['values'])\n",
    "plt.xticks(rotation=90)\n",
    "plt.xlabel('time stamps')\n",
    "plt.ylabel('Input rate')\n",
    "plt.title('Input Rate during Rebalancing across 3 brokers')\n",
    "plt.legend(['broker0', 'broker1', 'broker2'], loc='best')\n",
    "plt.show()"
   ]
  },
  {
   "cell_type": "code",
   "execution_count": null,
   "metadata": {},
   "outputs": [],
   "source": []
  },
  {
   "cell_type": "code",
   "execution_count": null,
   "metadata": {},
   "outputs": [],
   "source": []
  }
 ],
 "metadata": {
  "kernelspec": {
   "display_name": "Python 3",
   "language": "python",
   "name": "python3"
  },
  "language_info": {
   "codemirror_mode": {
    "name": "ipython",
    "version": 3
   },
   "file_extension": ".py",
   "mimetype": "text/x-python",
   "name": "python",
   "nbconvert_exporter": "python",
   "pygments_lexer": "ipython3",
   "version": "3.8.5"
  }
 },
 "nbformat": 4,
 "nbformat_minor": 4
}
