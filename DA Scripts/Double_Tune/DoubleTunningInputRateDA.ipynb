{
 "cells": [
  {
   "cell_type": "code",
   "execution_count": 4,
   "metadata": {},
   "outputs": [
    {
     "data": {
      "text/html": [
       "<div>\n",
       "<style scoped>\n",
       "    .dataframe tbody tr th:only-of-type {\n",
       "        vertical-align: middle;\n",
       "    }\n",
       "\n",
       "    .dataframe tbody tr th {\n",
       "        vertical-align: top;\n",
       "    }\n",
       "\n",
       "    .dataframe thead th {\n",
       "        text-align: right;\n",
       "    }\n",
       "</style>\n",
       "<table border=\"1\" class=\"dataframe\">\n",
       "  <thead>\n",
       "    <tr style=\"text-align: right;\">\n",
       "      <th></th>\n",
       "      <th>timestamp</th>\n",
       "      <th>values</th>\n",
       "      <th>pod</th>\n",
       "    </tr>\n",
       "  </thead>\n",
       "  <tbody>\n",
       "    <tr>\n",
       "      <th>0</th>\n",
       "      <td>2021-07-30 23:50:58</td>\n",
       "      <td>45117937</td>\n",
       "      <td>my-cluster-metrics-kafka-0</td>\n",
       "    </tr>\n",
       "    <tr>\n",
       "      <th>1</th>\n",
       "      <td>2021-07-30 23:51:28</td>\n",
       "      <td>54311395</td>\n",
       "      <td>my-cluster-metrics-kafka-0</td>\n",
       "    </tr>\n",
       "    <tr>\n",
       "      <th>2</th>\n",
       "      <td>2021-07-30 23:51:58</td>\n",
       "      <td>65349548</td>\n",
       "      <td>my-cluster-metrics-kafka-0</td>\n",
       "    </tr>\n",
       "  </tbody>\n",
       "</table>\n",
       "</div>"
      ],
      "text/plain": [
       "            timestamp    values                         pod\n",
       "0 2021-07-30 23:50:58  45117937  my-cluster-metrics-kafka-0\n",
       "1 2021-07-30 23:51:28  54311395  my-cluster-metrics-kafka-0\n",
       "2 2021-07-30 23:51:58  65349548  my-cluster-metrics-kafka-0"
      ]
     },
     "execution_count": 4,
     "metadata": {},
     "output_type": "execute_result"
    }
   ],
   "source": [
    "import pandas as pd\n",
    "import datetime\n",
    "import matplotlib.pyplot as plt\n",
    "# DA on the Input Rate of Broker-1\n",
    "df1b = pd.read_csv(\"Brok1IR.csv\")\n",
    "df1b.drop(['name'], axis=1, inplace=True)\n",
    "df1b['timestamp'] = pd.to_datetime(df1b['timestamp'], unit='s')\n",
    "df1b.head(3)"
   ]
  },
  {
   "cell_type": "code",
   "execution_count": 5,
   "metadata": {},
   "outputs": [
    {
     "name": "stdout",
     "output_type": "stream",
     "text": [
      "494903384.38709676\n"
     ]
    },
    {
     "data": {
      "text/html": [
       "<div>\n",
       "<style scoped>\n",
       "    .dataframe tbody tr th:only-of-type {\n",
       "        vertical-align: middle;\n",
       "    }\n",
       "\n",
       "    .dataframe tbody tr th {\n",
       "        vertical-align: top;\n",
       "    }\n",
       "\n",
       "    .dataframe thead th {\n",
       "        text-align: right;\n",
       "    }\n",
       "</style>\n",
       "<table border=\"1\" class=\"dataframe\">\n",
       "  <thead>\n",
       "    <tr style=\"text-align: right;\">\n",
       "      <th></th>\n",
       "      <th>values</th>\n",
       "    </tr>\n",
       "  </thead>\n",
       "  <tbody>\n",
       "    <tr>\n",
       "      <th>count</th>\n",
       "      <td>6.200000e+01</td>\n",
       "    </tr>\n",
       "    <tr>\n",
       "      <th>mean</th>\n",
       "      <td>4.949034e+08</td>\n",
       "    </tr>\n",
       "    <tr>\n",
       "      <th>std</th>\n",
       "      <td>2.619368e+08</td>\n",
       "    </tr>\n",
       "    <tr>\n",
       "      <th>min</th>\n",
       "      <td>4.511794e+07</td>\n",
       "    </tr>\n",
       "    <tr>\n",
       "      <th>25%</th>\n",
       "      <td>2.602180e+08</td>\n",
       "    </tr>\n",
       "    <tr>\n",
       "      <th>50%</th>\n",
       "      <td>5.065032e+08</td>\n",
       "    </tr>\n",
       "    <tr>\n",
       "      <th>75%</th>\n",
       "      <td>7.113668e+08</td>\n",
       "    </tr>\n",
       "    <tr>\n",
       "      <th>max</th>\n",
       "      <td>9.439483e+08</td>\n",
       "    </tr>\n",
       "  </tbody>\n",
       "</table>\n",
       "</div>"
      ],
      "text/plain": [
       "             values\n",
       "count  6.200000e+01\n",
       "mean   4.949034e+08\n",
       "std    2.619368e+08\n",
       "min    4.511794e+07\n",
       "25%    2.602180e+08\n",
       "50%    5.065032e+08\n",
       "75%    7.113668e+08\n",
       "max    9.439483e+08"
      ]
     },
     "execution_count": 5,
     "metadata": {},
     "output_type": "execute_result"
    }
   ],
   "source": [
    "#Average Input Rate before rebalancing\n",
    "irbr1 = df1b[(df1b['timestamp'] >= '2021-07-30 23:50:58') & (df1b['timestamp'] <= '2021-07-31 00:21:28')]\n",
    "irbr1.head(3)\n",
    "irbr1avg = irbr1['values'].mean()\n",
    "print(irbr1avg)\n",
    "irbr1.describe()"
   ]
  },
  {
   "cell_type": "code",
   "execution_count": 6,
   "metadata": {},
   "outputs": [
    {
     "name": "stdout",
     "output_type": "stream",
     "text": [
      "994312474.125\n"
     ]
    },
    {
     "data": {
      "text/html": [
       "<div>\n",
       "<style scoped>\n",
       "    .dataframe tbody tr th:only-of-type {\n",
       "        vertical-align: middle;\n",
       "    }\n",
       "\n",
       "    .dataframe tbody tr th {\n",
       "        vertical-align: top;\n",
       "    }\n",
       "\n",
       "    .dataframe thead th {\n",
       "        text-align: right;\n",
       "    }\n",
       "</style>\n",
       "<table border=\"1\" class=\"dataframe\">\n",
       "  <thead>\n",
       "    <tr style=\"text-align: right;\">\n",
       "      <th></th>\n",
       "      <th>values</th>\n",
       "    </tr>\n",
       "  </thead>\n",
       "  <tbody>\n",
       "    <tr>\n",
       "      <th>count</th>\n",
       "      <td>8.000000e+00</td>\n",
       "    </tr>\n",
       "    <tr>\n",
       "      <th>mean</th>\n",
       "      <td>9.943125e+08</td>\n",
       "    </tr>\n",
       "    <tr>\n",
       "      <th>std</th>\n",
       "      <td>1.898454e+07</td>\n",
       "    </tr>\n",
       "    <tr>\n",
       "      <th>min</th>\n",
       "      <td>9.658612e+08</td>\n",
       "    </tr>\n",
       "    <tr>\n",
       "      <th>25%</th>\n",
       "      <td>9.825575e+08</td>\n",
       "    </tr>\n",
       "    <tr>\n",
       "      <th>50%</th>\n",
       "      <td>9.936975e+08</td>\n",
       "    </tr>\n",
       "    <tr>\n",
       "      <th>75%</th>\n",
       "      <td>1.004715e+09</td>\n",
       "    </tr>\n",
       "    <tr>\n",
       "      <th>max</th>\n",
       "      <td>1.025199e+09</td>\n",
       "    </tr>\n",
       "  </tbody>\n",
       "</table>\n",
       "</div>"
      ],
      "text/plain": [
       "             values\n",
       "count  8.000000e+00\n",
       "mean   9.943125e+08\n",
       "std    1.898454e+07\n",
       "min    9.658612e+08\n",
       "25%    9.825575e+08\n",
       "50%    9.936975e+08\n",
       "75%    1.004715e+09\n",
       "max    1.025199e+09"
      ]
     },
     "execution_count": 6,
     "metadata": {},
     "output_type": "execute_result"
    }
   ],
   "source": [
    "#Average Input Rate During rebalancing\n",
    "irdr1 = df1b[(df1b['timestamp'] >= '2021-07-31 00:21:58') & (df1b['timestamp'] <= '2021-07-31 00:25:28')]\n",
    "irdr1.head(3)\n",
    "irdr1avg = irdr1['values'].mean()\n",
    "print(irdr1avg)\n",
    "irdr1.describe()"
   ]
  },
  {
   "cell_type": "code",
   "execution_count": 7,
   "metadata": {},
   "outputs": [
    {
     "name": "stdout",
     "output_type": "stream",
     "text": [
      "Ttest_indResult(statistic=5.356861268565343, pvalue=1.0855433891572006e-06)\n"
     ]
    }
   ],
   "source": [
    "#T-Stats Analysis\n",
    "from scipy.stats import ttest_ind\n",
    "resb1ir = ttest_ind(irdr1['values'], irbr1['values'])\n",
    "print(resb1ir)"
   ]
  },
  {
   "cell_type": "code",
   "execution_count": 8,
   "metadata": {},
   "outputs": [
    {
     "name": "stdout",
     "output_type": "stream",
     "text": [
      "<class 'pandas.core.frame.DataFrame'>\n",
      "Int64Index: 62 entries, 0 to 61\n",
      "Data columns (total 2 columns):\n",
      " #   Column     Non-Null Count  Dtype         \n",
      "---  ------     --------------  -----         \n",
      " 0   timestamp  62 non-null     datetime64[ns]\n",
      " 1   values     62 non-null     int64         \n",
      "dtypes: datetime64[ns](1), int64(1)\n",
      "memory usage: 1.5 KB\n"
     ]
    },
    {
     "name": "stderr",
     "output_type": "stream",
     "text": [
      "C:\\Users\\Bhuvi\\anaconda3\\lib\\site-packages\\pandas\\core\\frame.py:4163: SettingWithCopyWarning: \n",
      "A value is trying to be set on a copy of a slice from a DataFrame\n",
      "\n",
      "See the caveats in the documentation: https://pandas.pydata.org/pandas-docs/stable/user_guide/indexing.html#returning-a-view-versus-a-copy\n",
      "  return super().drop(\n"
     ]
    }
   ],
   "source": [
    "irbr1.drop(['pod'], axis=1, inplace=True)\n",
    "irbr1.head(10)\n",
    "irbr1.info()"
   ]
  },
  {
   "cell_type": "code",
   "execution_count": 9,
   "metadata": {},
   "outputs": [
    {
     "name": "stdout",
     "output_type": "stream",
     "text": [
      "<class 'pandas.core.frame.DataFrame'>\n",
      "Int64Index: 8 entries, 62 to 69\n",
      "Data columns (total 2 columns):\n",
      " #   Column     Non-Null Count  Dtype         \n",
      "---  ------     --------------  -----         \n",
      " 0   timestamp  8 non-null      datetime64[ns]\n",
      " 1   values     8 non-null      int64         \n",
      "dtypes: datetime64[ns](1), int64(1)\n",
      "memory usage: 192.0 bytes\n"
     ]
    }
   ],
   "source": [
    "irdr1.drop(['pod'], axis=1, inplace=True)\n",
    "irdr1.head(10)\n",
    "irdr1.info()"
   ]
  },
  {
   "cell_type": "code",
   "execution_count": 10,
   "metadata": {},
   "outputs": [
    {
     "data": {
      "text/plain": [
       "Text(0.5, 1.0, 'Broker1 Input Rate')"
      ]
     },
     "execution_count": 10,
     "metadata": {},
     "output_type": "execute_result"
    },
    {
     "data": {
      "image/png": "[encoded data removed]",
      "text/plain": [
       "<Figure size 720x288 with 1 Axes>"
      ]
     },
     "metadata": {
      "needs_background": "light"
     },
     "output_type": "display_data"
    }
   ],
   "source": [
    "from datetime import datetime\n",
    "#Input Rate for the entire load test\n",
    "i1=[]\n",
    "for dat in df1b.timestamp:\n",
    "    # print (dat)\n",
    "    i1.append(datetime.strptime(str(dat), \"%Y-%m-%d %H:%M:%S\"))\n",
    "fig1 = plt.figure(figsize=(10,4))\n",
    "axe1 = fig1.add_axes([0.2, 0.1, 0.6, 0.8])\n",
    "axe1.plot(i1,df1b['values'], 'b')\n",
    "axe1.set_xlabel('time stamps')\n",
    "axe1.set_ylabel('input rate')\n",
    "axe1.set_title('Broker1 Input Rate')\n",
    "#fig1.tight_layout()"
   ]
  },
  {
   "cell_type": "code",
   "execution_count": 11,
   "metadata": {},
   "outputs": [
    {
     "data": {
      "image/png": "[encoded data removed]",
      "text/plain": [
       "<Figure size 432x288 with 1 Axes>"
      ]
     },
     "metadata": {
      "needs_background": "light"
     },
     "output_type": "display_data"
    }
   ],
   "source": [
    "#Input Rate before rebalancing\n",
    "b1=[]\n",
    "for dat in irbr1.timestamp:\n",
    "    # print (dat)\n",
    "    b1.append(datetime.strptime(str(dat), \"%Y-%m-%d %H:%M:%S\"))\n",
    "plt.plot(b1,irbr1['values'])\n",
    "plt.xticks(rotation=90)\n",
    "plt.xlabel('time stamps')\n",
    "plt.ylabel('input rate')\n",
    "plt.title('Broker1 Input Rate before Rebalancing')\n",
    "plt.show()"
   ]
  },
  {
   "cell_type": "code",
   "execution_count": 12,
   "metadata": {},
   "outputs": [
    {
     "data": {
      "image/png": "[encoded data removed]",
      "text/plain": [
       "<Figure size 432x288 with 1 Axes>"
      ]
     },
     "metadata": {
      "needs_background": "light"
     },
     "output_type": "display_data"
    }
   ],
   "source": [
    "#Input Rate during rebalancing\n",
    "d1=[]\n",
    "for dat in irdr1.timestamp:\n",
    "    # print (dat)\n",
    "    d1.append(datetime.strptime(str(dat), \"%Y-%m-%d %H:%M:%S\"))\n",
    "plt.plot(d1,irdr1['values'])\n",
    "plt.xticks(rotation=90)\n",
    "plt.xlabel('time stamps')\n",
    "plt.ylabel('input rate')\n",
    "plt.title('Broker1 Input Rate during Rebalancing')\n",
    "plt.show()"
   ]
  },
  {
   "cell_type": "code",
   "execution_count": 21,
   "metadata": {},
   "outputs": [
    {
     "data": {
      "text/html": [
       "<div>\n",
       "<style scoped>\n",
       "    .dataframe tbody tr th:only-of-type {\n",
       "        vertical-align: middle;\n",
       "    }\n",
       "\n",
       "    .dataframe tbody tr th {\n",
       "        vertical-align: top;\n",
       "    }\n",
       "\n",
       "    .dataframe thead th {\n",
       "        text-align: right;\n",
       "    }\n",
       "</style>\n",
       "<table border=\"1\" class=\"dataframe\">\n",
       "  <thead>\n",
       "    <tr style=\"text-align: right;\">\n",
       "      <th></th>\n",
       "      <th>timestamp</th>\n",
       "      <th>values</th>\n",
       "      <th>pod</th>\n",
       "    </tr>\n",
       "  </thead>\n",
       "  <tbody>\n",
       "    <tr>\n",
       "      <th>0</th>\n",
       "      <td>2021-07-30 23:50:54</td>\n",
       "      <td>21138643</td>\n",
       "      <td>my-cluster-metrics-kafka-1</td>\n",
       "    </tr>\n",
       "    <tr>\n",
       "      <th>1</th>\n",
       "      <td>2021-07-30 23:51:24</td>\n",
       "      <td>34276911</td>\n",
       "      <td>my-cluster-metrics-kafka-1</td>\n",
       "    </tr>\n",
       "    <tr>\n",
       "      <th>2</th>\n",
       "      <td>2021-07-30 23:51:54</td>\n",
       "      <td>45789601</td>\n",
       "      <td>my-cluster-metrics-kafka-1</td>\n",
       "    </tr>\n",
       "  </tbody>\n",
       "</table>\n",
       "</div>"
      ],
      "text/plain": [
       "            timestamp    values                         pod\n",
       "0 2021-07-30 23:50:54  21138643  my-cluster-metrics-kafka-1\n",
       "1 2021-07-30 23:51:24  34276911  my-cluster-metrics-kafka-1\n",
       "2 2021-07-30 23:51:54  45789601  my-cluster-metrics-kafka-1"
      ]
     },
     "execution_count": 21,
     "metadata": {},
     "output_type": "execute_result"
    }
   ],
   "source": [
    "# DA on the Input Rate of Broker-2\n",
    "df2b = pd.read_csv(\"Brok2IR.csv\")\n",
    "df2b.drop(['name'], axis=1, inplace=True)\n",
    "df2b['timestamp'] = pd.to_datetime(df2b['timestamp'], unit='s')\n",
    "df2b.head(3)"
   ]
  },
  {
   "cell_type": "code",
   "execution_count": 22,
   "metadata": {},
   "outputs": [
    {
     "name": "stdout",
     "output_type": "stream",
     "text": [
      "406740253.3015873\n"
     ]
    },
    {
     "data": {
      "text/html": [
       "<div>\n",
       "<style scoped>\n",
       "    .dataframe tbody tr th:only-of-type {\n",
       "        vertical-align: middle;\n",
       "    }\n",
       "\n",
       "    .dataframe tbody tr th {\n",
       "        vertical-align: top;\n",
       "    }\n",
       "\n",
       "    .dataframe thead th {\n",
       "        text-align: right;\n",
       "    }\n",
       "</style>\n",
       "<table border=\"1\" class=\"dataframe\">\n",
       "  <thead>\n",
       "    <tr style=\"text-align: right;\">\n",
       "      <th></th>\n",
       "      <th>values</th>\n",
       "    </tr>\n",
       "  </thead>\n",
       "  <tbody>\n",
       "    <tr>\n",
       "      <th>count</th>\n",
       "      <td>6.300000e+01</td>\n",
       "    </tr>\n",
       "    <tr>\n",
       "      <th>mean</th>\n",
       "      <td>4.067403e+08</td>\n",
       "    </tr>\n",
       "    <tr>\n",
       "      <th>std</th>\n",
       "      <td>2.281026e+08</td>\n",
       "    </tr>\n",
       "    <tr>\n",
       "      <th>min</th>\n",
       "      <td>2.113864e+07</td>\n",
       "    </tr>\n",
       "    <tr>\n",
       "      <th>25%</th>\n",
       "      <td>2.265840e+08</td>\n",
       "    </tr>\n",
       "    <tr>\n",
       "      <th>50%</th>\n",
       "      <td>4.007304e+08</td>\n",
       "    </tr>\n",
       "    <tr>\n",
       "      <th>75%</th>\n",
       "      <td>6.053177e+08</td>\n",
       "    </tr>\n",
       "    <tr>\n",
       "      <th>max</th>\n",
       "      <td>7.751971e+08</td>\n",
       "    </tr>\n",
       "  </tbody>\n",
       "</table>\n",
       "</div>"
      ],
      "text/plain": [
       "             values\n",
       "count  6.300000e+01\n",
       "mean   4.067403e+08\n",
       "std    2.281026e+08\n",
       "min    2.113864e+07\n",
       "25%    2.265840e+08\n",
       "50%    4.007304e+08\n",
       "75%    6.053177e+08\n",
       "max    7.751971e+08"
      ]
     },
     "execution_count": 22,
     "metadata": {},
     "output_type": "execute_result"
    }
   ],
   "source": [
    "#Average Input Rate before rebalancing\n",
    "irbr2 = df2b[(df2b['timestamp'] >= '2021-07-30 23:50:54') & (df2b['timestamp'] <= '2021-07-31 00:21:54')]\n",
    "irbr2.head(3)\n",
    "irbr2avg = irbr2['values'].mean()\n",
    "print(irbr2avg)\n",
    "irbr2.describe()"
   ]
  },
  {
   "cell_type": "code",
   "execution_count": 23,
   "metadata": {},
   "outputs": [
    {
     "name": "stdout",
     "output_type": "stream",
     "text": [
      "824327580.375\n"
     ]
    },
    {
     "data": {
      "text/html": [
       "<div>\n",
       "<style scoped>\n",
       "    .dataframe tbody tr th:only-of-type {\n",
       "        vertical-align: middle;\n",
       "    }\n",
       "\n",
       "    .dataframe tbody tr th {\n",
       "        vertical-align: top;\n",
       "    }\n",
       "\n",
       "    .dataframe thead th {\n",
       "        text-align: right;\n",
       "    }\n",
       "</style>\n",
       "<table border=\"1\" class=\"dataframe\">\n",
       "  <thead>\n",
       "    <tr style=\"text-align: right;\">\n",
       "      <th></th>\n",
       "      <th>values</th>\n",
       "    </tr>\n",
       "  </thead>\n",
       "  <tbody>\n",
       "    <tr>\n",
       "      <th>count</th>\n",
       "      <td>8.000000e+00</td>\n",
       "    </tr>\n",
       "    <tr>\n",
       "      <th>mean</th>\n",
       "      <td>8.243276e+08</td>\n",
       "    </tr>\n",
       "    <tr>\n",
       "      <th>std</th>\n",
       "      <td>2.283507e+07</td>\n",
       "    </tr>\n",
       "    <tr>\n",
       "      <th>min</th>\n",
       "      <td>7.908834e+08</td>\n",
       "    </tr>\n",
       "    <tr>\n",
       "      <th>25%</th>\n",
       "      <td>8.091040e+08</td>\n",
       "    </tr>\n",
       "    <tr>\n",
       "      <th>50%</th>\n",
       "      <td>8.243424e+08</td>\n",
       "    </tr>\n",
       "    <tr>\n",
       "      <th>75%</th>\n",
       "      <td>8.411878e+08</td>\n",
       "    </tr>\n",
       "    <tr>\n",
       "      <th>max</th>\n",
       "      <td>8.555145e+08</td>\n",
       "    </tr>\n",
       "  </tbody>\n",
       "</table>\n",
       "</div>"
      ],
      "text/plain": [
       "             values\n",
       "count  8.000000e+00\n",
       "mean   8.243276e+08\n",
       "std    2.283507e+07\n",
       "min    7.908834e+08\n",
       "25%    8.091040e+08\n",
       "50%    8.243424e+08\n",
       "75%    8.411878e+08\n",
       "max    8.555145e+08"
      ]
     },
     "execution_count": 23,
     "metadata": {},
     "output_type": "execute_result"
    }
   ],
   "source": [
    "#Average Input Rate During rebalancing\n",
    "irdr2 = df2b[(df2b['timestamp'] >= '2021-07-31 00:22:24') & (df2b['timestamp'] <= '2021-07-31 00:25:54')]\n",
    "irdr2.head(3)\n",
    "irdr2avg = irdr2['values'].mean()\n",
    "print(irdr2avg)\n",
    "irdr2.describe()"
   ]
  },
  {
   "cell_type": "code",
   "execution_count": 24,
   "metadata": {},
   "outputs": [
    {
     "name": "stdout",
     "output_type": "stream",
     "text": [
      "Ttest_indResult(statistic=5.142641093512631, pvalue=2.417862838463384e-06)\n"
     ]
    }
   ],
   "source": [
    "#T-Stats Analysis\n",
    "resb2ir = ttest_ind(irdr2['values'], irbr2['values'])\n",
    "print(resb2ir)"
   ]
  },
  {
   "cell_type": "code",
   "execution_count": 25,
   "metadata": {},
   "outputs": [
    {
     "name": "stdout",
     "output_type": "stream",
     "text": [
      "<class 'pandas.core.frame.DataFrame'>\n",
      "Int64Index: 63 entries, 0 to 62\n",
      "Data columns (total 2 columns):\n",
      " #   Column     Non-Null Count  Dtype         \n",
      "---  ------     --------------  -----         \n",
      " 0   timestamp  63 non-null     datetime64[ns]\n",
      " 1   values     63 non-null     int64         \n",
      "dtypes: datetime64[ns](1), int64(1)\n",
      "memory usage: 1.5 KB\n"
     ]
    },
    {
     "name": "stderr",
     "output_type": "stream",
     "text": [
      "C:\\Users\\Bhuvi\\anaconda3\\lib\\site-packages\\pandas\\core\\frame.py:4163: SettingWithCopyWarning: \n",
      "A value is trying to be set on a copy of a slice from a DataFrame\n",
      "\n",
      "See the caveats in the documentation: https://pandas.pydata.org/pandas-docs/stable/user_guide/indexing.html#returning-a-view-versus-a-copy\n",
      "  return super().drop(\n"
     ]
    }
   ],
   "source": [
    "irbr2.drop(['pod'], axis=1, inplace=True)\n",
    "irbr2.head(10)\n",
    "irbr2.info()"
   ]
  },
  {
   "cell_type": "code",
   "execution_count": 26,
   "metadata": {},
   "outputs": [
    {
     "name": "stdout",
     "output_type": "stream",
     "text": [
      "<class 'pandas.core.frame.DataFrame'>\n",
      "Int64Index: 8 entries, 63 to 70\n",
      "Data columns (total 2 columns):\n",
      " #   Column     Non-Null Count  Dtype         \n",
      "---  ------     --------------  -----         \n",
      " 0   timestamp  8 non-null      datetime64[ns]\n",
      " 1   values     8 non-null      int64         \n",
      "dtypes: datetime64[ns](1), int64(1)\n",
      "memory usage: 192.0 bytes\n"
     ]
    }
   ],
   "source": [
    "irdr2.drop(['pod'], axis=1, inplace=True)\n",
    "irdr2.head(10)\n",
    "irdr2.info()"
   ]
  },
  {
   "cell_type": "code",
   "execution_count": 27,
   "metadata": {},
   "outputs": [
    {
     "data": {
      "text/plain": [
       "Text(0.5, 1.0, 'Broker2 Input Rate')"
      ]
     },
     "execution_count": 27,
     "metadata": {},
     "output_type": "execute_result"
    },
    {
     "data": {
      "image/png": "[encoded data removed]",
      "text/plain": [
       "<Figure size 720x288 with 1 Axes>"
      ]
     },
     "metadata": {
      "needs_background": "light"
     },
     "output_type": "display_data"
    }
   ],
   "source": [
    "from datetime import datetime\n",
    "#Input Rate for the entire load test\n",
    "i2=[]\n",
    "for dat in df2b.timestamp:\n",
    "    # print (dat)\n",
    "    i2.append(datetime.strptime(str(dat), \"%Y-%m-%d %H:%M:%S\"))\n",
    "fig2 = plt.figure(figsize=(10,4))\n",
    "axe2 = fig2.add_axes([0.2, 0.1, 0.6, 0.8])\n",
    "axe2.plot(i2,df2b['values'], 'b')\n",
    "axe2.set_xlabel('time stamps')\n",
    "axe2.set_ylabel('input rate')\n",
    "axe2.set_title('Broker2 Input Rate')\n",
    "#fig1.tight_layout()"
   ]
  },
  {
   "cell_type": "code",
   "execution_count": 28,
   "metadata": {},
   "outputs": [
    {
     "data": {
      "image/png": "[encoded data removed]",
      "text/plain": [
       "<Figure size 432x288 with 1 Axes>"
      ]
     },
     "metadata": {
      "needs_background": "light"
     },
     "output_type": "display_data"
    }
   ],
   "source": [
    "#Input Rate before rebalancing\n",
    "b2=[]\n",
    "for dat in irbr2.timestamp:\n",
    "    # print (dat)\n",
    "    b2.append(datetime.strptime(str(dat), \"%Y-%m-%d %H:%M:%S\"))\n",
    "plt.plot(b2,irbr2['values'])\n",
    "plt.xticks(rotation=90)\n",
    "plt.xlabel('time stamps')\n",
    "plt.ylabel('input rate')\n",
    "plt.title('Broker2 Input Rate before Rebalancing')\n",
    "plt.show()"
   ]
  },
  {
   "cell_type": "code",
   "execution_count": 29,
   "metadata": {},
   "outputs": [
    {
     "data": {
      "image/png": "[encoded data removed]",
      "text/plain": [
       "<Figure size 432x288 with 1 Axes>"
      ]
     },
     "metadata": {
      "needs_background": "light"
     },
     "output_type": "display_data"
    }
   ],
   "source": [
    "#Input Rate during rebalancing\n",
    "d2=[]\n",
    "for dat in irdr2.timestamp:\n",
    "    # print (dat)\n",
    "    d2.append(datetime.strptime(str(dat), \"%Y-%m-%d %H:%M:%S\"))\n",
    "plt.plot(d2,irdr2['values'])\n",
    "plt.xticks(rotation=90)\n",
    "plt.xlabel('time stamps')\n",
    "plt.ylabel('input rate')\n",
    "plt.title('Broker2 Input Rate during Rebalancing')\n",
    "plt.show()"
   ]
  },
  {
   "cell_type": "code",
   "execution_count": 32,
   "metadata": {},
   "outputs": [
    {
     "data": {
      "text/html": [
       "<div>\n",
       "<style scoped>\n",
       "    .dataframe tbody tr th:only-of-type {\n",
       "        vertical-align: middle;\n",
       "    }\n",
       "\n",
       "    .dataframe tbody tr th {\n",
       "        vertical-align: top;\n",
       "    }\n",
       "\n",
       "    .dataframe thead th {\n",
       "        text-align: right;\n",
       "    }\n",
       "</style>\n",
       "<table border=\"1\" class=\"dataframe\">\n",
       "  <thead>\n",
       "    <tr style=\"text-align: right;\">\n",
       "      <th></th>\n",
       "      <th>timestamp</th>\n",
       "      <th>values</th>\n",
       "      <th>pod</th>\n",
       "    </tr>\n",
       "  </thead>\n",
       "  <tbody>\n",
       "    <tr>\n",
       "      <th>0</th>\n",
       "      <td>2021-07-30 23:51:03</td>\n",
       "      <td>35281199</td>\n",
       "      <td>my-cluster-metrics-kafka-2</td>\n",
       "    </tr>\n",
       "    <tr>\n",
       "      <th>1</th>\n",
       "      <td>2021-07-30 23:51:33</td>\n",
       "      <td>55795077</td>\n",
       "      <td>my-cluster-metrics-kafka-2</td>\n",
       "    </tr>\n",
       "    <tr>\n",
       "      <th>2</th>\n",
       "      <td>2021-07-30 23:52:03</td>\n",
       "      <td>71542016</td>\n",
       "      <td>my-cluster-metrics-kafka-2</td>\n",
       "    </tr>\n",
       "  </tbody>\n",
       "</table>\n",
       "</div>"
      ],
      "text/plain": [
       "            timestamp    values                         pod\n",
       "0 2021-07-30 23:51:03  35281199  my-cluster-metrics-kafka-2\n",
       "1 2021-07-30 23:51:33  55795077  my-cluster-metrics-kafka-2\n",
       "2 2021-07-30 23:52:03  71542016  my-cluster-metrics-kafka-2"
      ]
     },
     "execution_count": 32,
     "metadata": {},
     "output_type": "execute_result"
    }
   ],
   "source": [
    "# DA on the Input Rate of Broker-3\n",
    "df3b = pd.read_csv(\"Brok3IR.csv\")\n",
    "df3b.drop(['name'], axis=1, inplace=True)\n",
    "df3b['timestamp'] = pd.to_datetime(df3b['timestamp'], unit='s')\n",
    "df3b.head(3)"
   ]
  },
  {
   "cell_type": "code",
   "execution_count": 33,
   "metadata": {},
   "outputs": [
    {
     "name": "stdout",
     "output_type": "stream",
     "text": [
      "504864664.5322581\n"
     ]
    },
    {
     "data": {
      "text/html": [
       "<div>\n",
       "<style scoped>\n",
       "    .dataframe tbody tr th:only-of-type {\n",
       "        vertical-align: middle;\n",
       "    }\n",
       "\n",
       "    .dataframe tbody tr th {\n",
       "        vertical-align: top;\n",
       "    }\n",
       "\n",
       "    .dataframe thead th {\n",
       "        text-align: right;\n",
       "    }\n",
       "</style>\n",
       "<table border=\"1\" class=\"dataframe\">\n",
       "  <thead>\n",
       "    <tr style=\"text-align: right;\">\n",
       "      <th></th>\n",
       "      <th>values</th>\n",
       "    </tr>\n",
       "  </thead>\n",
       "  <tbody>\n",
       "    <tr>\n",
       "      <th>count</th>\n",
       "      <td>6.200000e+01</td>\n",
       "    </tr>\n",
       "    <tr>\n",
       "      <th>mean</th>\n",
       "      <td>5.048647e+08</td>\n",
       "    </tr>\n",
       "    <tr>\n",
       "      <th>std</th>\n",
       "      <td>2.680529e+08</td>\n",
       "    </tr>\n",
       "    <tr>\n",
       "      <th>min</th>\n",
       "      <td>3.528120e+07</td>\n",
       "    </tr>\n",
       "    <tr>\n",
       "      <th>25%</th>\n",
       "      <td>2.820712e+08</td>\n",
       "    </tr>\n",
       "    <tr>\n",
       "      <th>50%</th>\n",
       "      <td>5.163801e+08</td>\n",
       "    </tr>\n",
       "    <tr>\n",
       "      <th>75%</th>\n",
       "      <td>7.533701e+08</td>\n",
       "    </tr>\n",
       "    <tr>\n",
       "      <th>max</th>\n",
       "      <td>9.176362e+08</td>\n",
       "    </tr>\n",
       "  </tbody>\n",
       "</table>\n",
       "</div>"
      ],
      "text/plain": [
       "             values\n",
       "count  6.200000e+01\n",
       "mean   5.048647e+08\n",
       "std    2.680529e+08\n",
       "min    3.528120e+07\n",
       "25%    2.820712e+08\n",
       "50%    5.163801e+08\n",
       "75%    7.533701e+08\n",
       "max    9.176362e+08"
      ]
     },
     "execution_count": 33,
     "metadata": {},
     "output_type": "execute_result"
    }
   ],
   "source": [
    "#Average Input Rate before rebalancing\n",
    "irbr3 = df3b[(df3b['timestamp'] >= '2021-07-30 23:51:03') & (df3b['timestamp'] <= '2021-07-31 00:21:33')]\n",
    "irbr3.head(3)\n",
    "irbr3avg = irbr3['values'].mean()\n",
    "print(irbr3avg)\n",
    "irbr3.describe()"
   ]
  },
  {
   "cell_type": "code",
   "execution_count": 34,
   "metadata": {},
   "outputs": [
    {
     "name": "stdout",
     "output_type": "stream",
     "text": [
      "994312474.125\n"
     ]
    },
    {
     "data": {
      "text/html": [
       "<div>\n",
       "<style scoped>\n",
       "    .dataframe tbody tr th:only-of-type {\n",
       "        vertical-align: middle;\n",
       "    }\n",
       "\n",
       "    .dataframe tbody tr th {\n",
       "        vertical-align: top;\n",
       "    }\n",
       "\n",
       "    .dataframe thead th {\n",
       "        text-align: right;\n",
       "    }\n",
       "</style>\n",
       "<table border=\"1\" class=\"dataframe\">\n",
       "  <thead>\n",
       "    <tr style=\"text-align: right;\">\n",
       "      <th></th>\n",
       "      <th>values</th>\n",
       "    </tr>\n",
       "  </thead>\n",
       "  <tbody>\n",
       "    <tr>\n",
       "      <th>count</th>\n",
       "      <td>8.000000e+00</td>\n",
       "    </tr>\n",
       "    <tr>\n",
       "      <th>mean</th>\n",
       "      <td>9.505713e+08</td>\n",
       "    </tr>\n",
       "    <tr>\n",
       "      <th>std</th>\n",
       "      <td>1.539839e+07</td>\n",
       "    </tr>\n",
       "    <tr>\n",
       "      <th>min</th>\n",
       "      <td>9.307838e+08</td>\n",
       "    </tr>\n",
       "    <tr>\n",
       "      <th>25%</th>\n",
       "      <td>9.408621e+08</td>\n",
       "    </tr>\n",
       "    <tr>\n",
       "      <th>50%</th>\n",
       "      <td>9.480935e+08</td>\n",
       "    </tr>\n",
       "    <tr>\n",
       "      <th>75%</th>\n",
       "      <td>9.572562e+08</td>\n",
       "    </tr>\n",
       "    <tr>\n",
       "      <th>max</th>\n",
       "      <td>9.781792e+08</td>\n",
       "    </tr>\n",
       "  </tbody>\n",
       "</table>\n",
       "</div>"
      ],
      "text/plain": [
       "             values\n",
       "count  8.000000e+00\n",
       "mean   9.505713e+08\n",
       "std    1.539839e+07\n",
       "min    9.307838e+08\n",
       "25%    9.408621e+08\n",
       "50%    9.480935e+08\n",
       "75%    9.572562e+08\n",
       "max    9.781792e+08"
      ]
     },
     "execution_count": 34,
     "metadata": {},
     "output_type": "execute_result"
    }
   ],
   "source": [
    "#Average Input Rate During rebalancing\n",
    "irdr3 = df3b[(df3b['timestamp'] >= '2021-07-31 00:22:03') & (df3b['timestamp'] <= '2021-07-31 00:25:33')]\n",
    "irdr3.head(3)\n",
    "irdr3avg = irdr3['values'].mean()\n",
    "print(irdr1avg)\n",
    "irdr3.describe()"
   ]
  },
  {
   "cell_type": "code",
   "execution_count": 35,
   "metadata": {},
   "outputs": [
    {
     "name": "stdout",
     "output_type": "stream",
     "text": [
      "Ttest_indResult(statistic=4.672268076192817, pvalue=1.454283540411056e-05)\n"
     ]
    }
   ],
   "source": [
    "#T-Stats Analysis\n",
    "resb3ir = ttest_ind(irdr3['values'], irbr3['values'])\n",
    "print(resb3ir)"
   ]
  },
  {
   "cell_type": "code",
   "execution_count": 36,
   "metadata": {},
   "outputs": [
    {
     "name": "stdout",
     "output_type": "stream",
     "text": [
      "<class 'pandas.core.frame.DataFrame'>\n",
      "Int64Index: 62 entries, 0 to 61\n",
      "Data columns (total 2 columns):\n",
      " #   Column     Non-Null Count  Dtype         \n",
      "---  ------     --------------  -----         \n",
      " 0   timestamp  62 non-null     datetime64[ns]\n",
      " 1   values     62 non-null     int64         \n",
      "dtypes: datetime64[ns](1), int64(1)\n",
      "memory usage: 1.5 KB\n"
     ]
    },
    {
     "name": "stderr",
     "output_type": "stream",
     "text": [
      "C:\\Users\\Bhuvi\\anaconda3\\lib\\site-packages\\pandas\\core\\frame.py:4163: SettingWithCopyWarning: \n",
      "A value is trying to be set on a copy of a slice from a DataFrame\n",
      "\n",
      "See the caveats in the documentation: https://pandas.pydata.org/pandas-docs/stable/user_guide/indexing.html#returning-a-view-versus-a-copy\n",
      "  return super().drop(\n"
     ]
    }
   ],
   "source": [
    "irbr3.drop(['pod'], axis=1, inplace=True)\n",
    "irbr3.head(10)\n",
    "irbr3.info()"
   ]
  },
  {
   "cell_type": "code",
   "execution_count": 37,
   "metadata": {},
   "outputs": [
    {
     "name": "stdout",
     "output_type": "stream",
     "text": [
      "<class 'pandas.core.frame.DataFrame'>\n",
      "Int64Index: 8 entries, 62 to 69\n",
      "Data columns (total 2 columns):\n",
      " #   Column     Non-Null Count  Dtype         \n",
      "---  ------     --------------  -----         \n",
      " 0   timestamp  8 non-null      datetime64[ns]\n",
      " 1   values     8 non-null      int64         \n",
      "dtypes: datetime64[ns](1), int64(1)\n",
      "memory usage: 192.0 bytes\n"
     ]
    }
   ],
   "source": [
    "irdr3.drop(['pod'], axis=1, inplace=True)\n",
    "irdr3.head(10)\n",
    "irdr3.info()"
   ]
  },
  {
   "cell_type": "code",
   "execution_count": 38,
   "metadata": {},
   "outputs": [
    {
     "data": {
      "text/plain": [
       "Text(0.5, 1.0, 'Broker3 Input Rate')"
      ]
     },
     "execution_count": 38,
     "metadata": {},
     "output_type": "execute_result"
    },
    {
     "data": {
      "image/png": "[encoded data removed]",
      "text/plain": [
       "<Figure size 720x288 with 1 Axes>"
      ]
     },
     "metadata": {
      "needs_background": "light"
     },
     "output_type": "display_data"
    }
   ],
   "source": [
    "from datetime import datetime\n",
    "#Input Rate for the entire load test\n",
    "i3=[]\n",
    "for dat in df3b.timestamp:\n",
    "    # print (dat)\n",
    "    i3.append(datetime.strptime(str(dat), \"%Y-%m-%d %H:%M:%S\"))\n",
    "fig3 = plt.figure(figsize=(10,4))\n",
    "axe3 = fig3.add_axes([0.2, 0.1, 0.6, 0.8])\n",
    "axe3.plot(i3,df3b['values'], 'r')\n",
    "axe3.set_xlabel('time stamps')\n",
    "axe3.set_ylabel('input rate')\n",
    "axe3.set_title('Broker3 Input Rate')\n",
    "#fig1.tight_layout()"
   ]
  },
  {
   "cell_type": "code",
   "execution_count": 39,
   "metadata": {},
   "outputs": [
    {
     "data": {
      "image/png": "[encoded data removed]",
      "text/plain": [
       "<Figure size 432x288 with 1 Axes>"
      ]
     },
     "metadata": {
      "needs_background": "light"
     },
     "output_type": "display_data"
    }
   ],
   "source": [
    "#Input Rate before rebalancing\n",
    "b3=[]\n",
    "for dat in irbr3.timestamp:\n",
    "    # print (dat)\n",
    "    b3.append(datetime.strptime(str(dat), \"%Y-%m-%d %H:%M:%S\"))\n",
    "plt.plot(b3,irbr3['values'])\n",
    "plt.xticks(rotation=90)\n",
    "plt.xlabel('time stamps')\n",
    "plt.ylabel('input rate')\n",
    "plt.title('Broker3 Input Rate before Rebalancing')\n",
    "plt.show()"
   ]
  },
  {
   "cell_type": "code",
   "execution_count": 40,
   "metadata": {},
   "outputs": [
    {
     "data": {
      "image/png": "[encoded data removed]",
      "text/plain": [
       "<Figure size 432x288 with 1 Axes>"
      ]
     },
     "metadata": {
      "needs_background": "light"
     },
     "output_type": "display_data"
    }
   ],
   "source": [
    "#Input Rate during rebalancing\n",
    "d3=[]\n",
    "for dat in irdr3.timestamp:\n",
    "    # print (dat)\n",
    "    d3.append(datetime.strptime(str(dat), \"%Y-%m-%d %H:%M:%S\"))\n",
    "plt.plot(d3,irdr3['values'])\n",
    "plt.xticks(rotation=90)\n",
    "plt.xlabel('time stamps')\n",
    "plt.ylabel('input rate')\n",
    "plt.title('Broker3 Input Rate during Rebalancing')\n",
    "plt.show()"
   ]
  },
  {
   "cell_type": "code",
   "execution_count": null,
   "metadata": {},
   "outputs": [],
   "source": []
  },
  {
   "cell_type": "code",
   "execution_count": null,
   "metadata": {},
   "outputs": [],
   "source": []
  }
 ],
 "metadata": {
  "kernelspec": {
   "display_name": "Python 3",
   "language": "python",
   "name": "python3"
  },
  "language_info": {
   "codemirror_mode": {
    "name": "ipython",
    "version": 3
   },
   "file_extension": ".py",
   "mimetype": "text/x-python",
   "name": "python",
   "nbconvert_exporter": "python",
   "pygments_lexer": "ipython3",
   "version": "3.8.5"
  }
 },
 "nbformat": 4,
 "nbformat_minor": 4
}
