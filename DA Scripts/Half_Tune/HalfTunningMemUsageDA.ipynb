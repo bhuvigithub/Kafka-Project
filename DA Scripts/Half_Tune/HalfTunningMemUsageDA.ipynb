{
 "cells": [
  {
   "cell_type": "code",
   "execution_count": 7,
   "metadata": {},
   "outputs": [
    {
     "data": {
      "text/html": [
       "<div>\n",
       "<style scoped>\n",
       "    .dataframe tbody tr th:only-of-type {\n",
       "        vertical-align: middle;\n",
       "    }\n",
       "\n",
       "    .dataframe tbody tr th {\n",
       "        vertical-align: top;\n",
       "    }\n",
       "\n",
       "    .dataframe thead th {\n",
       "        text-align: right;\n",
       "    }\n",
       "</style>\n",
       "<table border=\"1\" class=\"dataframe\">\n",
       "  <thead>\n",
       "    <tr style=\"text-align: right;\">\n",
       "      <th></th>\n",
       "      <th>timestamp</th>\n",
       "      <th>values</th>\n",
       "      <th>pod</th>\n",
       "    </tr>\n",
       "  </thead>\n",
       "  <tbody>\n",
       "    <tr>\n",
       "      <th>0</th>\n",
       "      <td>2021-07-31 14:47:13</td>\n",
       "      <td>1811173376</td>\n",
       "      <td>my-cluster-metrics-kafka-0</td>\n",
       "    </tr>\n",
       "    <tr>\n",
       "      <th>1</th>\n",
       "      <td>2021-07-31 14:47:27</td>\n",
       "      <td>1833603072</td>\n",
       "      <td>my-cluster-metrics-kafka-0</td>\n",
       "    </tr>\n",
       "    <tr>\n",
       "      <th>2</th>\n",
       "      <td>2021-07-31 14:47:40</td>\n",
       "      <td>1857839104</td>\n",
       "      <td>my-cluster-metrics-kafka-0</td>\n",
       "    </tr>\n",
       "  </tbody>\n",
       "</table>\n",
       "</div>"
      ],
      "text/plain": [
       "            timestamp      values                         pod\n",
       "0 2021-07-31 14:47:13  1811173376  my-cluster-metrics-kafka-0\n",
       "1 2021-07-31 14:47:27  1833603072  my-cluster-metrics-kafka-0\n",
       "2 2021-07-31 14:47:40  1857839104  my-cluster-metrics-kafka-0"
      ]
     },
     "execution_count": 7,
     "metadata": {},
     "output_type": "execute_result"
    }
   ],
   "source": [
    "import pandas as pd\n",
    "import datetime\n",
    "import matplotlib.pyplot as plt\n",
    "# DA on the Memory Usage of Broker-1\n",
    "df1b = pd.read_csv(\"Brok1mem_usage.csv\")\n",
    "df1b.drop(['name'], axis=1, inplace=True)\n",
    "df1b['timestamp'] = pd.to_datetime(df1b['timestamp'], unit='s')\n",
    "df1b.head(3)"
   ]
  },
  {
   "cell_type": "code",
   "execution_count": 8,
   "metadata": {},
   "outputs": [
    {
     "name": "stdout",
     "output_type": "stream",
     "text": [
      "2479659059.630252\n"
     ]
    },
    {
     "data": {
      "text/html": [
       "<div>\n",
       "<style scoped>\n",
       "    .dataframe tbody tr th:only-of-type {\n",
       "        vertical-align: middle;\n",
       "    }\n",
       "\n",
       "    .dataframe tbody tr th {\n",
       "        vertical-align: top;\n",
       "    }\n",
       "\n",
       "    .dataframe thead th {\n",
       "        text-align: right;\n",
       "    }\n",
       "</style>\n",
       "<table border=\"1\" class=\"dataframe\">\n",
       "  <thead>\n",
       "    <tr style=\"text-align: right;\">\n",
       "      <th></th>\n",
       "      <th>values</th>\n",
       "    </tr>\n",
       "  </thead>\n",
       "  <tbody>\n",
       "    <tr>\n",
       "      <th>count</th>\n",
       "      <td>1.190000e+02</td>\n",
       "    </tr>\n",
       "    <tr>\n",
       "      <th>mean</th>\n",
       "      <td>2.479659e+09</td>\n",
       "    </tr>\n",
       "    <tr>\n",
       "      <th>std</th>\n",
       "      <td>2.078501e+08</td>\n",
       "    </tr>\n",
       "    <tr>\n",
       "      <th>min</th>\n",
       "      <td>1.811173e+09</td>\n",
       "    </tr>\n",
       "    <tr>\n",
       "      <th>25%</th>\n",
       "      <td>2.526657e+09</td>\n",
       "    </tr>\n",
       "    <tr>\n",
       "      <th>50%</th>\n",
       "      <td>2.564194e+09</td>\n",
       "    </tr>\n",
       "    <tr>\n",
       "      <th>75%</th>\n",
       "      <td>2.584795e+09</td>\n",
       "    </tr>\n",
       "    <tr>\n",
       "      <th>max</th>\n",
       "      <td>2.633908e+09</td>\n",
       "    </tr>\n",
       "  </tbody>\n",
       "</table>\n",
       "</div>"
      ],
      "text/plain": [
       "             values\n",
       "count  1.190000e+02\n",
       "mean   2.479659e+09\n",
       "std    2.078501e+08\n",
       "min    1.811173e+09\n",
       "25%    2.526657e+09\n",
       "50%    2.564194e+09\n",
       "75%    2.584795e+09\n",
       "max    2.633908e+09"
      ]
     },
     "execution_count": 8,
     "metadata": {},
     "output_type": "execute_result"
    }
   ],
   "source": [
    "#Average Memory Usage before rebalancing\n",
    "membr1 = df1b[(df1b['timestamp'] >= '2021-07-31 14:47:13') & (df1b['timestamp'] <= '2021-07-31 15:17:11')]\n",
    "membr1.head(3)\n",
    "membr1avg = membr1['values'].mean()\n",
    "print(membr1avg)\n",
    "membr1.describe()"
   ]
  },
  {
   "cell_type": "code",
   "execution_count": 9,
   "metadata": {},
   "outputs": [
    {
     "name": "stdout",
     "output_type": "stream",
     "text": [
      "2627868122.5365853\n"
     ]
    },
    {
     "data": {
      "text/html": [
       "<div>\n",
       "<style scoped>\n",
       "    .dataframe tbody tr th:only-of-type {\n",
       "        vertical-align: middle;\n",
       "    }\n",
       "\n",
       "    .dataframe tbody tr th {\n",
       "        vertical-align: top;\n",
       "    }\n",
       "\n",
       "    .dataframe thead th {\n",
       "        text-align: right;\n",
       "    }\n",
       "</style>\n",
       "<table border=\"1\" class=\"dataframe\">\n",
       "  <thead>\n",
       "    <tr style=\"text-align: right;\">\n",
       "      <th></th>\n",
       "      <th>values</th>\n",
       "    </tr>\n",
       "  </thead>\n",
       "  <tbody>\n",
       "    <tr>\n",
       "      <th>count</th>\n",
       "      <td>4.100000e+01</td>\n",
       "    </tr>\n",
       "    <tr>\n",
       "      <th>mean</th>\n",
       "      <td>2.627868e+09</td>\n",
       "    </tr>\n",
       "    <tr>\n",
       "      <th>std</th>\n",
       "      <td>2.918788e+07</td>\n",
       "    </tr>\n",
       "    <tr>\n",
       "      <th>min</th>\n",
       "      <td>2.576228e+09</td>\n",
       "    </tr>\n",
       "    <tr>\n",
       "      <th>25%</th>\n",
       "      <td>2.602570e+09</td>\n",
       "    </tr>\n",
       "    <tr>\n",
       "      <th>50%</th>\n",
       "      <td>2.628223e+09</td>\n",
       "    </tr>\n",
       "    <tr>\n",
       "      <th>75%</th>\n",
       "      <td>2.650247e+09</td>\n",
       "    </tr>\n",
       "    <tr>\n",
       "      <th>max</th>\n",
       "      <td>2.682221e+09</td>\n",
       "    </tr>\n",
       "  </tbody>\n",
       "</table>\n",
       "</div>"
      ],
      "text/plain": [
       "             values\n",
       "count  4.100000e+01\n",
       "mean   2.627868e+09\n",
       "std    2.918788e+07\n",
       "min    2.576228e+09\n",
       "25%    2.602570e+09\n",
       "50%    2.628223e+09\n",
       "75%    2.650247e+09\n",
       "max    2.682221e+09"
      ]
     },
     "execution_count": 9,
     "metadata": {},
     "output_type": "execute_result"
    }
   ],
   "source": [
    "#Average Memory Usage During rebalancing\n",
    "memdr1 = df1b[(df1b['timestamp'] >= '2021-07-31 15:17:29') & (df1b['timestamp'] <= '2021-07-31 15:27:09')]\n",
    "memdr1.head(3)\n",
    "memdr1avg = memdr1['values'].mean()\n",
    "print(memdr1avg)\n",
    "memdr1.describe()"
   ]
  },
  {
   "cell_type": "code",
   "execution_count": 10,
   "metadata": {},
   "outputs": [
    {
     "name": "stdout",
     "output_type": "stream",
     "text": [
      "Ttest_indResult(statistic=4.5412002261501785, pvalue=1.1038260508679205e-05)\n"
     ]
    }
   ],
   "source": [
    "#T-Stats Analysis\n",
    "from scipy.stats import ttest_ind\n",
    "resb1mem = ttest_ind(memdr1['values'], membr1['values'])\n",
    "print(resb1mem)\n"
   ]
  },
  {
   "cell_type": "code",
   "execution_count": 11,
   "metadata": {},
   "outputs": [
    {
     "name": "stdout",
     "output_type": "stream",
     "text": [
      "<class 'pandas.core.frame.DataFrame'>\n",
      "Int64Index: 119 entries, 0 to 118\n",
      "Data columns (total 2 columns):\n",
      " #   Column     Non-Null Count  Dtype         \n",
      "---  ------     --------------  -----         \n",
      " 0   timestamp  119 non-null    datetime64[ns]\n",
      " 1   values     119 non-null    int64         \n",
      "dtypes: datetime64[ns](1), int64(1)\n",
      "memory usage: 2.8 KB\n"
     ]
    },
    {
     "name": "stderr",
     "output_type": "stream",
     "text": [
      "C:\\Users\\Bhuvi\\anaconda3\\lib\\site-packages\\pandas\\core\\frame.py:4163: SettingWithCopyWarning: \n",
      "A value is trying to be set on a copy of a slice from a DataFrame\n",
      "\n",
      "See the caveats in the documentation: https://pandas.pydata.org/pandas-docs/stable/user_guide/indexing.html#returning-a-view-versus-a-copy\n",
      "  return super().drop(\n"
     ]
    }
   ],
   "source": [
    "membr1.drop(['pod'], axis=1, inplace=True)\n",
    "membr1.head(10)\n",
    "membr1.info()"
   ]
  },
  {
   "cell_type": "code",
   "execution_count": 12,
   "metadata": {},
   "outputs": [
    {
     "name": "stdout",
     "output_type": "stream",
     "text": [
      "<class 'pandas.core.frame.DataFrame'>\n",
      "Int64Index: 41 entries, 119 to 159\n",
      "Data columns (total 2 columns):\n",
      " #   Column     Non-Null Count  Dtype         \n",
      "---  ------     --------------  -----         \n",
      " 0   timestamp  41 non-null     datetime64[ns]\n",
      " 1   values     41 non-null     int64         \n",
      "dtypes: datetime64[ns](1), int64(1)\n",
      "memory usage: 984.0 bytes\n"
     ]
    }
   ],
   "source": [
    "memdr1.drop(['pod'], axis=1, inplace=True)\n",
    "memdr1.head(10)\n",
    "memdr1.info()"
   ]
  },
  {
   "cell_type": "code",
   "execution_count": 13,
   "metadata": {},
   "outputs": [
    {
     "data": {
      "text/plain": [
       "Text(0.5, 1.0, 'Broker1 Memory Usage')"
      ]
     },
     "execution_count": 13,
     "metadata": {},
     "output_type": "execute_result"
    },
    {
     "data": {
      "image/png": "[encoded data removed]",
      "text/plain": [
       "<Figure size 720x288 with 1 Axes>"
      ]
     },
     "metadata": {
      "needs_background": "light"
     },
     "output_type": "display_data"
    }
   ],
   "source": [
    "from datetime import datetime\n",
    "#Memory Usage for the entire load test\n",
    "m1=[]\n",
    "for dat in df1b.timestamp:\n",
    "    # print (dat)\n",
    "    m1.append(datetime.strptime(str(dat), \"%Y-%m-%d %H:%M:%S\"))\n",
    "fig1 = plt.figure(figsize=(10,4))\n",
    "axe1 = fig1.add_axes([0.2, 0.1, 0.6, 0.8])\n",
    "axe1.plot(m1,df1b['values'], 'g')\n",
    "axe1.set_xlabel('time stamps')\n",
    "axe1.set_ylabel('memory usage')\n",
    "axe1.set_title('Broker1 Memory Usage')\n",
    "#fig1.tight_layout()"
   ]
  },
  {
   "cell_type": "code",
   "execution_count": 14,
   "metadata": {},
   "outputs": [
    {
     "data": {
      "image/png": "[encoded data removed]",
      "text/plain": [
       "<Figure size 432x288 with 1 Axes>"
      ]
     },
     "metadata": {
      "needs_background": "light"
     },
     "output_type": "display_data"
    }
   ],
   "source": [
    "#Memory Usage before rebalancing\n",
    "b=[]\n",
    "for dat in membr1.timestamp:\n",
    "    # print (dat)\n",
    "    b.append(datetime.strptime(str(dat), \"%Y-%m-%d %H:%M:%S\"))\n",
    "plt.plot(b,membr1['values'])\n",
    "plt.xticks(rotation=90)\n",
    "plt.xlabel('time stamps')\n",
    "plt.ylabel('memory usage')\n",
    "plt.title('Broker1 Memory Usage before Rebalancing')\n",
    "plt.show()"
   ]
  },
  {
   "cell_type": "code",
   "execution_count": 15,
   "metadata": {},
   "outputs": [
    {
     "data": {
      "image/png": "[encoded data removed]",
      "text/plain": [
       "<Figure size 432x288 with 1 Axes>"
      ]
     },
     "metadata": {
      "needs_background": "light"
     },
     "output_type": "display_data"
    }
   ],
   "source": [
    "#Memory Usage during rebalancing\n",
    "d=[]\n",
    "for dat in memdr1.timestamp:\n",
    "    # print (dat)\n",
    "    d.append(datetime.strptime(str(dat), \"%Y-%m-%d %H:%M:%S\"))\n",
    "plt.plot(d,memdr1['values'])\n",
    "plt.xticks(rotation=90)\n",
    "plt.xlabel('time stamps')\n",
    "plt.ylabel('memory usage')\n",
    "plt.title('Broker1 Memory Usage during Rebalancing')\n",
    "plt.show()"
   ]
  },
  {
   "cell_type": "code",
   "execution_count": 20,
   "metadata": {},
   "outputs": [
    {
     "data": {
      "text/html": [
       "<div>\n",
       "<style scoped>\n",
       "    .dataframe tbody tr th:only-of-type {\n",
       "        vertical-align: middle;\n",
       "    }\n",
       "\n",
       "    .dataframe tbody tr th {\n",
       "        vertical-align: top;\n",
       "    }\n",
       "\n",
       "    .dataframe thead th {\n",
       "        text-align: right;\n",
       "    }\n",
       "</style>\n",
       "<table border=\"1\" class=\"dataframe\">\n",
       "  <thead>\n",
       "    <tr style=\"text-align: right;\">\n",
       "      <th></th>\n",
       "      <th>timestamp</th>\n",
       "      <th>values</th>\n",
       "      <th>pod</th>\n",
       "    </tr>\n",
       "  </thead>\n",
       "  <tbody>\n",
       "    <tr>\n",
       "      <th>0</th>\n",
       "      <td>2021-07-31 14:47:50</td>\n",
       "      <td>1752518656</td>\n",
       "      <td>my-cluster-metrics-kafka-1</td>\n",
       "    </tr>\n",
       "    <tr>\n",
       "      <th>1</th>\n",
       "      <td>2021-07-31 14:48:00</td>\n",
       "      <td>1768177664</td>\n",
       "      <td>my-cluster-metrics-kafka-1</td>\n",
       "    </tr>\n",
       "    <tr>\n",
       "      <th>2</th>\n",
       "      <td>2021-07-31 14:48:11</td>\n",
       "      <td>1780301824</td>\n",
       "      <td>my-cluster-metrics-kafka-1</td>\n",
       "    </tr>\n",
       "  </tbody>\n",
       "</table>\n",
       "</div>"
      ],
      "text/plain": [
       "            timestamp      values                         pod\n",
       "0 2021-07-31 14:47:50  1752518656  my-cluster-metrics-kafka-1\n",
       "1 2021-07-31 14:48:00  1768177664  my-cluster-metrics-kafka-1\n",
       "2 2021-07-31 14:48:11  1780301824  my-cluster-metrics-kafka-1"
      ]
     },
     "execution_count": 20,
     "metadata": {},
     "output_type": "execute_result"
    }
   ],
   "source": [
    "# DA on the Memory Usage of Broker-2\n",
    "df2b = pd.read_csv(\"Brok2mem_usage.csv\")\n",
    "df2b.drop(['name'], axis=1, inplace=True)\n",
    "df2b['timestamp'] = pd.to_datetime(df2b['timestamp'], unit='s')\n",
    "df2b.head(3)"
   ]
  },
  {
   "cell_type": "code",
   "execution_count": 21,
   "metadata": {},
   "outputs": [
    {
     "name": "stdout",
     "output_type": "stream",
     "text": [
      "2439947685.647059\n"
     ]
    },
    {
     "data": {
      "text/html": [
       "<div>\n",
       "<style scoped>\n",
       "    .dataframe tbody tr th:only-of-type {\n",
       "        vertical-align: middle;\n",
       "    }\n",
       "\n",
       "    .dataframe tbody tr th {\n",
       "        vertical-align: top;\n",
       "    }\n",
       "\n",
       "    .dataframe thead th {\n",
       "        text-align: right;\n",
       "    }\n",
       "</style>\n",
       "<table border=\"1\" class=\"dataframe\">\n",
       "  <thead>\n",
       "    <tr style=\"text-align: right;\">\n",
       "      <th></th>\n",
       "      <th>values</th>\n",
       "    </tr>\n",
       "  </thead>\n",
       "  <tbody>\n",
       "    <tr>\n",
       "      <th>count</th>\n",
       "      <td>1.190000e+02</td>\n",
       "    </tr>\n",
       "    <tr>\n",
       "      <th>mean</th>\n",
       "      <td>2.439948e+09</td>\n",
       "    </tr>\n",
       "    <tr>\n",
       "      <th>std</th>\n",
       "      <td>2.407431e+08</td>\n",
       "    </tr>\n",
       "    <tr>\n",
       "      <th>min</th>\n",
       "      <td>1.752519e+09</td>\n",
       "    </tr>\n",
       "    <tr>\n",
       "      <th>25%</th>\n",
       "      <td>2.378072e+09</td>\n",
       "    </tr>\n",
       "    <tr>\n",
       "      <th>50%</th>\n",
       "      <td>2.520682e+09</td>\n",
       "    </tr>\n",
       "    <tr>\n",
       "      <th>75%</th>\n",
       "      <td>2.619466e+09</td>\n",
       "    </tr>\n",
       "    <tr>\n",
       "      <th>max</th>\n",
       "      <td>2.652398e+09</td>\n",
       "    </tr>\n",
       "  </tbody>\n",
       "</table>\n",
       "</div>"
      ],
      "text/plain": [
       "             values\n",
       "count  1.190000e+02\n",
       "mean   2.439948e+09\n",
       "std    2.407431e+08\n",
       "min    1.752519e+09\n",
       "25%    2.378072e+09\n",
       "50%    2.520682e+09\n",
       "75%    2.619466e+09\n",
       "max    2.652398e+09"
      ]
     },
     "execution_count": 21,
     "metadata": {},
     "output_type": "execute_result"
    }
   ],
   "source": [
    "#Average Memory Usage before rebalancing\n",
    "membr2 = df2b[(df2b['timestamp'] >= '2021-07-31 14:47:50') & (df2b['timestamp'] <= '2021-07-31 15:17:13')]\n",
    "membr2.head(3)\n",
    "membr2avg = membr2['values'].mean()\n",
    "print(membr2avg)\n",
    "membr2.describe()"
   ]
  },
  {
   "cell_type": "code",
   "execution_count": 22,
   "metadata": {},
   "outputs": [
    {
     "name": "stdout",
     "output_type": "stream",
     "text": [
      "2581195252.6222224\n"
     ]
    },
    {
     "data": {
      "text/html": [
       "<div>\n",
       "<style scoped>\n",
       "    .dataframe tbody tr th:only-of-type {\n",
       "        vertical-align: middle;\n",
       "    }\n",
       "\n",
       "    .dataframe tbody tr th {\n",
       "        vertical-align: top;\n",
       "    }\n",
       "\n",
       "    .dataframe thead th {\n",
       "        text-align: right;\n",
       "    }\n",
       "</style>\n",
       "<table border=\"1\" class=\"dataframe\">\n",
       "  <thead>\n",
       "    <tr style=\"text-align: right;\">\n",
       "      <th></th>\n",
       "      <th>values</th>\n",
       "    </tr>\n",
       "  </thead>\n",
       "  <tbody>\n",
       "    <tr>\n",
       "      <th>count</th>\n",
       "      <td>4.500000e+01</td>\n",
       "    </tr>\n",
       "    <tr>\n",
       "      <th>mean</th>\n",
       "      <td>2.581195e+09</td>\n",
       "    </tr>\n",
       "    <tr>\n",
       "      <th>std</th>\n",
       "      <td>3.946893e+07</td>\n",
       "    </tr>\n",
       "    <tr>\n",
       "      <th>min</th>\n",
       "      <td>2.520887e+09</td>\n",
       "    </tr>\n",
       "    <tr>\n",
       "      <th>25%</th>\n",
       "      <td>2.541457e+09</td>\n",
       "    </tr>\n",
       "    <tr>\n",
       "      <th>50%</th>\n",
       "      <td>2.585223e+09</td>\n",
       "    </tr>\n",
       "    <tr>\n",
       "      <th>75%</th>\n",
       "      <td>2.611831e+09</td>\n",
       "    </tr>\n",
       "    <tr>\n",
       "      <th>max</th>\n",
       "      <td>2.661159e+09</td>\n",
       "    </tr>\n",
       "  </tbody>\n",
       "</table>\n",
       "</div>"
      ],
      "text/plain": [
       "             values\n",
       "count  4.500000e+01\n",
       "mean   2.581195e+09\n",
       "std    3.946893e+07\n",
       "min    2.520887e+09\n",
       "25%    2.541457e+09\n",
       "50%    2.585223e+09\n",
       "75%    2.611831e+09\n",
       "max    2.661159e+09"
      ]
     },
     "execution_count": 22,
     "metadata": {},
     "output_type": "execute_result"
    }
   ],
   "source": [
    "#Average Memory Usage During rebalancing\n",
    "memdr2 = df2b[(df2b['timestamp'] >= '2021-07-31 15:17:28') & (df2b['timestamp'] <= '2021-07-31 15:28:15')]\n",
    "memdr2.head(3)\n",
    "memdr2avg = memdr2['values'].mean()\n",
    "print(memdr2avg)\n",
    "memdr2.describe()"
   ]
  },
  {
   "cell_type": "code",
   "execution_count": 23,
   "metadata": {},
   "outputs": [
    {
     "name": "stdout",
     "output_type": "stream",
     "text": [
      "Ttest_indResult(statistic=4.5412002261501785, pvalue=1.1038260508679205e-05)\n"
     ]
    }
   ],
   "source": [
    "#T-Stats Analysis\n",
    "resb2mem = ttest_ind(memdr2['values'], membr2['values'])\n",
    "print(resb1mem)"
   ]
  },
  {
   "cell_type": "code",
   "execution_count": 24,
   "metadata": {},
   "outputs": [
    {
     "name": "stdout",
     "output_type": "stream",
     "text": [
      "<class 'pandas.core.frame.DataFrame'>\n",
      "Int64Index: 119 entries, 0 to 118\n",
      "Data columns (total 2 columns):\n",
      " #   Column     Non-Null Count  Dtype         \n",
      "---  ------     --------------  -----         \n",
      " 0   timestamp  119 non-null    datetime64[ns]\n",
      " 1   values     119 non-null    int64         \n",
      "dtypes: datetime64[ns](1), int64(1)\n",
      "memory usage: 2.8 KB\n"
     ]
    },
    {
     "name": "stderr",
     "output_type": "stream",
     "text": [
      "C:\\Users\\Bhuvi\\anaconda3\\lib\\site-packages\\pandas\\core\\frame.py:4163: SettingWithCopyWarning: \n",
      "A value is trying to be set on a copy of a slice from a DataFrame\n",
      "\n",
      "See the caveats in the documentation: https://pandas.pydata.org/pandas-docs/stable/user_guide/indexing.html#returning-a-view-versus-a-copy\n",
      "  return super().drop(\n"
     ]
    }
   ],
   "source": [
    "membr2.drop(['pod'], axis=1, inplace=True)\n",
    "membr2.head(10)\n",
    "membr2.info()"
   ]
  },
  {
   "cell_type": "code",
   "execution_count": 25,
   "metadata": {},
   "outputs": [
    {
     "name": "stdout",
     "output_type": "stream",
     "text": [
      "<class 'pandas.core.frame.DataFrame'>\n",
      "Int64Index: 45 entries, 119 to 163\n",
      "Data columns (total 2 columns):\n",
      " #   Column     Non-Null Count  Dtype         \n",
      "---  ------     --------------  -----         \n",
      " 0   timestamp  45 non-null     datetime64[ns]\n",
      " 1   values     45 non-null     int64         \n",
      "dtypes: datetime64[ns](1), int64(1)\n",
      "memory usage: 1.1 KB\n"
     ]
    }
   ],
   "source": [
    "memdr2.drop(['pod'], axis=1, inplace=True)\n",
    "memdr2.head(10)\n",
    "memdr2.info()"
   ]
  },
  {
   "cell_type": "code",
   "execution_count": 26,
   "metadata": {},
   "outputs": [
    {
     "data": {
      "text/plain": [
       "Text(0.5, 1.0, 'Broker2 Memory Usage')"
      ]
     },
     "execution_count": 26,
     "metadata": {},
     "output_type": "execute_result"
    },
    {
     "data": {
      "image/png": "[encoded data removed]",
      "text/plain": [
       "<Figure size 720x288 with 1 Axes>"
      ]
     },
     "metadata": {
      "needs_background": "light"
     },
     "output_type": "display_data"
    }
   ],
   "source": [
    "from datetime import datetime\n",
    "#Memory Usage for the entire load test\n",
    "m2=[]\n",
    "for dat in df2b.timestamp:\n",
    "    # print (dat)\n",
    "    m2.append(datetime.strptime(str(dat), \"%Y-%m-%d %H:%M:%S\"))\n",
    "fig2 = plt.figure(figsize=(10,4))\n",
    "axe2 = fig2.add_axes([0.2, 0.1, 0.6, 0.8])\n",
    "axe2.plot(m2,df2b['values'], 'b')\n",
    "axe2.set_xlabel('time stamps')\n",
    "axe2.set_ylabel('memory usage')\n",
    "axe2.set_title('Broker2 Memory Usage')\n",
    "#fig1.tight_layout()"
   ]
  },
  {
   "cell_type": "code",
   "execution_count": 27,
   "metadata": {},
   "outputs": [
    {
     "data": {
      "image/png": "[encoded data removed]",
      "text/plain": [
       "<Figure size 432x288 with 1 Axes>"
      ]
     },
     "metadata": {
      "needs_background": "light"
     },
     "output_type": "display_data"
    }
   ],
   "source": [
    "#Memory Usage before rebalancing\n",
    "b2=[]\n",
    "for dat in membr2.timestamp:\n",
    "    # print (dat)\n",
    "    b2.append(datetime.strptime(str(dat), \"%Y-%m-%d %H:%M:%S\"))\n",
    "plt.plot(b2,membr2['values'])\n",
    "plt.xticks(rotation=90)\n",
    "plt.xlabel('time stamps')\n",
    "plt.ylabel('memory usage')\n",
    "plt.title('Broker2 Memory Usage before Rebalancing')\n",
    "plt.show()"
   ]
  },
  {
   "cell_type": "code",
   "execution_count": 30,
   "metadata": {},
   "outputs": [
    {
     "data": {
      "image/png": "[encoded data removed]",
      "text/plain": [
       "<Figure size 432x288 with 1 Axes>"
      ]
     },
     "metadata": {
      "needs_background": "light"
     },
     "output_type": "display_data"
    }
   ],
   "source": [
    "#Memory Usage during rebalancing\n",
    "d2=[]\n",
    "for dat in memdr2.timestamp:\n",
    "    # print (dat)\n",
    "    d2.append(datetime.strptime(str(dat), \"%Y-%m-%d %H:%M:%S\"))\n",
    "plt.plot(d2,memdr2['values'])\n",
    "plt.xticks(rotation=90)\n",
    "plt.xlabel('time stamps')\n",
    "plt.ylabel('memory usage')\n",
    "plt.title('Broker2 Memory Usage during Rebalancing')\n",
    "plt.show()"
   ]
  },
  {
   "cell_type": "code",
   "execution_count": 37,
   "metadata": {},
   "outputs": [
    {
     "data": {
      "text/html": [
       "<div>\n",
       "<style scoped>\n",
       "    .dataframe tbody tr th:only-of-type {\n",
       "        vertical-align: middle;\n",
       "    }\n",
       "\n",
       "    .dataframe tbody tr th {\n",
       "        vertical-align: top;\n",
       "    }\n",
       "\n",
       "    .dataframe thead th {\n",
       "        text-align: right;\n",
       "    }\n",
       "</style>\n",
       "<table border=\"1\" class=\"dataframe\">\n",
       "  <thead>\n",
       "    <tr style=\"text-align: right;\">\n",
       "      <th></th>\n",
       "      <th>timestamp</th>\n",
       "      <th>values</th>\n",
       "      <th>pod</th>\n",
       "    </tr>\n",
       "  </thead>\n",
       "  <tbody>\n",
       "    <tr>\n",
       "      <th>0</th>\n",
       "      <td>2021-07-31 14:48:44</td>\n",
       "      <td>1866473472</td>\n",
       "      <td>my-cluster-metrics-kafka-2</td>\n",
       "    </tr>\n",
       "    <tr>\n",
       "      <th>1</th>\n",
       "      <td>2021-07-31 14:49:04</td>\n",
       "      <td>1898659840</td>\n",
       "      <td>my-cluster-metrics-kafka-2</td>\n",
       "    </tr>\n",
       "    <tr>\n",
       "      <th>2</th>\n",
       "      <td>2021-07-31 14:49:21</td>\n",
       "      <td>1939501056</td>\n",
       "      <td>my-cluster-metrics-kafka-2</td>\n",
       "    </tr>\n",
       "  </tbody>\n",
       "</table>\n",
       "</div>"
      ],
      "text/plain": [
       "            timestamp      values                         pod\n",
       "0 2021-07-31 14:48:44  1866473472  my-cluster-metrics-kafka-2\n",
       "1 2021-07-31 14:49:04  1898659840  my-cluster-metrics-kafka-2\n",
       "2 2021-07-31 14:49:21  1939501056  my-cluster-metrics-kafka-2"
      ]
     },
     "execution_count": 37,
     "metadata": {},
     "output_type": "execute_result"
    }
   ],
   "source": [
    "# DA on the Memory Usage of Broker-3\n",
    "df3b = pd.read_csv(\"Brok3mem_usage.csv\")\n",
    "df3b.drop(['name'], axis=1, inplace=True)\n",
    "df3b['timestamp'] = pd.to_datetime(df3b['timestamp'], unit='s')\n",
    "df3b.head(3)"
   ]
  },
  {
   "cell_type": "code",
   "execution_count": 38,
   "metadata": {},
   "outputs": [
    {
     "name": "stdout",
     "output_type": "stream",
     "text": [
      "2228045731.747748\n"
     ]
    },
    {
     "data": {
      "text/html": [
       "<div>\n",
       "<style scoped>\n",
       "    .dataframe tbody tr th:only-of-type {\n",
       "        vertical-align: middle;\n",
       "    }\n",
       "\n",
       "    .dataframe tbody tr th {\n",
       "        vertical-align: top;\n",
       "    }\n",
       "\n",
       "    .dataframe thead th {\n",
       "        text-align: right;\n",
       "    }\n",
       "</style>\n",
       "<table border=\"1\" class=\"dataframe\">\n",
       "  <thead>\n",
       "    <tr style=\"text-align: right;\">\n",
       "      <th></th>\n",
       "      <th>values</th>\n",
       "    </tr>\n",
       "  </thead>\n",
       "  <tbody>\n",
       "    <tr>\n",
       "      <th>count</th>\n",
       "      <td>1.110000e+02</td>\n",
       "    </tr>\n",
       "    <tr>\n",
       "      <th>mean</th>\n",
       "      <td>2.228046e+09</td>\n",
       "    </tr>\n",
       "    <tr>\n",
       "      <th>std</th>\n",
       "      <td>8.235569e+07</td>\n",
       "    </tr>\n",
       "    <tr>\n",
       "      <th>min</th>\n",
       "      <td>1.866473e+09</td>\n",
       "    </tr>\n",
       "    <tr>\n",
       "      <th>25%</th>\n",
       "      <td>2.212334e+09</td>\n",
       "    </tr>\n",
       "    <tr>\n",
       "      <th>50%</th>\n",
       "      <td>2.252009e+09</td>\n",
       "    </tr>\n",
       "    <tr>\n",
       "      <th>75%</th>\n",
       "      <td>2.277792e+09</td>\n",
       "    </tr>\n",
       "    <tr>\n",
       "      <th>max</th>\n",
       "      <td>2.324050e+09</td>\n",
       "    </tr>\n",
       "  </tbody>\n",
       "</table>\n",
       "</div>"
      ],
      "text/plain": [
       "             values\n",
       "count  1.110000e+02\n",
       "mean   2.228046e+09\n",
       "std    8.235569e+07\n",
       "min    1.866473e+09\n",
       "25%    2.212334e+09\n",
       "50%    2.252009e+09\n",
       "75%    2.277792e+09\n",
       "max    2.324050e+09"
      ]
     },
     "execution_count": 38,
     "metadata": {},
     "output_type": "execute_result"
    }
   ],
   "source": [
    "#Average Memory Usage before rebalancing\n",
    "membr3 = df3b[(df3b['timestamp'] >= '2021-07-31 14:48:44') & (df3b['timestamp'] <= '2021-07-31 15:17:13')]\n",
    "membr3.head(3)\n",
    "membr3avg = membr3['values'].mean()\n",
    "print(membr3avg)\n",
    "membr3.describe()"
   ]
  },
  {
   "cell_type": "code",
   "execution_count": 46,
   "metadata": {},
   "outputs": [
    {
     "name": "stdout",
     "output_type": "stream",
     "text": [
      "2283432800.711111\n"
     ]
    },
    {
     "data": {
      "text/html": [
       "<div>\n",
       "<style scoped>\n",
       "    .dataframe tbody tr th:only-of-type {\n",
       "        vertical-align: middle;\n",
       "    }\n",
       "\n",
       "    .dataframe tbody tr th {\n",
       "        vertical-align: top;\n",
       "    }\n",
       "\n",
       "    .dataframe thead th {\n",
       "        text-align: right;\n",
       "    }\n",
       "</style>\n",
       "<table border=\"1\" class=\"dataframe\">\n",
       "  <thead>\n",
       "    <tr style=\"text-align: right;\">\n",
       "      <th></th>\n",
       "      <th>values</th>\n",
       "    </tr>\n",
       "  </thead>\n",
       "  <tbody>\n",
       "    <tr>\n",
       "      <th>count</th>\n",
       "      <td>4.500000e+01</td>\n",
       "    </tr>\n",
       "    <tr>\n",
       "      <th>mean</th>\n",
       "      <td>2.283433e+09</td>\n",
       "    </tr>\n",
       "    <tr>\n",
       "      <th>std</th>\n",
       "      <td>2.991612e+07</td>\n",
       "    </tr>\n",
       "    <tr>\n",
       "      <th>min</th>\n",
       "      <td>2.225451e+09</td>\n",
       "    </tr>\n",
       "    <tr>\n",
       "      <th>25%</th>\n",
       "      <td>2.260423e+09</td>\n",
       "    </tr>\n",
       "    <tr>\n",
       "      <th>50%</th>\n",
       "      <td>2.289836e+09</td>\n",
       "    </tr>\n",
       "    <tr>\n",
       "      <th>75%</th>\n",
       "      <td>2.306343e+09</td>\n",
       "    </tr>\n",
       "    <tr>\n",
       "      <th>max</th>\n",
       "      <td>2.336686e+09</td>\n",
       "    </tr>\n",
       "  </tbody>\n",
       "</table>\n",
       "</div>"
      ],
      "text/plain": [
       "             values\n",
       "count  4.500000e+01\n",
       "mean   2.283433e+09\n",
       "std    2.991612e+07\n",
       "min    2.225451e+09\n",
       "25%    2.260423e+09\n",
       "50%    2.289836e+09\n",
       "75%    2.306343e+09\n",
       "max    2.336686e+09"
      ]
     },
     "execution_count": 46,
     "metadata": {},
     "output_type": "execute_result"
    }
   ],
   "source": [
    "#Average Memory Usage During rebalancing\n",
    "memdr3 = df3b[(df3b['timestamp'] >= '2021-07-31 15:17:28') & (df3b['timestamp'] <= '2021-07-31 15:28:27')]\n",
    "memdr3.head(3)\n",
    "memdr3avg = memdr3['values'].mean()\n",
    "print(memdr3avg)\n",
    "memdr3.describe()"
   ]
  },
  {
   "cell_type": "code",
   "execution_count": 40,
   "metadata": {},
   "outputs": [
    {
     "name": "stdout",
     "output_type": "stream",
     "text": [
      "Ttest_indResult(statistic=4.388489456859762, pvalue=2.1090417861816305e-05)\n"
     ]
    }
   ],
   "source": [
    "#T-Stats Analysis\n",
    "resb3mem = ttest_ind(memdr3['values'], membr3['values'])\n",
    "print(resb3mem)\n"
   ]
  },
  {
   "cell_type": "code",
   "execution_count": 41,
   "metadata": {},
   "outputs": [
    {
     "name": "stdout",
     "output_type": "stream",
     "text": [
      "<class 'pandas.core.frame.DataFrame'>\n",
      "Int64Index: 111 entries, 0 to 110\n",
      "Data columns (total 2 columns):\n",
      " #   Column     Non-Null Count  Dtype         \n",
      "---  ------     --------------  -----         \n",
      " 0   timestamp  111 non-null    datetime64[ns]\n",
      " 1   values     111 non-null    int64         \n",
      "dtypes: datetime64[ns](1), int64(1)\n",
      "memory usage: 2.6 KB\n"
     ]
    },
    {
     "name": "stderr",
     "output_type": "stream",
     "text": [
      "C:\\Users\\Bhuvi\\anaconda3\\lib\\site-packages\\pandas\\core\\frame.py:4163: SettingWithCopyWarning: \n",
      "A value is trying to be set on a copy of a slice from a DataFrame\n",
      "\n",
      "See the caveats in the documentation: https://pandas.pydata.org/pandas-docs/stable/user_guide/indexing.html#returning-a-view-versus-a-copy\n",
      "  return super().drop(\n"
     ]
    }
   ],
   "source": [
    "membr3.drop(['pod'], axis=1, inplace=True)\n",
    "membr3.head(10)\n",
    "membr3.info()"
   ]
  },
  {
   "cell_type": "code",
   "execution_count": 42,
   "metadata": {},
   "outputs": [
    {
     "name": "stdout",
     "output_type": "stream",
     "text": [
      "<class 'pandas.core.frame.DataFrame'>\n",
      "Int64Index: 45 entries, 111 to 155\n",
      "Data columns (total 2 columns):\n",
      " #   Column     Non-Null Count  Dtype         \n",
      "---  ------     --------------  -----         \n",
      " 0   timestamp  45 non-null     datetime64[ns]\n",
      " 1   values     45 non-null     int64         \n",
      "dtypes: datetime64[ns](1), int64(1)\n",
      "memory usage: 1.1 KB\n"
     ]
    }
   ],
   "source": [
    "memdr3.drop(['pod'], axis=1, inplace=True)\n",
    "memdr3.head(10)\n",
    "memdr3.info()\n"
   ]
  },
  {
   "cell_type": "code",
   "execution_count": 43,
   "metadata": {},
   "outputs": [
    {
     "data": {
      "text/plain": [
       "Text(0.5, 1.0, 'Broker3 Memory Usage')"
      ]
     },
     "execution_count": 43,
     "metadata": {},
     "output_type": "execute_result"
    },
    {
     "data": {
      "image/png": "[encoded data removed]",
      "text/plain": [
       "<Figure size 720x288 with 1 Axes>"
      ]
     },
     "metadata": {
      "needs_background": "light"
     },
     "output_type": "display_data"
    }
   ],
   "source": [
    "from datetime import datetime\n",
    "#Memory Usage for the entire load test\n",
    "m3=[]\n",
    "for dat in df3b.timestamp:\n",
    "    # print (dat)\n",
    "    m3.append(datetime.strptime(str(dat), \"%Y-%m-%d %H:%M:%S\"))\n",
    "fig3 = plt.figure(figsize=(10,4))\n",
    "axe3 = fig3.add_axes([0.2, 0.1, 0.6, 0.8])\n",
    "axe3.plot(m3,df3b['values'], 'r')\n",
    "axe3.set_xlabel('time stamps')\n",
    "axe3.set_ylabel('memory usage')\n",
    "axe2.set_title('Broker3 Memory Usage')\n",
    "#fig1.tight_layout()"
   ]
  },
  {
   "cell_type": "code",
   "execution_count": 44,
   "metadata": {},
   "outputs": [
    {
     "data": {
      "image/png": "[encoded data removed]",
      "text/plain": [
       "<Figure size 432x288 with 1 Axes>"
      ]
     },
     "metadata": {
      "needs_background": "light"
     },
     "output_type": "display_data"
    }
   ],
   "source": [
    "#Memory Usage before rebalancing\n",
    "b3=[]\n",
    "for dat in membr3.timestamp:\n",
    "    # print (dat)\n",
    "    b3.append(datetime.strptime(str(dat), \"%Y-%m-%d %H:%M:%S\"))\n",
    "plt.plot(b3,membr3['values'])\n",
    "plt.xticks(rotation=90)\n",
    "plt.xlabel('time stamps')\n",
    "plt.ylabel('memory usage')\n",
    "plt.title('Broker3 Memory Usage before Rebalancing')\n",
    "plt.show()"
   ]
  },
  {
   "cell_type": "code",
   "execution_count": 45,
   "metadata": {},
   "outputs": [
    {
     "data": {
      "image/png": "[encoded data removed]",
      "text/plain": [
       "<Figure size 432x288 with 1 Axes>"
      ]
     },
     "metadata": {
      "needs_background": "light"
     },
     "output_type": "display_data"
    }
   ],
   "source": [
    "#Memory Usage during rebalancing\n",
    "d3=[]\n",
    "for dat in memdr3.timestamp:\n",
    "    # print (dat)\n",
    "    d3.append(datetime.strptime(str(dat), \"%Y-%m-%d %H:%M:%S\"))\n",
    "plt.plot(d3,memdr3['values'])\n",
    "plt.xticks(rotation=90)\n",
    "plt.xlabel('time stamps')\n",
    "plt.ylabel('memory usage')\n",
    "plt.title('Broker3 Memory Usage during Rebalancing')\n",
    "plt.show()"
   ]
  },
  {
   "cell_type": "code",
   "execution_count": null,
   "metadata": {},
   "outputs": [],
   "source": []
  }
 ],
 "metadata": {
  "kernelspec": {
   "display_name": "Python 3",
   "language": "python",
   "name": "python3"
  },
  "language_info": {
   "codemirror_mode": {
    "name": "ipython",
    "version": 3
   },
   "file_extension": ".py",
   "mimetype": "text/x-python",
   "name": "python",
   "nbconvert_exporter": "python",
   "pygments_lexer": "ipython3",
   "version": "3.8.5"
  }
 },
 "nbformat": 4,
 "nbformat_minor": 4
}
