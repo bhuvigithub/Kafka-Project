{
 "cells": [
  {
   "cell_type": "code",
   "execution_count": 5,
   "metadata": {},
   "outputs": [
    {
     "data": {
      "text/html": [
       "<div>\n",
       "<style scoped>\n",
       "    .dataframe tbody tr th:only-of-type {\n",
       "        vertical-align: middle;\n",
       "    }\n",
       "\n",
       "    .dataframe tbody tr th {\n",
       "        vertical-align: top;\n",
       "    }\n",
       "\n",
       "    .dataframe thead th {\n",
       "        text-align: right;\n",
       "    }\n",
       "</style>\n",
       "<table border=\"1\" class=\"dataframe\">\n",
       "  <thead>\n",
       "    <tr style=\"text-align: right;\">\n",
       "      <th></th>\n",
       "      <th>timestamp</th>\n",
       "      <th>values</th>\n",
       "      <th>pod</th>\n",
       "    </tr>\n",
       "  </thead>\n",
       "  <tbody>\n",
       "    <tr>\n",
       "      <th>0</th>\n",
       "      <td>2021-07-31 14:37:27</td>\n",
       "      <td>449313</td>\n",
       "      <td>my-cluster-metrics-kafka-0</td>\n",
       "    </tr>\n",
       "    <tr>\n",
       "      <th>1</th>\n",
       "      <td>2021-07-31 14:37:57</td>\n",
       "      <td>468877</td>\n",
       "      <td>my-cluster-metrics-kafka-0</td>\n",
       "    </tr>\n",
       "    <tr>\n",
       "      <th>2</th>\n",
       "      <td>2021-07-31 14:38:27</td>\n",
       "      <td>468877</td>\n",
       "      <td>my-cluster-metrics-kafka-0</td>\n",
       "    </tr>\n",
       "  </tbody>\n",
       "</table>\n",
       "</div>"
      ],
      "text/plain": [
       "            timestamp  values                         pod\n",
       "0 2021-07-31 14:37:27  449313  my-cluster-metrics-kafka-0\n",
       "1 2021-07-31 14:37:57  468877  my-cluster-metrics-kafka-0\n",
       "2 2021-07-31 14:38:27  468877  my-cluster-metrics-kafka-0"
      ]
     },
     "execution_count": 5,
     "metadata": {},
     "output_type": "execute_result"
    }
   ],
   "source": [
    "import pandas as pd\n",
    "import datetime\n",
    "import matplotlib.pyplot as plt\n",
    "# DA on the Output Rate of Broker-1\n",
    "df1b = pd.read_csv(\"Brok1OR.csv\")\n",
    "df1b.drop(['name'], axis=1, inplace=True)\n",
    "df1b['timestamp'] = pd.to_datetime(df1b['timestamp'], unit='s')\n",
    "df1b.head(3)"
   ]
  },
  {
   "cell_type": "code",
   "execution_count": 6,
   "metadata": {},
   "outputs": [
    {
     "name": "stdout",
     "output_type": "stream",
     "text": [
      "197849110.828125\n"
     ]
    },
    {
     "data": {
      "text/html": [
       "<div>\n",
       "<style scoped>\n",
       "    .dataframe tbody tr th:only-of-type {\n",
       "        vertical-align: middle;\n",
       "    }\n",
       "\n",
       "    .dataframe tbody tr th {\n",
       "        vertical-align: top;\n",
       "    }\n",
       "\n",
       "    .dataframe thead th {\n",
       "        text-align: right;\n",
       "    }\n",
       "</style>\n",
       "<table border=\"1\" class=\"dataframe\">\n",
       "  <thead>\n",
       "    <tr style=\"text-align: right;\">\n",
       "      <th></th>\n",
       "      <th>values</th>\n",
       "    </tr>\n",
       "  </thead>\n",
       "  <tbody>\n",
       "    <tr>\n",
       "      <th>count</th>\n",
       "      <td>6.400000e+01</td>\n",
       "    </tr>\n",
       "    <tr>\n",
       "      <th>mean</th>\n",
       "      <td>1.978491e+08</td>\n",
       "    </tr>\n",
       "    <tr>\n",
       "      <th>std</th>\n",
       "      <td>1.941719e+08</td>\n",
       "    </tr>\n",
       "    <tr>\n",
       "      <th>min</th>\n",
       "      <td>2.410099e+07</td>\n",
       "    </tr>\n",
       "    <tr>\n",
       "      <th>25%</th>\n",
       "      <td>2.431209e+07</td>\n",
       "    </tr>\n",
       "    <tr>\n",
       "      <th>50%</th>\n",
       "      <td>1.862885e+08</td>\n",
       "    </tr>\n",
       "    <tr>\n",
       "      <th>75%</th>\n",
       "      <td>3.372053e+08</td>\n",
       "    </tr>\n",
       "    <tr>\n",
       "      <th>max</th>\n",
       "      <td>6.264148e+08</td>\n",
       "    </tr>\n",
       "  </tbody>\n",
       "</table>\n",
       "</div>"
      ],
      "text/plain": [
       "             values\n",
       "count  6.400000e+01\n",
       "mean   1.978491e+08\n",
       "std    1.941719e+08\n",
       "min    2.410099e+07\n",
       "25%    2.431209e+07\n",
       "50%    1.862885e+08\n",
       "75%    3.372053e+08\n",
       "max    6.264148e+08"
      ]
     },
     "execution_count": 6,
     "metadata": {},
     "output_type": "execute_result"
    }
   ],
   "source": [
    "#Average Output Rate before rebalancing\n",
    "orbr1 = df1b[(df1b['timestamp'] >= '2021-07-31 14:45:27') & (df1b['timestamp'] <= '2021-07-31 15:16:57')]\n",
    "orbr1.head(3)\n",
    "orbr1avg = orbr1['values'].mean()\n",
    "print(orbr1avg)\n",
    "orbr1.describe()\n"
   ]
  },
  {
   "cell_type": "code",
   "execution_count": 7,
   "metadata": {},
   "outputs": [
    {
     "name": "stdout",
     "output_type": "stream",
     "text": [
      "837088555.9565217\n"
     ]
    },
    {
     "data": {
      "text/html": [
       "<div>\n",
       "<style scoped>\n",
       "    .dataframe tbody tr th:only-of-type {\n",
       "        vertical-align: middle;\n",
       "    }\n",
       "\n",
       "    .dataframe tbody tr th {\n",
       "        vertical-align: top;\n",
       "    }\n",
       "\n",
       "    .dataframe thead th {\n",
       "        text-align: right;\n",
       "    }\n",
       "</style>\n",
       "<table border=\"1\" class=\"dataframe\">\n",
       "  <thead>\n",
       "    <tr style=\"text-align: right;\">\n",
       "      <th></th>\n",
       "      <th>values</th>\n",
       "    </tr>\n",
       "  </thead>\n",
       "  <tbody>\n",
       "    <tr>\n",
       "      <th>count</th>\n",
       "      <td>2.300000e+01</td>\n",
       "    </tr>\n",
       "    <tr>\n",
       "      <th>mean</th>\n",
       "      <td>8.370886e+08</td>\n",
       "    </tr>\n",
       "    <tr>\n",
       "      <th>std</th>\n",
       "      <td>1.292640e+08</td>\n",
       "    </tr>\n",
       "    <tr>\n",
       "      <th>min</th>\n",
       "      <td>6.352487e+08</td>\n",
       "    </tr>\n",
       "    <tr>\n",
       "      <th>25%</th>\n",
       "      <td>6.961317e+08</td>\n",
       "    </tr>\n",
       "    <tr>\n",
       "      <th>50%</th>\n",
       "      <td>8.929772e+08</td>\n",
       "    </tr>\n",
       "    <tr>\n",
       "      <th>75%</th>\n",
       "      <td>9.366047e+08</td>\n",
       "    </tr>\n",
       "    <tr>\n",
       "      <th>max</th>\n",
       "      <td>9.766810e+08</td>\n",
       "    </tr>\n",
       "  </tbody>\n",
       "</table>\n",
       "</div>"
      ],
      "text/plain": [
       "             values\n",
       "count  2.300000e+01\n",
       "mean   8.370886e+08\n",
       "std    1.292640e+08\n",
       "min    6.352487e+08\n",
       "25%    6.961317e+08\n",
       "50%    8.929772e+08\n",
       "75%    9.366047e+08\n",
       "max    9.766810e+08"
      ]
     },
     "execution_count": 7,
     "metadata": {},
     "output_type": "execute_result"
    }
   ],
   "source": [
    "#Average Output Rate During rebalancing\n",
    "ordr1 = df1b[(df1b['timestamp'] >= '2021-07-31 15:17:27') & (df1b['timestamp'] <= '2021-07-31 15:28:27')]\n",
    "ordr1.head(3)\n",
    "ordr1avg = ordr1['values'].mean()\n",
    "print(ordr1avg)\n",
    "ordr1.describe()\n"
   ]
  },
  {
   "cell_type": "code",
   "execution_count": 8,
   "metadata": {},
   "outputs": [
    {
     "name": "stdout",
     "output_type": "stream",
     "text": [
      "Ttest_indResult(statistic=14.637414131499021, pvalue=5.9588497612483185e-25)\n"
     ]
    }
   ],
   "source": [
    "#T-Stats Analysis\n",
    "from scipy.stats import ttest_ind\n",
    "resb1or = ttest_ind(ordr1['values'], orbr1['values'])\n",
    "print(resb1or)"
   ]
  },
  {
   "cell_type": "code",
   "execution_count": 9,
   "metadata": {},
   "outputs": [
    {
     "name": "stdout",
     "output_type": "stream",
     "text": [
      "<class 'pandas.core.frame.DataFrame'>\n",
      "Int64Index: 64 entries, 16 to 79\n",
      "Data columns (total 2 columns):\n",
      " #   Column     Non-Null Count  Dtype         \n",
      "---  ------     --------------  -----         \n",
      " 0   timestamp  64 non-null     datetime64[ns]\n",
      " 1   values     64 non-null     int64         \n",
      "dtypes: datetime64[ns](1), int64(1)\n",
      "memory usage: 1.5 KB\n"
     ]
    },
    {
     "name": "stderr",
     "output_type": "stream",
     "text": [
      "C:\\Users\\Bhuvi\\anaconda3\\lib\\site-packages\\pandas\\core\\frame.py:4163: SettingWithCopyWarning: \n",
      "A value is trying to be set on a copy of a slice from a DataFrame\n",
      "\n",
      "See the caveats in the documentation: https://pandas.pydata.org/pandas-docs/stable/user_guide/indexing.html#returning-a-view-versus-a-copy\n",
      "  return super().drop(\n"
     ]
    }
   ],
   "source": [
    "orbr1.drop(['pod'], axis=1, inplace=True)\n",
    "orbr1.head(10)\n",
    "orbr1.info()"
   ]
  },
  {
   "cell_type": "code",
   "execution_count": 10,
   "metadata": {},
   "outputs": [
    {
     "name": "stdout",
     "output_type": "stream",
     "text": [
      "<class 'pandas.core.frame.DataFrame'>\n",
      "Int64Index: 23 entries, 80 to 102\n",
      "Data columns (total 2 columns):\n",
      " #   Column     Non-Null Count  Dtype         \n",
      "---  ------     --------------  -----         \n",
      " 0   timestamp  23 non-null     datetime64[ns]\n",
      " 1   values     23 non-null     int64         \n",
      "dtypes: datetime64[ns](1), int64(1)\n",
      "memory usage: 552.0 bytes\n"
     ]
    }
   ],
   "source": [
    "ordr1.drop(['pod'], axis=1, inplace=True)\n",
    "ordr1.head(10)\n",
    "ordr1.info()\n"
   ]
  },
  {
   "cell_type": "code",
   "execution_count": 11,
   "metadata": {},
   "outputs": [
    {
     "data": {
      "text/plain": [
       "Text(0.5, 1.0, 'Broker1 Output Rate')"
      ]
     },
     "execution_count": 11,
     "metadata": {},
     "output_type": "execute_result"
    },
    {
     "data": {
      "image/png": "[encoded data removed]",
      "text/plain": [
       "<Figure size 720x288 with 1 Axes>"
      ]
     },
     "metadata": {
      "needs_background": "light"
     },
     "output_type": "display_data"
    }
   ],
   "source": [
    "from datetime import datetime\n",
    "#Output Rate for the entire load test\n",
    "o1=[]\n",
    "for dat in df1b.timestamp:\n",
    "    # print (dat)\n",
    "    o1.append(datetime.strptime(str(dat), \"%Y-%m-%d %H:%M:%S\"))\n",
    "fig1 = plt.figure(figsize=(10,4))\n",
    "axe1 = fig1.add_axes([0.2, 0.1, 0.6, 0.8])\n",
    "axe1.plot(o1,df1b['values'], 'g')\n",
    "axe1.set_xlabel('time stamps')\n",
    "axe1.set_ylabel('output rate')\n",
    "axe1.set_title('Broker1 Output Rate')\n",
    "#fig1.tight_layout()"
   ]
  },
  {
   "cell_type": "code",
   "execution_count": 12,
   "metadata": {},
   "outputs": [
    {
     "data": {
      "image/png": "[encoded data removed]",
      "text/plain": [
       "<Figure size 432x288 with 1 Axes>"
      ]
     },
     "metadata": {
      "needs_background": "light"
     },
     "output_type": "display_data"
    }
   ],
   "source": [
    "#Output Rate before rebalancing\n",
    "b1=[]\n",
    "for dat in orbr1.timestamp:\n",
    "    # print (dat)\n",
    "    b1.append(datetime.strptime(str(dat), \"%Y-%m-%d %H:%M:%S\"))\n",
    "plt.plot(b1,orbr1['values'])\n",
    "plt.xticks(rotation=90)\n",
    "plt.xlabel('time stamps')\n",
    "plt.ylabel('output rate')\n",
    "plt.title('Broker1 Output Rate before Rebalancing')\n",
    "plt.show()\n"
   ]
  },
  {
   "cell_type": "code",
   "execution_count": 13,
   "metadata": {},
   "outputs": [
    {
     "data": {
      "image/png": "[encoded data removed]",
      "text/plain": [
       "<Figure size 432x288 with 1 Axes>"
      ]
     },
     "metadata": {
      "needs_background": "light"
     },
     "output_type": "display_data"
    }
   ],
   "source": [
    "#Output Rate during rebalancing\n",
    "d1=[]\n",
    "for dat in ordr1.timestamp:\n",
    "    # print (dat)\n",
    "    d1.append(datetime.strptime(str(dat), \"%Y-%m-%d %H:%M:%S\"))\n",
    "plt.plot(d1,ordr1['values'])\n",
    "plt.xticks(rotation=90)\n",
    "plt.xlabel('time stamps')\n",
    "plt.ylabel('output rate')\n",
    "plt.title('Broker1 Output Rate during Rebalancing')\n",
    "plt.show()"
   ]
  },
  {
   "cell_type": "code",
   "execution_count": 15,
   "metadata": {},
   "outputs": [
    {
     "data": {
      "text/html": [
       "<div>\n",
       "<style scoped>\n",
       "    .dataframe tbody tr th:only-of-type {\n",
       "        vertical-align: middle;\n",
       "    }\n",
       "\n",
       "    .dataframe tbody tr th {\n",
       "        vertical-align: top;\n",
       "    }\n",
       "\n",
       "    .dataframe thead th {\n",
       "        text-align: right;\n",
       "    }\n",
       "</style>\n",
       "<table border=\"1\" class=\"dataframe\">\n",
       "  <thead>\n",
       "    <tr style=\"text-align: right;\">\n",
       "      <th></th>\n",
       "      <th>timestamp</th>\n",
       "      <th>values</th>\n",
       "      <th>pod</th>\n",
       "    </tr>\n",
       "  </thead>\n",
       "  <tbody>\n",
       "    <tr>\n",
       "      <th>0</th>\n",
       "      <td>2021-07-31 14:37:09</td>\n",
       "      <td>28755</td>\n",
       "      <td>my-cluster-metrics-kafka-1</td>\n",
       "    </tr>\n",
       "    <tr>\n",
       "      <th>1</th>\n",
       "      <td>2021-07-31 14:37:39</td>\n",
       "      <td>28755</td>\n",
       "      <td>my-cluster-metrics-kafka-1</td>\n",
       "    </tr>\n",
       "    <tr>\n",
       "      <th>2</th>\n",
       "      <td>2021-07-31 14:38:09</td>\n",
       "      <td>28755</td>\n",
       "      <td>my-cluster-metrics-kafka-1</td>\n",
       "    </tr>\n",
       "  </tbody>\n",
       "</table>\n",
       "</div>"
      ],
      "text/plain": [
       "            timestamp  values                         pod\n",
       "0 2021-07-31 14:37:09   28755  my-cluster-metrics-kafka-1\n",
       "1 2021-07-31 14:37:39   28755  my-cluster-metrics-kafka-1\n",
       "2 2021-07-31 14:38:09   28755  my-cluster-metrics-kafka-1"
      ]
     },
     "execution_count": 15,
     "metadata": {},
     "output_type": "execute_result"
    }
   ],
   "source": [
    "# DA on the Output Rate of Broker-2\n",
    "df2b = pd.read_csv(\"Brok2OR.csv\")\n",
    "df2b.drop(['name'], axis=1, inplace=True)\n",
    "df2b['timestamp'] = pd.to_datetime(df2b['timestamp'], unit='s')\n",
    "df2b.head(3)"
   ]
  },
  {
   "cell_type": "code",
   "execution_count": 16,
   "metadata": {},
   "outputs": [
    {
     "name": "stdout",
     "output_type": "stream",
     "text": [
      "185278125.26153848\n"
     ]
    },
    {
     "data": {
      "text/html": [
       "<div>\n",
       "<style scoped>\n",
       "    .dataframe tbody tr th:only-of-type {\n",
       "        vertical-align: middle;\n",
       "    }\n",
       "\n",
       "    .dataframe tbody tr th {\n",
       "        vertical-align: top;\n",
       "    }\n",
       "\n",
       "    .dataframe thead th {\n",
       "        text-align: right;\n",
       "    }\n",
       "</style>\n",
       "<table border=\"1\" class=\"dataframe\">\n",
       "  <thead>\n",
       "    <tr style=\"text-align: right;\">\n",
       "      <th></th>\n",
       "      <th>values</th>\n",
       "    </tr>\n",
       "  </thead>\n",
       "  <tbody>\n",
       "    <tr>\n",
       "      <th>count</th>\n",
       "      <td>6.500000e+01</td>\n",
       "    </tr>\n",
       "    <tr>\n",
       "      <th>mean</th>\n",
       "      <td>1.852781e+08</td>\n",
       "    </tr>\n",
       "    <tr>\n",
       "      <th>std</th>\n",
       "      <td>1.682228e+08</td>\n",
       "    </tr>\n",
       "    <tr>\n",
       "      <th>min</th>\n",
       "      <td>3.640875e+07</td>\n",
       "    </tr>\n",
       "    <tr>\n",
       "      <th>25%</th>\n",
       "      <td>3.640875e+07</td>\n",
       "    </tr>\n",
       "    <tr>\n",
       "      <th>50%</th>\n",
       "      <td>1.620640e+08</td>\n",
       "    </tr>\n",
       "    <tr>\n",
       "      <th>75%</th>\n",
       "      <td>2.961199e+08</td>\n",
       "    </tr>\n",
       "    <tr>\n",
       "      <th>max</th>\n",
       "      <td>5.615607e+08</td>\n",
       "    </tr>\n",
       "  </tbody>\n",
       "</table>\n",
       "</div>"
      ],
      "text/plain": [
       "             values\n",
       "count  6.500000e+01\n",
       "mean   1.852781e+08\n",
       "std    1.682228e+08\n",
       "min    3.640875e+07\n",
       "25%    3.640875e+07\n",
       "50%    1.620640e+08\n",
       "75%    2.961199e+08\n",
       "max    5.615607e+08"
      ]
     },
     "execution_count": 16,
     "metadata": {},
     "output_type": "execute_result"
    }
   ],
   "source": [
    "#Average Output Rate before rebalancing\n",
    "orbr2 = df2b[(df2b['timestamp'] >= '2021-07-31 14:45:09') & (df2b['timestamp'] <= '2021-07-31 15:17:09')]\n",
    "orbr2.head(3)\n",
    "orbr2avg = orbr2['values'].mean()\n",
    "print(orbr2avg)\n",
    "orbr2.describe()"
   ]
  },
  {
   "cell_type": "code",
   "execution_count": 17,
   "metadata": {},
   "outputs": [
    {
     "name": "stdout",
     "output_type": "stream",
     "text": [
      "746942847.9090909\n"
     ]
    },
    {
     "data": {
      "text/html": [
       "<div>\n",
       "<style scoped>\n",
       "    .dataframe tbody tr th:only-of-type {\n",
       "        vertical-align: middle;\n",
       "    }\n",
       "\n",
       "    .dataframe tbody tr th {\n",
       "        vertical-align: top;\n",
       "    }\n",
       "\n",
       "    .dataframe thead th {\n",
       "        text-align: right;\n",
       "    }\n",
       "</style>\n",
       "<table border=\"1\" class=\"dataframe\">\n",
       "  <thead>\n",
       "    <tr style=\"text-align: right;\">\n",
       "      <th></th>\n",
       "      <th>values</th>\n",
       "    </tr>\n",
       "  </thead>\n",
       "  <tbody>\n",
       "    <tr>\n",
       "      <th>count</th>\n",
       "      <td>2.200000e+01</td>\n",
       "    </tr>\n",
       "    <tr>\n",
       "      <th>mean</th>\n",
       "      <td>7.469428e+08</td>\n",
       "    </tr>\n",
       "    <tr>\n",
       "      <th>std</th>\n",
       "      <td>1.319359e+08</td>\n",
       "    </tr>\n",
       "    <tr>\n",
       "      <th>min</th>\n",
       "      <td>5.637689e+08</td>\n",
       "    </tr>\n",
       "    <tr>\n",
       "      <th>25%</th>\n",
       "      <td>5.922714e+08</td>\n",
       "    </tr>\n",
       "    <tr>\n",
       "      <th>50%</th>\n",
       "      <td>7.990236e+08</td>\n",
       "    </tr>\n",
       "    <tr>\n",
       "      <th>75%</th>\n",
       "      <td>8.458159e+08</td>\n",
       "    </tr>\n",
       "    <tr>\n",
       "      <th>max</th>\n",
       "      <td>8.972230e+08</td>\n",
       "    </tr>\n",
       "  </tbody>\n",
       "</table>\n",
       "</div>"
      ],
      "text/plain": [
       "             values\n",
       "count  2.200000e+01\n",
       "mean   7.469428e+08\n",
       "std    1.319359e+08\n",
       "min    5.637689e+08\n",
       "25%    5.922714e+08\n",
       "50%    7.990236e+08\n",
       "75%    8.458159e+08\n",
       "max    8.972230e+08"
      ]
     },
     "execution_count": 17,
     "metadata": {},
     "output_type": "execute_result"
    }
   ],
   "source": [
    "#Average Output Rate During rebalancing\n",
    "ordr2 = df2b[(df2b['timestamp'] >= '2021-07-31 15:17:39') & (df2b['timestamp'] <= '2021-07-31 15:28:09')]\n",
    "ordr2.head(3)\n",
    "ordr2avg = ordr2['values'].mean()\n",
    "print(ordr2avg)\n",
    "ordr2.describe()"
   ]
  },
  {
   "cell_type": "code",
   "execution_count": 18,
   "metadata": {},
   "outputs": [
    {
     "name": "stdout",
     "output_type": "stream",
     "text": [
      "Ttest_indResult(statistic=14.229769169529812, pvalue=3.304197088632221e-24)\n"
     ]
    }
   ],
   "source": [
    "#T-Stats Analysis\n",
    "resb2or = ttest_ind(ordr2['values'], orbr2['values'])\n",
    "print(resb2or)"
   ]
  },
  {
   "cell_type": "code",
   "execution_count": 19,
   "metadata": {},
   "outputs": [
    {
     "name": "stdout",
     "output_type": "stream",
     "text": [
      "<class 'pandas.core.frame.DataFrame'>\n",
      "Int64Index: 65 entries, 16 to 80\n",
      "Data columns (total 2 columns):\n",
      " #   Column     Non-Null Count  Dtype         \n",
      "---  ------     --------------  -----         \n",
      " 0   timestamp  65 non-null     datetime64[ns]\n",
      " 1   values     65 non-null     int64         \n",
      "dtypes: datetime64[ns](1), int64(1)\n",
      "memory usage: 1.5 KB\n"
     ]
    },
    {
     "name": "stderr",
     "output_type": "stream",
     "text": [
      "C:\\Users\\Bhuvi\\anaconda3\\lib\\site-packages\\pandas\\core\\frame.py:4163: SettingWithCopyWarning: \n",
      "A value is trying to be set on a copy of a slice from a DataFrame\n",
      "\n",
      "See the caveats in the documentation: https://pandas.pydata.org/pandas-docs/stable/user_guide/indexing.html#returning-a-view-versus-a-copy\n",
      "  return super().drop(\n"
     ]
    }
   ],
   "source": [
    "orbr2.drop(['pod'], axis=1, inplace=True)\n",
    "orbr2.head(10)\n",
    "orbr2.info()"
   ]
  },
  {
   "cell_type": "code",
   "execution_count": 20,
   "metadata": {},
   "outputs": [
    {
     "name": "stdout",
     "output_type": "stream",
     "text": [
      "<class 'pandas.core.frame.DataFrame'>\n",
      "Int64Index: 22 entries, 81 to 102\n",
      "Data columns (total 2 columns):\n",
      " #   Column     Non-Null Count  Dtype         \n",
      "---  ------     --------------  -----         \n",
      " 0   timestamp  22 non-null     datetime64[ns]\n",
      " 1   values     22 non-null     int64         \n",
      "dtypes: datetime64[ns](1), int64(1)\n",
      "memory usage: 528.0 bytes\n"
     ]
    }
   ],
   "source": [
    "ordr2.drop(['pod'], axis=1, inplace=True)\n",
    "ordr2.head(10)\n",
    "ordr2.info()"
   ]
  },
  {
   "cell_type": "code",
   "execution_count": 21,
   "metadata": {},
   "outputs": [
    {
     "data": {
      "text/plain": [
       "Text(0.5, 1.0, 'Broker2 Output Rate')"
      ]
     },
     "execution_count": 21,
     "metadata": {},
     "output_type": "execute_result"
    },
    {
     "data": {
      "image/png": "[encoded data removed]",
      "text/plain": [
       "<Figure size 720x288 with 1 Axes>"
      ]
     },
     "metadata": {
      "needs_background": "light"
     },
     "output_type": "display_data"
    }
   ],
   "source": [
    "from datetime import datetime\n",
    "#Output Rate for the entire load test\n",
    "o2=[]\n",
    "for dat in df2b.timestamp:\n",
    "    # print (dat)\n",
    "    o2.append(datetime.strptime(str(dat), \"%Y-%m-%d %H:%M:%S\"))\n",
    "fig2 = plt.figure(figsize=(10,4))\n",
    "axe2 = fig2.add_axes([0.2, 0.1, 0.6, 0.8])\n",
    "axe2.plot(o2,df2b['values'], 'b')\n",
    "axe2.set_xlabel('time stamps')\n",
    "axe2.set_ylabel('output rate')\n",
    "axe2.set_title('Broker2 Output Rate')\n",
    "#fig1.tight_layout()"
   ]
  },
  {
   "cell_type": "code",
   "execution_count": 22,
   "metadata": {},
   "outputs": [
    {
     "data": {
      "image/png": "[encoded data removed]",
      "text/plain": [
       "<Figure size 432x288 with 1 Axes>"
      ]
     },
     "metadata": {
      "needs_background": "light"
     },
     "output_type": "display_data"
    }
   ],
   "source": [
    "#Output Rate before rebalancing\n",
    "b2=[]\n",
    "for dat in orbr2.timestamp:\n",
    "    # print (dat)\n",
    "    b2.append(datetime.strptime(str(dat), \"%Y-%m-%d %H:%M:%S\"))\n",
    "plt.plot(b2,orbr2['values'])\n",
    "plt.xticks(rotation=90)\n",
    "plt.xlabel('time stamps')\n",
    "plt.ylabel('output rate')\n",
    "plt.title('Broker2 Output Rate before Rebalancing')\n",
    "plt.show()"
   ]
  },
  {
   "cell_type": "code",
   "execution_count": 23,
   "metadata": {},
   "outputs": [
    {
     "data": {
      "image/png": "[encoded data removed]",
      "text/plain": [
       "<Figure size 432x288 with 1 Axes>"
      ]
     },
     "metadata": {
      "needs_background": "light"
     },
     "output_type": "display_data"
    }
   ],
   "source": [
    "#Output Rate during rebalancing\n",
    "d2=[]\n",
    "for dat in ordr2.timestamp:\n",
    "    # print (dat)\n",
    "    d2.append(datetime.strptime(str(dat), \"%Y-%m-%d %H:%M:%S\"))\n",
    "plt.plot(d2,ordr2['values'])\n",
    "plt.xticks(rotation=90)\n",
    "plt.xlabel('time stamps')\n",
    "plt.ylabel('output rate')\n",
    "plt.title('Broker2 Output Rate during Rebalancing')\n",
    "plt.show()"
   ]
  },
  {
   "cell_type": "code",
   "execution_count": 25,
   "metadata": {},
   "outputs": [
    {
     "data": {
      "text/html": [
       "<div>\n",
       "<style scoped>\n",
       "    .dataframe tbody tr th:only-of-type {\n",
       "        vertical-align: middle;\n",
       "    }\n",
       "\n",
       "    .dataframe tbody tr th {\n",
       "        vertical-align: top;\n",
       "    }\n",
       "\n",
       "    .dataframe thead th {\n",
       "        text-align: right;\n",
       "    }\n",
       "</style>\n",
       "<table border=\"1\" class=\"dataframe\">\n",
       "  <thead>\n",
       "    <tr style=\"text-align: right;\">\n",
       "      <th></th>\n",
       "      <th>timestamp</th>\n",
       "      <th>values</th>\n",
       "      <th>pod</th>\n",
       "    </tr>\n",
       "  </thead>\n",
       "  <tbody>\n",
       "    <tr>\n",
       "      <th>0</th>\n",
       "      <td>2021-07-31 14:41:02</td>\n",
       "      <td>7072145</td>\n",
       "      <td>my-cluster-metrics-kafka-2</td>\n",
       "    </tr>\n",
       "    <tr>\n",
       "      <th>1</th>\n",
       "      <td>2021-07-31 14:41:32</td>\n",
       "      <td>15466273</td>\n",
       "      <td>my-cluster-metrics-kafka-2</td>\n",
       "    </tr>\n",
       "    <tr>\n",
       "      <th>2</th>\n",
       "      <td>2021-07-31 14:42:02</td>\n",
       "      <td>15466273</td>\n",
       "      <td>my-cluster-metrics-kafka-2</td>\n",
       "    </tr>\n",
       "  </tbody>\n",
       "</table>\n",
       "</div>"
      ],
      "text/plain": [
       "            timestamp    values                         pod\n",
       "0 2021-07-31 14:41:02   7072145  my-cluster-metrics-kafka-2\n",
       "1 2021-07-31 14:41:32  15466273  my-cluster-metrics-kafka-2\n",
       "2 2021-07-31 14:42:02  15466273  my-cluster-metrics-kafka-2"
      ]
     },
     "execution_count": 25,
     "metadata": {},
     "output_type": "execute_result"
    }
   ],
   "source": [
    "# DA on the Output Rate of Broker-3\n",
    "df3b = pd.read_csv(\"Brok3OR.csv\")\n",
    "df3b.drop(['name'], axis=1, inplace=True)\n",
    "df3b['timestamp'] = pd.to_datetime(df3b['timestamp'], unit='s')\n",
    "df3b.head(3)"
   ]
  },
  {
   "cell_type": "code",
   "execution_count": 26,
   "metadata": {},
   "outputs": [
    {
     "name": "stdout",
     "output_type": "stream",
     "text": [
      "159435112.06153846\n"
     ]
    },
    {
     "data": {
      "text/html": [
       "<div>\n",
       "<style scoped>\n",
       "    .dataframe tbody tr th:only-of-type {\n",
       "        vertical-align: middle;\n",
       "    }\n",
       "\n",
       "    .dataframe tbody tr th {\n",
       "        vertical-align: top;\n",
       "    }\n",
       "\n",
       "    .dataframe thead th {\n",
       "        text-align: right;\n",
       "    }\n",
       "</style>\n",
       "<table border=\"1\" class=\"dataframe\">\n",
       "  <thead>\n",
       "    <tr style=\"text-align: right;\">\n",
       "      <th></th>\n",
       "      <th>values</th>\n",
       "    </tr>\n",
       "  </thead>\n",
       "  <tbody>\n",
       "    <tr>\n",
       "      <th>count</th>\n",
       "      <td>6.500000e+01</td>\n",
       "    </tr>\n",
       "    <tr>\n",
       "      <th>mean</th>\n",
       "      <td>1.594351e+08</td>\n",
       "    </tr>\n",
       "    <tr>\n",
       "      <th>std</th>\n",
       "      <td>1.690764e+08</td>\n",
       "    </tr>\n",
       "    <tr>\n",
       "      <th>min</th>\n",
       "      <td>1.546627e+07</td>\n",
       "    </tr>\n",
       "    <tr>\n",
       "      <th>25%</th>\n",
       "      <td>1.546627e+07</td>\n",
       "    </tr>\n",
       "    <tr>\n",
       "      <th>50%</th>\n",
       "      <td>1.114147e+08</td>\n",
       "    </tr>\n",
       "    <tr>\n",
       "      <th>75%</th>\n",
       "      <td>2.650851e+08</td>\n",
       "    </tr>\n",
       "    <tr>\n",
       "      <th>max</th>\n",
       "      <td>5.435700e+08</td>\n",
       "    </tr>\n",
       "  </tbody>\n",
       "</table>\n",
       "</div>"
      ],
      "text/plain": [
       "             values\n",
       "count  6.500000e+01\n",
       "mean   1.594351e+08\n",
       "std    1.690764e+08\n",
       "min    1.546627e+07\n",
       "25%    1.546627e+07\n",
       "50%    1.114147e+08\n",
       "75%    2.650851e+08\n",
       "max    5.435700e+08"
      ]
     },
     "execution_count": 26,
     "metadata": {},
     "output_type": "execute_result"
    }
   ],
   "source": [
    "#Average Output Rate before rebalancing\n",
    "orbr3 = df3b[(df3b['timestamp'] >= '2021-07-31 14:45:02') & (df3b['timestamp'] <= '2021-07-31 15:17:02')]\n",
    "orbr3.head(3)\n",
    "orbr3avg = orbr3['values'].mean()\n",
    "print(orbr3avg)\n",
    "orbr3.describe()"
   ]
  },
  {
   "cell_type": "code",
   "execution_count": 27,
   "metadata": {},
   "outputs": [
    {
     "name": "stdout",
     "output_type": "stream",
     "text": [
      "738521682.3636364\n"
     ]
    },
    {
     "data": {
      "text/html": [
       "<div>\n",
       "<style scoped>\n",
       "    .dataframe tbody tr th:only-of-type {\n",
       "        vertical-align: middle;\n",
       "    }\n",
       "\n",
       "    .dataframe tbody tr th {\n",
       "        vertical-align: top;\n",
       "    }\n",
       "\n",
       "    .dataframe thead th {\n",
       "        text-align: right;\n",
       "    }\n",
       "</style>\n",
       "<table border=\"1\" class=\"dataframe\">\n",
       "  <thead>\n",
       "    <tr style=\"text-align: right;\">\n",
       "      <th></th>\n",
       "      <th>values</th>\n",
       "    </tr>\n",
       "  </thead>\n",
       "  <tbody>\n",
       "    <tr>\n",
       "      <th>count</th>\n",
       "      <td>2.200000e+01</td>\n",
       "    </tr>\n",
       "    <tr>\n",
       "      <th>mean</th>\n",
       "      <td>7.385217e+08</td>\n",
       "    </tr>\n",
       "    <tr>\n",
       "      <th>std</th>\n",
       "      <td>1.220111e+08</td>\n",
       "    </tr>\n",
       "    <tr>\n",
       "      <th>min</th>\n",
       "      <td>5.468605e+08</td>\n",
       "    </tr>\n",
       "    <tr>\n",
       "      <th>25%</th>\n",
       "      <td>6.159737e+08</td>\n",
       "    </tr>\n",
       "    <tr>\n",
       "      <th>50%</th>\n",
       "      <td>7.730500e+08</td>\n",
       "    </tr>\n",
       "    <tr>\n",
       "      <th>75%</th>\n",
       "      <td>8.217464e+08</td>\n",
       "    </tr>\n",
       "    <tr>\n",
       "      <th>max</th>\n",
       "      <td>8.966969e+08</td>\n",
       "    </tr>\n",
       "  </tbody>\n",
       "</table>\n",
       "</div>"
      ],
      "text/plain": [
       "             values\n",
       "count  2.200000e+01\n",
       "mean   7.385217e+08\n",
       "std    1.220111e+08\n",
       "min    5.468605e+08\n",
       "25%    6.159737e+08\n",
       "50%    7.730500e+08\n",
       "75%    8.217464e+08\n",
       "max    8.966969e+08"
      ]
     },
     "execution_count": 27,
     "metadata": {},
     "output_type": "execute_result"
    }
   ],
   "source": [
    "#Average Output Rate During rebalancing\n",
    "ordr3 = df3b[(df3b['timestamp'] >= '2021-07-31 15:17:32') & (df3b['timestamp'] <= '2021-07-31 15:28:02')]\n",
    "ordr3.head(3)\n",
    "ordr3avg = ordr3['values'].mean()\n",
    "print(ordr3avg)\n",
    "ordr3.describe()"
   ]
  },
  {
   "cell_type": "code",
   "execution_count": 28,
   "metadata": {},
   "outputs": [
    {
     "name": "stdout",
     "output_type": "stream",
     "text": [
      "Ttest_indResult(statistic=14.788818227477261, pvalue=3.170839564051365e-25)\n"
     ]
    }
   ],
   "source": [
    "#T-Stats Analysis\n",
    "from scipy.stats import ttest_ind\n",
    "resb3or = ttest_ind(ordr3['values'], orbr3['values'])\n",
    "print(resb3or)"
   ]
  },
  {
   "cell_type": "code",
   "execution_count": 29,
   "metadata": {},
   "outputs": [
    {
     "name": "stdout",
     "output_type": "stream",
     "text": [
      "<class 'pandas.core.frame.DataFrame'>\n",
      "Int64Index: 65 entries, 8 to 72\n",
      "Data columns (total 2 columns):\n",
      " #   Column     Non-Null Count  Dtype         \n",
      "---  ------     --------------  -----         \n",
      " 0   timestamp  65 non-null     datetime64[ns]\n",
      " 1   values     65 non-null     int64         \n",
      "dtypes: datetime64[ns](1), int64(1)\n",
      "memory usage: 1.5 KB\n"
     ]
    },
    {
     "name": "stderr",
     "output_type": "stream",
     "text": [
      "C:\\Users\\Bhuvi\\anaconda3\\lib\\site-packages\\pandas\\core\\frame.py:4163: SettingWithCopyWarning: \n",
      "A value is trying to be set on a copy of a slice from a DataFrame\n",
      "\n",
      "See the caveats in the documentation: https://pandas.pydata.org/pandas-docs/stable/user_guide/indexing.html#returning-a-view-versus-a-copy\n",
      "  return super().drop(\n"
     ]
    }
   ],
   "source": [
    "orbr3.drop(['pod'], axis=1, inplace=True)\n",
    "orbr3.head(10)\n",
    "orbr3.info()"
   ]
  },
  {
   "cell_type": "code",
   "execution_count": 30,
   "metadata": {},
   "outputs": [
    {
     "name": "stdout",
     "output_type": "stream",
     "text": [
      "<class 'pandas.core.frame.DataFrame'>\n",
      "Int64Index: 22 entries, 73 to 94\n",
      "Data columns (total 2 columns):\n",
      " #   Column     Non-Null Count  Dtype         \n",
      "---  ------     --------------  -----         \n",
      " 0   timestamp  22 non-null     datetime64[ns]\n",
      " 1   values     22 non-null     int64         \n",
      "dtypes: datetime64[ns](1), int64(1)\n",
      "memory usage: 528.0 bytes\n"
     ]
    }
   ],
   "source": [
    "ordr3.drop(['pod'], axis=1, inplace=True)\n",
    "ordr3.head(10)\n",
    "ordr3.info()"
   ]
  },
  {
   "cell_type": "code",
   "execution_count": 31,
   "metadata": {},
   "outputs": [
    {
     "data": {
      "text/plain": [
       "Text(0.5, 1.0, 'Broker3 Output Rate')"
      ]
     },
     "execution_count": 31,
     "metadata": {},
     "output_type": "execute_result"
    },
    {
     "data": {
      "image/png": "[encoded data removed]",
      "text/plain": [
       "<Figure size 720x288 with 1 Axes>"
      ]
     },
     "metadata": {
      "needs_background": "light"
     },
     "output_type": "display_data"
    }
   ],
   "source": [
    "from datetime import datetime\n",
    "#Output Rate for the entire load test\n",
    "o3=[]\n",
    "for dat in df3b.timestamp:\n",
    "    # print (dat)\n",
    "    o3.append(datetime.strptime(str(dat), \"%Y-%m-%d %H:%M:%S\"))\n",
    "fig3 = plt.figure(figsize=(10,4))\n",
    "axe3 = fig3.add_axes([0.2, 0.1, 0.6, 0.8])\n",
    "axe3.plot(o3,df3b['values'], 'r')\n",
    "axe3.set_xlabel('time stamps')\n",
    "axe3.set_ylabel('output rate')\n",
    "axe3.set_title('Broker3 Output Rate')\n",
    "#fig1.tight_layout()"
   ]
  },
  {
   "cell_type": "code",
   "execution_count": 32,
   "metadata": {},
   "outputs": [
    {
     "data": {
      "image/png": "[encoded data removed]",
      "text/plain": [
       "<Figure size 432x288 with 1 Axes>"
      ]
     },
     "metadata": {
      "needs_background": "light"
     },
     "output_type": "display_data"
    }
   ],
   "source": [
    "#Output Rate before rebalancing\n",
    "b3=[]\n",
    "for dat in orbr3.timestamp:\n",
    "    # print (dat)\n",
    "    b3.append(datetime.strptime(str(dat), \"%Y-%m-%d %H:%M:%S\"))\n",
    "plt.plot(b3,orbr3['values'])\n",
    "plt.xticks(rotation=90)\n",
    "plt.xlabel('time stamps')\n",
    "plt.ylabel('output rate')\n",
    "plt.title('Broker3 Output Rate before Rebalancing')\n",
    "plt.show()"
   ]
  },
  {
   "cell_type": "code",
   "execution_count": 33,
   "metadata": {},
   "outputs": [
    {
     "data": {
      "image/png": "[encoded data removed]",
      "text/plain": [
       "<Figure size 432x288 with 1 Axes>"
      ]
     },
     "metadata": {
      "needs_background": "light"
     },
     "output_type": "display_data"
    }
   ],
   "source": [
    "#Output Rate during rebalancing\n",
    "d3=[]\n",
    "for dat in ordr3.timestamp:\n",
    "    # print (dat)\n",
    "    d3.append(datetime.strptime(str(dat), \"%Y-%m-%d %H:%M:%S\"))\n",
    "plt.plot(d3,ordr3['values'])\n",
    "plt.xticks(rotation=90)\n",
    "plt.xlabel('time stamps')\n",
    "plt.ylabel('output rate')\n",
    "plt.title('Broker3 Output Rate during Rebalancing')\n",
    "plt.show()"
   ]
  },
  {
   "cell_type": "code",
   "execution_count": null,
   "metadata": {},
   "outputs": [],
   "source": []
  }
 ],
 "metadata": {
  "kernelspec": {
   "display_name": "Python 3",
   "language": "python",
   "name": "python3"
  },
  "language_info": {
   "codemirror_mode": {
    "name": "ipython",
    "version": 3
   },
   "file_extension": ".py",
   "mimetype": "text/x-python",
   "name": "python",
   "nbconvert_exporter": "python",
   "pygments_lexer": "ipython3",
   "version": "3.8.5"
  }
 },
 "nbformat": 4,
 "nbformat_minor": 4
}
