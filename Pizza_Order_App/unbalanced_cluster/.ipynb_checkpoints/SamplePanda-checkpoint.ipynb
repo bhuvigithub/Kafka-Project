{
 "cells": [
  {
   "cell_type": "code",
   "execution_count": 34,
   "metadata": {},
   "outputs": [
    {
     "name": "stdout",
     "output_type": "stream",
     "text": [
      "     timestamp      values                         pod\n",
      "0   1627481717  2154590208  my-cluster-metrics-kafka-2\n",
      "1   1627481728  2154831872  my-cluster-metrics-kafka-2\n",
      "2   1627481739  2155487232  my-cluster-metrics-kafka-2\n",
      "3   1627481757  2155491328  my-cluster-metrics-kafka-2\n",
      "4   1627481776  2149072896  my-cluster-metrics-kafka-2\n",
      "..         ...         ...                         ...\n",
      "71  1627482014  2354184192  my-cluster-metrics-kafka-0\n",
      "72  1627482027  2350178304  my-cluster-metrics-kafka-0\n",
      "73  1627482041  2350780416  my-cluster-metrics-kafka-0\n",
      "74  1627482054  2350780416  my-cluster-metrics-kafka-0\n",
      "75  1627482073  2350891008  my-cluster-metrics-kafka-0\n",
      "\n",
      "[76 rows x 3 columns]\n"
     ]
    }
   ],
   "source": [
    "import pandas as pd\n",
    "import matplotlib.pyplot as plt\n",
    "df = pd.read_csv(\"sample-test.csv\")\n",
    "df.drop(['name'], axis=1, inplace=True)\n",
    "#df.drop(['name,''beta_kubernetes_io_arch', 'beta_kubernetes_io_os', 'container', 'id', 'image', 'instance', 'job', 'kubernetes_io_arch'],axis=1, inplace=True)\n",
    "#df.drop(['kubernetes_io_os','kubernetes_io_hostname', 'minikube_k8s_io_commit', 'minikube_k8s_io_name', 'minikube_k8s_io_updated_at', 'minikube_k8s_io_version'],axis=1, inplace=True)\n",
    "#df.drop(['name.1', 'namespace', 'node_ip', 'node_name', 'pod'],axis=1, inplace=True)\n",
    "print(df)"
   ]
  },
  {
   "cell_type": "code",
   "execution_count": 35,
   "metadata": {},
   "outputs": [],
   "source": [
    "broker0 = df[df['pod']=='my-cluster-metrics-kafka-0']\n",
    "broker1 = df[df['pod']=='my-cluster-metrics-kafka-1']\n",
    "broker2 = df[df['pod']=='my-cluster-metrics-kafka-2']"
   ]
  },
  {
   "cell_type": "code",
   "execution_count": 54,
   "metadata": {},
   "outputs": [],
   "source": [
    "broker0.drop(['pod'], axis=1, inplace=True)\n",
    "broker1.drop(['pod'], axis=1, inplace=True)\n",
    "broker2.drop(['pod'], axis=1, inplace=True)"
   ]
  },
  {
   "cell_type": "code",
   "execution_count": 55,
   "metadata": {},
   "outputs": [
    {
     "data": {
      "text/plain": [
       "[<matplotlib.lines.Line2D at 0x165c754ae50>,\n",
       " <matplotlib.lines.Line2D at 0x165c754aeb0>]"
      ]
     },
     "execution_count": 55,
     "metadata": {},
     "output_type": "execute_result"
    },
    {
     "data": {
      "image/png": "[encoded data removed]",
      "text/plain": [
       "<Figure size 720x288 with 1 Axes>"
      ]
     },
     "metadata": {
      "needs_background": "light"
     },
     "output_type": "display_data"
    }
   ],
   "source": [
    "fig = plt.figure(figsize=(10,4))\n",
    "axes1 = fig.add_axes([0.1, 0.1, 0.8, 0.8])\n",
    "#axes1.plot(df.timestamp, df.values)\n",
    "axes1.plot(broker0.timestamp, broker0.values, 'b')\n",
    "axes1.plot(broker1.timestamp, broker1.values, 'r')\n",
    "axes1.plot(broker2.timestamp, broker2.values, 'g')\n",
    "#axes1.set_xlabel('time stamps')\n",
    "#axes1.set_ylabel('memory usage')\n",
    "#axes1.set_title('Memory Utilization')"
   ]
  },
  {
   "cell_type": "code",
   "execution_count": 56,
   "metadata": {},
   "outputs": [
    {
     "name": "stdout",
     "output_type": "stream",
     "text": [
      "Ttest_indResult(statistic=61.70903911664685, pvalue=4.017592040895423e-48)\n"
     ]
    }
   ],
   "source": [
    "from scipy.stats import ttest_ind\n",
    "result = ttest_ind(broker1['values'], broker2['values'])\n",
    "print(result)"
   ]
  },
  {
   "cell_type": "code",
   "execution_count": null,
   "metadata": {},
   "outputs": [],
   "source": []
  },
  {
   "cell_type": "code",
   "execution_count": null,
   "metadata": {},
   "outputs": [],
   "source": []
  }
 ],
 "metadata": {
  "kernelspec": {
   "display_name": "Python 3",
   "language": "python",
   "name": "python3"
  },
  "language_info": {
   "codemirror_mode": {
    "name": "ipython",
    "version": 3
   },
   "file_extension": ".py",
   "mimetype": "text/x-python",
   "name": "python",
   "nbconvert_exporter": "python",
   "pygments_lexer": "ipython3",
   "version": "3.8.5"
  }
 },
 "nbformat": 4,
 "nbformat_minor": 4
}
