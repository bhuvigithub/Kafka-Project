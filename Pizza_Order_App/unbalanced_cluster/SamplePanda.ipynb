{
 "cells": [
  {
   "cell_type": "code",
   "execution_count": 10,
   "metadata": {},
   "outputs": [
    {
     "name": "stdout",
     "output_type": "stream",
     "text": [
      "                           name   timestamp     values\n",
      "0  container_memory_usage_bytes  1626216096  938676224\n",
      "1  container_memory_usage_bytes  1626216084  938770432\n",
      "2  container_memory_usage_bytes  1626216106  938741760\n",
      "3  container_memory_usage_bytes  1626216100  938741795\n"
     ]
    }
   ],
   "source": [
    "import pandas as pd\n",
    "df = pd.read_csv(\"test.csv\")\n",
    "#print(df)\n",
    "df.drop(['beta_kubernetes_io_arch', 'beta_kubernetes_io_os', 'container', 'id', 'image', 'instance', 'job', 'kubernetes_io_arch'],axis=1, inplace=True)\n",
    "df.drop(['kubernetes_io_os','kubernetes_io_hostname', 'minikube_k8s_io_commit', 'minikube_k8s_io_name', 'minikube_k8s_io_updated_at', 'minikube_k8s_io_version'],axis=1, inplace=True)\n",
    "df.drop(['name.1', 'namespace', 'node_ip', 'node_name', 'pod'],axis=1, inplace=True)\n",
    "print(df)"
   ]
  },
  {
   "cell_type": "code",
   "execution_count": null,
   "metadata": {},
   "outputs": [],
   "source": []
  }
 ],
 "metadata": {
  "kernelspec": {
   "display_name": "Python 3",
   "language": "python",
   "name": "python3"
  },
  "language_info": {
   "codemirror_mode": {
    "name": "ipython",
    "version": 3
   },
   "file_extension": ".py",
   "mimetype": "text/x-python",
   "name": "python",
   "nbconvert_exporter": "python",
   "pygments_lexer": "ipython3",
   "version": "3.8.5"
  }
 },
 "nbformat": 4,
 "nbformat_minor": 4
}
